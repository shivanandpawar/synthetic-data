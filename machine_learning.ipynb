{
 "cells": [
  {
   "cell_type": "code",
   "execution_count": null,
   "metadata": {},
   "outputs": [],
   "source": [
    "```\n",
    "python\n",
    "import snowflake.connector\n",
    "from snowflake.connector import DataFrame\n",
    "import pandas as pd\n",
    "import matplotlib.pyplot as plt\n",
    "\n",
    "# Replace these placeholders with your actual credentials and database details\n",
    "username = 'your_username'\n",
    "password = 'your_password'\n",
    "database_name = 'your_database'\n",
    "schema_name = 'public'\n",
    "table_name = 'PRODUCT_SALES'\n",
    "\n",
    "# Connect to Snowflake\n",
    "conn = snowflake.connector.connect(\n",
    "    username=username,\n",
    "    password=password,\n",
    "    database=database_name,\n",
    "    schema=schema_name,\n",
    "    warehouse='STAGING'\n",
    ")\n",
    "\n",
    "# Create a DataFrame from the table\n",
    "df = DataFrame(conn).from_table(table_name, ['SOLD_PRICE', 'L_QUANTITY'])\n",
    "\n",
    "# Create the scatter plot\n",
    "plt.figure(figsize=(10, 6))\n",
    "plt.scatter(df['SOLD_PRICE'], df['L_QUANTITY'])\n",
    "plt.xlabel('SOLD_PRICE')\n",
    "plt.ylabel('L_QUANTITY')\n",
    "plt.title('Scatter Plot of SOLD_PRICE vs L_QUANTITY')\n",
    "plt.show()\n",
    "\n",
    "# Close the connection\n",
    "conn.close()\n",
    "\n",
    "```"
   ]
  },
  {
   "cell_type": "code",
   "execution_count": null,
   "metadata": {},
   "outputs": [],
   "source": []
  }
 ],
 "metadata": {
  "kernelspec": {
   "display_name": "Python 3",
   "language": "python",
   "name": "python3"
  },
  "language_info": {
   "codemirror_mode": {
    "name": "ipython",
    "version": 3
   },
   "file_extension": ".py",
   "mimetype": "text/x-python",
   "name": "python",
   "nbconvert_exporter": "python",
   "pygments_lexer": "ipython3",
   "version": "3.9.20"
  }
 },
 "nbformat": 4,
 "nbformat_minor": 2
}
