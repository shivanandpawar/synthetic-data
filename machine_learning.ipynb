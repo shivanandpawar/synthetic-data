{
 "cells": [
  {
   "cell_type": "code",
   "execution_count": null,
   "metadata": {},
   "outputs": [],
   "source": [
    "import io\n",
    "import base64\n",
    "import pandas as pd\n",
    "import matplotlib.pyplot as plt\n",
    "\n",
    "data = pd.read_sql_query(\"SELECT * FROM PRODUCT_SALES\", io.StringIO())\n",
    "\n",
    "plt.figure(figsize=(10,6))\n",
    "plt.scatter(data['L_QUANTITY'], data['SOLD_PRICE'])\n",
    "plt.xlabel('L_QUANTITY')\n",
    "plt.ylabel('SOLD_PRICE')\n",
    "plt.title('Scatter Plot of L_quantity vs Sale Price')\n",
    "plt.savefig('plot.png', dpi=300)\n",
    "plt.close()\n",
    "\n",
    "with open('plot.png', 'rb') as file:\n",
    "    response = base64.b64encode(file.read())\n",
    "    \n",
    "return response"
   ]
  }
 ],
 "metadata": {
  "kernelspec": {
   "display_name": "Python 3",
   "language": "python",
   "name": "python3"
  },
  "language_info": {
   "codemirror_mode": {
    "name": "ipython",
    "version": 3
   },
   "file_extension": ".py",
   "mimetype": "text/x-python",
   "name": "python",
   "nbconvert_exporter": "python",
   "pygments_lexer": "ipython3",
   "version": "3.9.20"
  }
 },
 "nbformat": 4,
 "nbformat_minor": 2
}
