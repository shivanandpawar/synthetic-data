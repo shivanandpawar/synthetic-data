{
 "cells": [
  {
   "cell_type": "code",
   "execution_count": null,
   "id": "394a5e61",
   "metadata": {},
   "outputs": [],
   "source": [
    "!pip install torch "
   ]
  },
  {
   "cell_type": "code",
   "execution_count": null,
   "id": "31daccf0",
   "metadata": {},
   "outputs": [
    {
     "name": "stdout",
     "output_type": "stream",
     "text": [
      "Red Hat Universal Base Image 9 (RPMs) - BaseOS   12 kB/s | 3.8 kB     00:00    \n",
      "Red Hat Universal Base Image 9 (RPMs) - BaseOS  1.6 MB/s | 515 kB     00:00    \n",
      "Red Hat Universal Base Image 9 (RPMs) - AppStre  44 kB/s | 4.2 kB     00:00    \n",
      "Red Hat Universal Base Image 9 (RPMs) - AppStre 5.6 MB/s | 1.8 MB     00:00    \n",
      "Red Hat Universal Base Image 9 (RPMs) - CodeRea  31 kB/s | 4.2 kB     00:00    \n",
      "Red Hat Universal Base Image 9 (RPMs) - CodeRea 629 kB/s | 192 kB     00:00    \n",
      "Dependencies resolved.\n",
      "================================================================================\n",
      " Package                Arch   Version               Repository            Size\n",
      "================================================================================\n",
      "Upgrading:\n",
      " \u001b[1m\u001b[32mbinutils              \u001b[m x86_64 2.35.2-42.el9_3.1     ubi-9-baseos-rpms    4.6 M\n",
      " \u001b[1m\u001b[32mbinutils-gold         \u001b[m x86_64 2.35.2-42.el9_3.1     ubi-9-baseos-rpms    734 k\n",
      " \u001b[1m\u001b[32mcurl-minimal          \u001b[m x86_64 7.76.1-26.el9_3.3     ubi-9-baseos-rpms    129 k\n",
      " \u001b[1m\u001b[32mgdb-gdbserver         \u001b[m x86_64 10.2-11.1.el9_3       ubi-9-appstream-rpms 280 k\n",
      " \u001b[1m\u001b[32mglibc                 \u001b[m x86_64 2.34-83.el9_3.12      ubi-9-baseos-rpms    1.9 M\n",
      " \u001b[1m\u001b[32mglibc-common          \u001b[m x86_64 2.34-83.el9_3.12      ubi-9-baseos-rpms    315 k\n",
      " \u001b[1m\u001b[32mglibc-devel           \u001b[m x86_64 2.34-83.el9_3.12      ubi-9-appstream-rpms  50 k\n",
      " \u001b[1m\u001b[32mglibc-headers         \u001b[m x86_64 2.34-83.el9_3.12      ubi-9-appstream-rpms 551 k\n",
      " \u001b[1m\u001b[32mglibc-minimal-langpack\u001b[m x86_64 2.34-83.el9_3.12      ubi-9-baseos-rpms     31 k\n",
      " \u001b[1m\u001b[32mkernel-headers        \u001b[m x86_64 5.14.0-362.24.1.el9_3 ubi-9-appstream-rpms 6.5 M\n",
      " \u001b[1m\u001b[32mlibcurl-minimal       \u001b[m x86_64 7.76.1-26.el9_3.3     ubi-9-baseos-rpms    227 k\n",
      " \u001b[1m\u001b[32mopenssh               \u001b[m x86_64 8.7p1-34.el9_3.3      ubi-9-baseos-rpms    465 k\n",
      " \u001b[1m\u001b[32mopenssh-clients       \u001b[m x86_64 8.7p1-34.el9_3.3      ubi-9-baseos-rpms    722 k\n",
      " \u001b[1m\u001b[32mpython3-pip-wheel     \u001b[m noarch 21.2.3-7.el9_3.1      ubi-9-baseos-rpms    1.1 M\n",
      " \u001b[1m\u001b[32msudo                  \u001b[m x86_64 1.9.5p2-10.el9_3      ubi-9-baseos-rpms    1.1 M\n",
      " \u001b[1m\u001b[32mtzdata                \u001b[m noarch 2024a-1.el9           ubi-9-baseos-rpms    842 k\n",
      "Installing weak dependencies:\n",
      " \u001b[1m\u001b[32mglibc-langpack-en     \u001b[m x86_64 2.34-83.el9_3.12      ubi-9-baseos-rpms    669 k\n",
      " \u001b[1m\u001b[32mlibxcrypt-compat      \u001b[m x86_64 4.4.18-3.el9          ubi-9-appstream-rpms  91 k\n",
      "\n",
      "Transaction Summary\n",
      "================================================================================\n",
      "Install   2 Packages\n",
      "Upgrade  16 Packages\n",
      "\n",
      "Total download size: 20 M\n",
      "Downloading Packages:\n",
      "(1/18): libxcrypt-compat-4.4.18-3.el9.x86_64.rp 519 kB/s |  91 kB     00:00    \n",
      "(2/18): glibc-langpack-en-2.34-83.el9_3.12.x86_ 3.0 MB/s | 669 kB     00:00    \n",
      "(3/18): curl-minimal-7.76.1-26.el9_3.3.x86_64.r 6.0 MB/s | 129 kB     00:00    \n",
      "(4/18): binutils-gold-2.35.2-42.el9_3.1.x86_64. 9.3 MB/s | 734 kB     00:00    \n",
      "(5/18): glibc-common-2.34-83.el9_3.12.x86_64.rp  10 MB/s | 315 kB     00:00    \n",
      "(6/18): glibc-minimal-langpack-2.34-83.el9_3.12 1.8 MB/s |  31 kB     00:00    \n",
      "(7/18): glibc-2.34-83.el9_3.12.x86_64.rpm        19 MB/s | 1.9 MB     00:00    \n",
      "(8/18): libcurl-minimal-7.76.1-26.el9_3.3.x86_6 4.8 MB/s | 227 kB     00:00    \n",
      "(9/18): binutils-2.35.2-42.el9_3.1.x86_64.rpm    12 MB/s | 4.6 MB     00:00    \n",
      "(10/18): openssh-8.7p1-34.el9_3.3.x86_64.rpm    6.4 MB/s | 465 kB     00:00    \n",
      "(11/18): openssh-clients-8.7p1-34.el9_3.3.x86_6 9.2 MB/s | 722 kB     00:00    \n",
      "(12/18): python3-pip-wheel-21.2.3-7.el9_3.1.noa  17 MB/s | 1.1 MB     00:00    \n",
      "(13/18): sudo-1.9.5p2-10.el9_3.x86_64.rpm        18 MB/s | 1.1 MB     00:00    \n",
      "(14/18): gdb-gdbserver-10.2-11.1.el9_3.x86_64.r  11 MB/s | 280 kB     00:00    \n",
      "(15/18): glibc-devel-2.34-83.el9_3.12.x86_64.rp 3.1 MB/s |  50 kB     00:00    \n",
      "(16/18): tzdata-2024a-1.el9.noarch.rpm           11 MB/s | 842 kB     00:00    \n",
      "(17/18): glibc-headers-2.34-83.el9_3.12.x86_64.  16 MB/s | 551 kB     00:00    \n",
      "(18/18): kernel-headers-5.14.0-362.24.1.el9_3.x  58 MB/s | 6.5 MB     00:00    \n",
      "--------------------------------------------------------------------------------\n",
      "Total                                            33 MB/s |  20 MB     00:00     \n",
      "Running transaction check\n",
      "Transaction check succeeded.\n",
      "Running transaction test\n",
      "Transaction test succeeded.\n",
      "Running transaction\n",
      "  Preparing        :                                                        1/1 \n",
      "  Upgrading        : kernel-headers-5.14.0-36 [======================== ]  1/34"
     ]
    }
   ],
   "source": [
    "!sudo yum update -y"
   ]
  },
  {
   "cell_type": "code",
   "execution_count": null,
   "id": "47e1a18e",
   "metadata": {},
   "outputs": [],
   "source": [
    "!sudo yum install -y libsndfile1 "
   ]
  }
 ],
 "metadata": {
  "kernelspec": {
   "display_name": "Python 3",
   "language": "python",
   "name": "python3"
  },
  "language_info": {
   "codemirror_mode": {
    "name": "ipython",
    "version": 3
   },
   "file_extension": ".py",
   "mimetype": "text/x-python",
   "name": "python",
   "nbconvert_exporter": "python",
   "pygments_lexer": "ipython3",
   "version": "3.10.13"
  }
 },
 "nbformat": 4,
 "nbformat_minor": 5
}
