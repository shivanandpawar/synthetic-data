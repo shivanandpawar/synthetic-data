{
 "cells": [
  {
   "cell_type": "code",
   "execution_count": null,
   "id": "e9c50ebb",
   "metadata": {},
   "outputs": [],
   "source": [
    "!pip install torch "
   ]
  },
  {
   "cell_type": "code",
   "execution_count": null,
   "id": "f5fb9aec",
   "metadata": {},
   "outputs": [],
   "source": [
    "!sudo yum update -y"
   ]
  },
  {
   "cell_type": "code",
   "execution_count": null,
   "id": "6582198b",
   "metadata": {},
   "outputs": [],
   "source": [
    "!sudo yum install -y libsndfile "
   ]
  },
  {
   "cell_type": "code",
   "execution_count": 5,
   "id": "e4680591",
   "metadata": {},
   "outputs": [
    {
     "name": "stdout",
     "output_type": "stream",
     "text": [
      "Last metadata expiration check: 0:12:09 ago on Tue Mar 26 12:21:09 2024.\n",
      "epel-release-latest-8.noarch.rpm                 74 kB/s |  25 kB     00:00    \n",
      "Package epel-release-8-19.el8.noarch is already installed.\n",
      "Dependencies resolved.\n",
      "Nothing to do.\n",
      "Complete!\n"
     ]
    }
   ],
   "source": [
    "!sudo yum install https://dl.fedoraproject.org/pub/epel/epel-release-latest-8.noarch.rpm"
   ]
  },
  {
   "cell_type": "code",
   "execution_count": 3,
   "id": "89ffd065",
   "metadata": {},
   "outputs": [
    {
     "name": "stdout",
     "output_type": "stream",
     "text": [
      "Extra Packages for Enterprise Linux 8 - x86_64   17 MB/s |  16 MB     00:00    \n",
      "Last metadata expiration check: 0:00:06 ago on Tue Mar 26 12:21:09 2024.\n",
      "No match for argument: \u001b[1mffmpeg\u001b[m\n",
      "Error: Unable to find a match: ffmpeg\n"
     ]
    }
   ],
   "source": [
    "!sudo yum install ffmpeg"
   ]
  },
  {
   "cell_type": "code",
   "execution_count": 7,
   "id": "b8b22625",
   "metadata": {},
   "outputs": [
    {
     "name": "stdout",
     "output_type": "stream",
     "text": [
      "Nux.Ro RPMs for general desktop use             2.2 MB/s | 4.2 MB     00:01    \n",
      "Last metadata expiration check: 0:00:01 ago on Tue Mar 26 12:36:00 2024.\n",
      "Error: \n",
      " Problem: cannot install the best candidate for the job\n",
      "  - nothing provides libSDL-1.2.so.0()(64bit) needed by ffmpeg-2.8.15-2.el7.nux.x86_64 from nux-dextop\n",
      "  - nothing provides libvdpau.so.1()(64bit) needed by ffmpeg-2.8.15-2.el7.nux.x86_64 from nux-dextop\n",
      "(try to add '--skip-broken' to skip uninstallable packages or '--nobest' to use not only best candidate packages)\n"
     ]
    }
   ],
   "source": [
    "#!sudo yum install -y https://li.nux.ro/download/nux/dextop/el7/x86_64/nux-dextop-release-0-5.el7.nux.noarch.rpm\n",
    "!sudo yum install -y ffmpeg\n"
   ]
  },
  {
   "cell_type": "code",
   "execution_count": null,
   "id": "0ac6e586",
   "metadata": {},
   "outputs": [],
   "source": []
  }
 ],
 "metadata": {
  "kernelspec": {
   "display_name": "Python 3",
   "language": "python",
   "name": "python3"
  },
  "language_info": {
   "codemirror_mode": {
    "name": "ipython",
    "version": 3
   },
   "file_extension": ".py",
   "mimetype": "text/x-python",
   "name": "python",
   "nbconvert_exporter": "python",
   "pygments_lexer": "ipython3",
   "version": "3.10.13"
  }
 },
 "nbformat": 4,
 "nbformat_minor": 5
}
