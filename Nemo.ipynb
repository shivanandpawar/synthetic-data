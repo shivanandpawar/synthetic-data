{
 "cells": [
  {
   "cell_type": "code",
   "execution_count": null,
   "id": "506949b1",
   "metadata": {},
   "outputs": [],
   "source": [
    "!pip install torch "
   ]
  },
  {
   "cell_type": "code",
   "execution_count": null,
   "id": "73e93014",
   "metadata": {},
   "outputs": [],
   "source": [
    "!sudo yum update -y"
   ]
  },
  {
   "cell_type": "code",
   "execution_count": 1,
   "id": "7dfc9846",
   "metadata": {},
   "outputs": [
    {
     "name": "stdout",
     "output_type": "stream",
     "text": [
      "Last metadata expiration check: 0:01:01 ago on Tue Mar 26 11:28:50 2024.\n",
      "Dependencies resolved.\n",
      "================================================================================\n",
      " Package        Arch       Version               Repository                Size\n",
      "================================================================================\n",
      "Installing:\n",
      " \u001b[1m\u001b[32mlibsndfile    \u001b[m x86_64     1.0.31-7.el9          ubi-9-appstream-rpms     209 k\n",
      "Installing dependencies:\n",
      " \u001b[1m\u001b[32mflac-libs     \u001b[m x86_64     1.3.3-10.el9_2.1      ubi-9-appstream-rpms     221 k\n",
      " \u001b[1m\u001b[32mgsm           \u001b[m x86_64     1.0.19-6.el9          ubi-9-appstream-rpms      36 k\n",
      " \u001b[1m\u001b[32mlibogg        \u001b[m x86_64     2:1.3.4-6.el9         ubi-9-appstream-rpms      36 k\n",
      " \u001b[1m\u001b[32mlibvorbis     \u001b[m x86_64     1:1.3.7-5.el9         ubi-9-appstream-rpms     197 k\n",
      " \u001b[1m\u001b[32mopus          \u001b[m x86_64     1.3.1-10.el9          ubi-9-appstream-rpms     201 k\n",
      "\n",
      "Transaction Summary\n",
      "================================================================================\n",
      "Install  6 Packages\n",
      "\n",
      "Total download size: 901 k\n",
      "Installed size: 2.4 M\n",
      "Downloading Packages:\n",
      "(1/6): gsm-1.0.19-6.el9.x86_64.rpm              120 kB/s |  36 kB     00:00    \n",
      "(2/6): libogg-1.3.4-6.el9.x86_64.rpm            109 kB/s |  36 kB     00:00    \n",
      "(3/6): libvorbis-1.3.7-5.el9.x86_64.rpm         4.2 MB/s | 197 kB     00:00    \n",
      "(4/6): libsndfile-1.0.31-7.el9.x86_64.rpm       559 kB/s | 209 kB     00:00    \n",
      "(5/6): opus-1.3.1-10.el9.x86_64.rpm             3.5 MB/s | 201 kB     00:00    \n",
      "(6/6): flac-libs-1.3.3-10.el9_2.1.x86_64.rpm    5.5 MB/s | 221 kB     00:00    \n",
      "--------------------------------------------------------------------------------\n",
      "Total                                           2.2 MB/s | 901 kB     00:00     \n",
      "Running transaction check\n",
      "Transaction check succeeded.\n",
      "Running transaction test\n",
      "Transaction test succeeded.\n",
      "Running transaction\n",
      "  Preparing        :                                                        1/1 \n",
      "  Installing       : libogg-2:1.3.4-6.el9.x86_64                            1/6 \n",
      "  Installing       : libvorbis-1:1.3.7-5.el9.x86_64                         2/6 \n",
      "  Installing       : flac-libs-1.3.3-10.el9_2.1.x86_64                      3/6 \n",
      "  Installing       : opus-1.3.1-10.el9.x86_64                               4/6 \n",
      "  Installing       : gsm-1.0.19-6.el9.x86_64                                5/6 \n",
      "  Installing       : libsndfile-1.0.31-7.el9.x86_64                         6/6 \n",
      "  Running scriptlet: libsndfile-1.0.31-7.el9.x86_64                         6/6 \n",
      "  Verifying        : gsm-1.0.19-6.el9.x86_64                                1/6 \n",
      "  Verifying        : libogg-2:1.3.4-6.el9.x86_64                            2/6 \n",
      "  Verifying        : libsndfile-1.0.31-7.el9.x86_64                         3/6 \n",
      "  Verifying        : libvorbis-1:1.3.7-5.el9.x86_64                         4/6 \n",
      "  Verifying        : opus-1.3.1-10.el9.x86_64                               5/6 \n",
      "  Verifying        : flac-libs-1.3.3-10.el9_2.1.x86_64                      6/6 \n",
      "\n",
      "Installed:\n",
      "  flac-libs-1.3.3-10.el9_2.1.x86_64        gsm-1.0.19-6.el9.x86_64              \n",
      "  libogg-2:1.3.4-6.el9.x86_64              libsndfile-1.0.31-7.el9.x86_64       \n",
      "  libvorbis-1:1.3.7-5.el9.x86_64           opus-1.3.1-10.el9.x86_64             \n",
      "\n",
      "Complete!\n"
     ]
    }
   ],
   "source": [
    "!sudo yum install -y libsndfile "
   ]
  },
  {
   "cell_type": "code",
   "execution_count": null,
   "id": "f5a93c07",
   "metadata": {},
   "outputs": [],
   "source": []
  }
 ],
 "metadata": {
  "kernelspec": {
   "display_name": "Python 3",
   "language": "python",
   "name": "python3"
  },
  "language_info": {
   "codemirror_mode": {
    "name": "ipython",
    "version": 3
   },
   "file_extension": ".py",
   "mimetype": "text/x-python",
   "name": "python",
   "nbconvert_exporter": "python",
   "pygments_lexer": "ipython3",
   "version": "3.10.13"
  }
 },
 "nbformat": 4,
 "nbformat_minor": 5
}
