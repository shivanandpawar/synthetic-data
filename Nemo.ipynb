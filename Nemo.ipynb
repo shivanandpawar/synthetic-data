{
 "cells": [
  {
   "cell_type": "code",
   "execution_count": null,
   "id": "24f4de2c",
   "metadata": {},
   "outputs": [],
   "source": [
    "!pip install torch "
   ]
  },
  {
   "cell_type": "code",
   "execution_count": null,
   "id": "ac13b1fd",
   "metadata": {},
   "outputs": [],
   "source": [
    "!sudo yum update -y"
   ]
  },
  {
   "cell_type": "code",
   "execution_count": null,
   "id": "e8e0a13c",
   "metadata": {},
   "outputs": [],
   "source": [
    "!sudo yum install -y libsndfile "
   ]
  },
  {
   "cell_type": "code",
   "execution_count": 1,
   "id": "35fb0d38",
   "metadata": {},
   "outputs": [
    {
     "name": "stdout",
     "output_type": "stream",
     "text": [
      "Last metadata expiration check: 0:04:15 ago on Tue Mar 26 11:28:50 2024.\n",
      "No match for argument: \u001b[1mffmpeg\u001b[m\n",
      "Error: Unable to find a match: ffmpeg\n"
     ]
    }
   ],
   "source": [
    "!sudo yum install ffmpeg"
   ]
  },
  {
   "cell_type": "code",
   "execution_count": 3,
   "id": "3d161c87",
   "metadata": {},
   "outputs": [
    {
     "name": "stdout",
     "output_type": "stream",
     "text": [
      "Last metadata expiration check: 0:08:40 ago on Tue Mar 26 11:28:50 2024.\r\n",
      "No match for argument: \u001b[1mepel-release\u001b[m\r\n",
      "Error: Unable to find a match: epel-release\r\n"
     ]
    }
   ],
   "source": [
    "!sudo yum install epel-release"
   ]
  },
  {
   "cell_type": "code",
   "execution_count": null,
   "id": "09b8d393",
   "metadata": {},
   "outputs": [],
   "source": []
  }
 ],
 "metadata": {
  "kernelspec": {
   "display_name": "Python 3",
   "language": "python",
   "name": "python3"
  },
  "language_info": {
   "codemirror_mode": {
    "name": "ipython",
    "version": 3
   },
   "file_extension": ".py",
   "mimetype": "text/x-python",
   "name": "python",
   "nbconvert_exporter": "python",
   "pygments_lexer": "ipython3",
   "version": "3.10.13"
  }
 },
 "nbformat": 4,
 "nbformat_minor": 5
}
