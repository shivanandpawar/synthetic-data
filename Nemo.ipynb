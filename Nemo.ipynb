{
 "cells": [
  {
   "cell_type": "code",
   "execution_count": null,
   "id": "8d192a26",
   "metadata": {},
   "outputs": [],
   "source": [
    "!pip install torch "
   ]
  },
  {
   "cell_type": "code",
   "execution_count": null,
   "id": "12ec4884",
   "metadata": {},
   "outputs": [],
   "source": [
    "!sudo yum update -y"
   ]
  },
  {
   "cell_type": "code",
   "execution_count": null,
   "id": "44887a44",
   "metadata": {},
   "outputs": [],
   "source": [
    "!sudo yum install -y libsndfile "
   ]
  },
  {
   "cell_type": "code",
   "execution_count": null,
   "id": "22731a46",
   "metadata": {},
   "outputs": [],
   "source": [
    "!sudo yum install ffmpeg"
   ]
  },
  {
   "cell_type": "code",
   "execution_count": null,
   "id": "3fbcb6df",
   "metadata": {},
   "outputs": [],
   "source": [
    "!sudo yum install epel-release"
   ]
  },
  {
   "cell_type": "code",
   "execution_count": null,
   "id": "431a5a3d",
   "metadata": {},
   "outputs": [],
   "source": []
  }
 ],
 "metadata": {
  "kernelspec": {
   "display_name": "Python 3",
   "language": "python",
   "name": "python3"
  },
  "language_info": {
   "codemirror_mode": {
    "name": "ipython",
    "version": 3
   },
   "file_extension": ".py",
   "mimetype": "text/x-python",
   "name": "python",
   "nbconvert_exporter": "python",
   "pygments_lexer": "ipython3",
   "version": "3.10.13"
  }
 },
 "nbformat": 4,
 "nbformat_minor": 5
}
