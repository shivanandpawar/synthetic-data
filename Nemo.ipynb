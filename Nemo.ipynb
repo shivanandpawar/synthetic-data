{
 "cells": [
  {
   "cell_type": "code",
   "execution_count": null,
   "id": "117586e7",
   "metadata": {},
   "outputs": [],
   "source": [
    "!pip install torch "
   ]
  },
  {
   "cell_type": "code",
   "execution_count": null,
   "id": "851e30e6",
   "metadata": {},
   "outputs": [],
   "source": [
    "!sudo yum update -y"
   ]
  },
  {
   "cell_type": "code",
   "execution_count": null,
   "id": "e8216ebd",
   "metadata": {},
   "outputs": [],
   "source": [
    "!sudo yum install -y libsndfile "
   ]
  },
  {
   "cell_type": "code",
   "execution_count": 5,
   "id": "1477b5ee",
   "metadata": {},
   "outputs": [
    {
     "name": "stdout",
     "output_type": "stream",
     "text": [
      "Last metadata expiration check: 0:12:09 ago on Tue Mar 26 12:21:09 2024.\n",
      "epel-release-latest-8.noarch.rpm                 74 kB/s |  25 kB     00:00    \n",
      "Package epel-release-8-19.el8.noarch is already installed.\n",
      "Dependencies resolved.\n",
      "Nothing to do.\n",
      "Complete!\n"
     ]
    }
   ],
   "source": [
    "!sudo yum install https://dl.fedoraproject.org/pub/epel/epel-release-latest-8.noarch.rpm"
   ]
  },
  {
   "cell_type": "code",
   "execution_count": 3,
   "id": "5089bc10",
   "metadata": {},
   "outputs": [
    {
     "name": "stdout",
     "output_type": "stream",
     "text": [
      "Extra Packages for Enterprise Linux 8 - x86_64   17 MB/s |  16 MB     00:00    \n",
      "Last metadata expiration check: 0:00:06 ago on Tue Mar 26 12:21:09 2024.\n",
      "No match for argument: \u001b[1mffmpeg\u001b[m\n",
      "Error: Unable to find a match: ffmpeg\n"
     ]
    }
   ],
   "source": [
    "!sudo yum install ffmpeg"
   ]
  },
  {
   "cell_type": "code",
   "execution_count": 18,
   "id": "e0ea4900",
   "metadata": {},
   "outputs": [
    {
     "name": "stdout",
     "output_type": "stream",
     "text": [
      "Last metadata expiration check: 0:02:09 ago on Tue Mar 26 12:41:41 2024.\n",
      "Error: \n",
      " Problem: conflicting requests\n",
      "  - nothing provides libSDL-1.2.so.0()(64bit) needed by ffmpeg-2.8.15-2.el7.nux.x86_64 from nux-dextop\n",
      "  - nothing provides libvdpau.so.1()(64bit) needed by ffmpeg-2.8.15-2.el7.nux.x86_64 from nux-dextop\n",
      "  - nothing provides libSDL-1.2.so.0()(64bit) needed by ffmpeg-2.6.3-1.el7.nux.x86_64 from nux-dextop\n",
      "  - nothing provides libvdpau.so.1()(64bit) needed by ffmpeg-2.6.3-1.el7.nux.x86_64 from nux-dextop\n",
      "  - nothing provides libSDL-1.2.so.0()(64bit) needed by ffmpeg-2.3.4-1.el7.nux.x86_64 from nux-dextop\n",
      "  - nothing provides libvdpau.so.1()(64bit) needed by ffmpeg-2.3.4-1.el7.nux.x86_64 from nux-dextop\n",
      "  - nothing provides libSDL-1.2.so.0()(64bit) needed by ffmpeg-2.3.2-1.el7.nux.x86_64 from nux-dextop\n",
      "  - nothing provides libvdpau.so.1()(64bit) needed by ffmpeg-2.3.2-1.el7.nux.x86_64 from nux-dextop\n",
      "  - nothing provides libSDL-1.2.so.0()(64bit) needed by ffmpeg-2.3.4-2.el7.nux.x86_64 from nux-dextop\n",
      "  - nothing provides libvdpau.so.1()(64bit) needed by ffmpeg-2.3.4-2.el7.nux.x86_64 from nux-dextop\n",
      "  - nothing provides libSDL-1.2.so.0()(64bit) needed by ffmpeg-2.6.5-1.el7.nux.x86_64 from nux-dextop\n",
      "  - nothing provides libvdpau.so.1()(64bit) needed by ffmpeg-2.6.5-1.el7.nux.x86_64 from nux-dextop\n",
      "  - nothing provides libSDL-1.2.so.0()(64bit) needed by ffmpeg-2.6.8-3.el7.nux.x86_64 from nux-dextop\n",
      "  - nothing provides libvdpau.so.1()(64bit) needed by ffmpeg-2.6.8-3.el7.nux.x86_64 from nux-dextop\n",
      "  - nothing provides libSDL-1.2.so.0()(64bit) needed by ffmpeg-2.8.15-1.el7.nux.x86_64 from nux-dextop\n",
      "  - nothing provides libvdpau.so.1()(64bit) needed by ffmpeg-2.8.15-1.el7.nux.x86_64 from nux-dextop\n",
      "  - nothing provides libSDL-1.2.so.0()(64bit) needed by ffmpeg-2.2.1-1.el7.nux.x86_64 from nux-dextop\n",
      "  - nothing provides libvdpau.so.1()(64bit) needed by ffmpeg-2.2.1-1.el7.nux.x86_64 from nux-dextop\n",
      "  - nothing provides libSDL-1.2.so.0()(64bit) needed by ffmpeg-2.2.1-2.el7.nux.x86_64 from nux-dextop\n",
      "  - nothing provides libvdpau.so.1()(64bit) needed by ffmpeg-2.2.1-2.el7.nux.x86_64 from nux-dextop\n",
      "  - nothing provides libSDL-1.2.so.0()(64bit) needed by ffmpeg-2.6.8-2.el7.nux.x86_64 from nux-dextop\n",
      "  - nothing provides libvdpau.so.1()(64bit) needed by ffmpeg-2.6.8-2.el7.nux.x86_64 from nux-dextop\n",
      "  - nothing provides libSDL-1.2.so.0()(64bit) needed by ffmpeg-2.6.8-1.el7.nux.x86_64 from nux-dextop\n",
      "  - nothing provides libvdpau.so.1()(64bit) needed by ffmpeg-2.6.8-1.el7.nux.x86_64 from nux-dextop\n",
      "  - nothing provides libSDL2-2.0.so.0()(64bit) needed by ffmpeg-4.2.9-1.el8.x86_64 from rpmfusion-free-updates\n",
      "(try to add '--skip-broken' to skip uninstallable packages)\n"
     ]
    }
   ],
   "source": [
    "#!sudo yum install -y https://li.nux.ro/download/nux/dextop/el7/x86_64/nux-dextop-release-0-5.el7.nux.noarch.rpm\n",
    "!sudo yum install -y ffmpeg --nobest\n"
   ]
  },
  {
   "cell_type": "code",
   "execution_count": 11,
   "id": "0d408515",
   "metadata": {},
   "outputs": [
    {
     "name": "stdout",
     "output_type": "stream",
     "text": [
      "Last metadata expiration check: 0:03:10 ago on Tue Mar 26 12:36:00 2024.\n",
      "Module or Group 'Development Tools' is not available.\n",
      "Error: Nothing to do.\n"
     ]
    }
   ],
   "source": [
    "!sudo yum groupinstall \"Development Tools\""
   ]
  },
  {
   "cell_type": "code",
   "execution_count": 9,
   "id": "114a34f5",
   "metadata": {},
   "outputs": [
    {
     "name": "stdout",
     "output_type": "stream",
     "text": [
      "Last metadata expiration check: 0:02:31 ago on Tue Mar 26 12:36:00 2024.\n",
      "Package glibc-2.34-83.el9_3.12.x86_64 is already installed.\n",
      "Package gcc-11.4.1-2.1.el9.x86_64 is already installed.\n",
      "Package git-2.39.3-1.el9_2.x86_64 is already installed.\n",
      "Package make-1:4.3-7.el9.x86_64 is already installed.\n",
      "No match for argument: \u001b[1mnasm\u001b[m\n",
      "Package pkgconf-pkg-config-1.7.3-10.el9.x86_64 is already installed.\n",
      "No match for argument: \u001b[1mSDL-devel\u001b[m\n",
      "No match for argument: \u001b[1ma52dec\u001b[m\n",
      "No match for argument: \u001b[1ma52dec-devel\u001b[m\n",
      "No match for argument: \u001b[1malsa-lib-devel\u001b[m\n",
      "Package gsm-1.0.19-6.el9.x86_64 is already installed.\n",
      "No match for argument: \u001b[1mgsm-devel\u001b[m\n",
      "No match for argument: \u001b[1mlibICE-devel\u001b[m\n",
      "No match for argument: \u001b[1mlibSM-devel\u001b[m\n",
      "No match for argument: \u001b[1mlibXdmcp-devel\u001b[m\n",
      "No match for argument: \u001b[1mlibXext-devel\u001b[m\n",
      "No match for argument: \u001b[1mlibXrandr-devel\u001b[m\n",
      "No match for argument: \u001b[1mlibXrender-devel\u001b[m\n",
      "No match for argument: \u001b[1mlibXt-devel\u001b[m\n",
      "Package libogg-2:1.3.4-6.el9.x86_64 is already installed.\n",
      "Package libvorbis-1:1.3.7-5.el9.x86_64 is already installed.\n",
      "No match for argument: \u001b[1mvorbis-tools\u001b[m\n",
      "No match for argument: \u001b[1mmesa-libGL-devel\u001b[m\n",
      "No match for argument: \u001b[1mmesa-libGLU-devel\u001b[m\n",
      "No match for argument: \u001b[1mtheora-tools\u001b[m\n",
      "No match for argument: \u001b[1mamrnb-devel\u001b[m\n",
      "No match for argument: \u001b[1mamrwb-devel\u001b[m\n",
      "Error: Unable to find a match: nasm SDL-devel a52dec a52dec-devel alsa-lib-devel gsm-devel libICE-devel libSM-devel libXdmcp-devel libXext-devel libXrandr-devel libXrender-devel libXt-devel vorbis-tools mesa-libGL-devel mesa-libGLU-devel theora-tools amrnb-devel amrwb-devel\n"
     ]
    }
   ],
   "source": [
    "!sudo yum install glibc gcc gcc-c++ autoconf automake libtool git make nasm pkgconfig SDL-devel \\\n",
    "a52dec a52dec-devel alsa-lib-devel faac faac-devel faad2 faad2-devel freetype-devel giflib gsm gsm-devel \\\n",
    "imlib2 imlib2-devel lame lame-devel libICE-devel libSM-devel libX11-devel libXau-devel libXdmcp-devel \\\n",
    "libXext-devel libXrandr-devel libXrender-devel libXt-devel libogg libvorbis vorbis-tools mesa-libGL-devel \\\n",
    "mesa-libGLU-devel xorg-x11-proto-devel zlib-devel libtheora theora-tools ncurses-devel libdc1394 libdc1394-devel \\\n",
    "amrnb-devel amrwb-devel opencore-amr-devel"
   ]
  },
  {
   "cell_type": "code",
   "execution_count": 12,
   "id": "2bcf145d",
   "metadata": {},
   "outputs": [
    {
     "name": "stdout",
     "output_type": "stream",
     "text": [
      "Last metadata expiration check: 0:04:51 ago on Tue Mar 26 12:36:00 2024.\n",
      "rpmfusion-free-release-8.noarch.rpm              14 kB/s |  11 kB     00:00    \n",
      "Dependencies resolved.\n",
      "================================================================================\n",
      " Package                      Architecture Version     Repository          Size\n",
      "================================================================================\n",
      "Installing:\n",
      " \u001b[32mrpmfusion-free-release      \u001b[m noarch       8-0.1       @commandline        11 k\n",
      "\n",
      "Transaction Summary\n",
      "================================================================================\n",
      "Install  1 Package\n",
      "\n",
      "Total size: 11 k\n",
      "Installed size: 3.7 k\n",
      "Downloading Packages:\n",
      "Running transaction check\n",
      "Transaction check succeeded.\n",
      "Running transaction test\n",
      "Transaction test succeeded.\n",
      "Running transaction\n",
      "  Preparing        :                                                        1/1 \n",
      "  Installing       : rpmfusion-free-release-8-0.1.noarch                    1/1 \n",
      "  Verifying        : rpmfusion-free-release-8-0.1.noarch                    1/1 \n",
      "\n",
      "Installed:\n",
      "  rpmfusion-free-release-8-0.1.noarch                                           \n",
      "\n",
      "Complete!\n"
     ]
    }
   ],
   "source": [
    "!sudo dnf install -y https://download1.rpmfusion.org/free/el/rpmfusion-free-release-8.noarch.rpm"
   ]
  },
  {
   "cell_type": "code",
   "execution_count": 13,
   "id": "8cce6808",
   "metadata": {},
   "outputs": [
    {
     "name": "stdout",
     "output_type": "stream",
     "text": [
      "RPM Fusion for EL 8 - Free - Updates            373 kB/s | 326 kB     00:00    \n",
      "rpmfusion-nonfree-release-8.noarch.rpm           22 kB/s |  11 kB     00:00    \n",
      "Dependencies resolved.\n",
      "================================================================================\n",
      " Package                        Arch        Version     Repository         Size\n",
      "================================================================================\n",
      "Installing:\n",
      " \u001b[32mrpmfusion-nonfree-release     \u001b[m noarch      8-0.1       @commandline       11 k\n",
      "\n",
      "Transaction Summary\n",
      "================================================================================\n",
      "Install  1 Package\n",
      "\n",
      "Total size: 11 k\n",
      "Installed size: 3.8 k\n",
      "Downloading Packages:\n",
      "Running transaction check\n",
      "Transaction check succeeded.\n",
      "Running transaction test\n",
      "Transaction test succeeded.\n",
      "Running transaction\n",
      "  Preparing        :                                                        1/1 \n",
      "  Installing       : rpmfusion-nonfree-release-8-0.1.noarch                 1/1 \n",
      "  Verifying        : rpmfusion-nonfree-release-8-0.1.noarch                 1/1 \n",
      "\n",
      "Installed:\n",
      "  rpmfusion-nonfree-release-8-0.1.noarch                                        \n",
      "\n",
      "Complete!\n"
     ]
    }
   ],
   "source": [
    "!sudo dnf install -y https://download1.rpmfusion.org/nonfree/el/rpmfusion-nonfree-release-8.noarch.rpm"
   ]
  },
  {
   "cell_type": "code",
   "execution_count": 16,
   "id": "2782a082",
   "metadata": {},
   "outputs": [
    {
     "name": "stdout",
     "output_type": "stream",
     "text": [
      "Last metadata expiration check: 0:01:20 ago on Tue Mar 26 12:41:41 2024.\n",
      "Dependencies resolved.\n",
      "\n",
      " Problem: cannot install the best candidate for the job\n",
      "  - nothing provides libSDL2-2.0.so.0()(64bit) needed by ffmpeg-4.2.9-1.el8.x86_64 from rpmfusion-free-updates\n",
      "================================================================================\n",
      " Package      Architecture Version           Repository                    Size\n",
      "================================================================================\n",
      "Skipping packages with broken dependencies:\n",
      " ffmpeg       x86_64       4.2.9-1.el8       rpmfusion-free-updates       1.4 M\n",
      "\n",
      "Transaction Summary\n",
      "================================================================================\n",
      "Skip  1 Package\n",
      "\n",
      "Nothing to do.\n",
      "Complete!\n"
     ]
    }
   ],
   "source": [
    "!sudo dnf install ffmpeg --nobest --skip-broken"
   ]
  },
  {
   "cell_type": "code",
   "execution_count": null,
   "id": "7f92a5ae",
   "metadata": {},
   "outputs": [],
   "source": []
  }
 ],
 "metadata": {
  "kernelspec": {
   "display_name": "Python 3",
   "language": "python",
   "name": "python3"
  },
  "language_info": {
   "codemirror_mode": {
    "name": "ipython",
    "version": 3
   },
   "file_extension": ".py",
   "mimetype": "text/x-python",
   "name": "python",
   "nbconvert_exporter": "python",
   "pygments_lexer": "ipython3",
   "version": "3.10.13"
  }
 },
 "nbformat": 4,
 "nbformat_minor": 5
}
