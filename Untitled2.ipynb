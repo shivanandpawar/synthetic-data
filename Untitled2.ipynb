{
 "cells": [
  {
   "cell_type": "code",
   "execution_count": 6,
   "id": "dbd62f72",
   "metadata": {},
   "outputs": [],
   "source": [
    "%gpt generate code to add numbers using python"
   ]
  },
  {
   "cell_type": "code",
   "execution_count": null,
   "id": "fa24abfe",
   "metadata": {},
   "outputs": [],
   "source": [
    "#Declare the two numbers\n",
    "num1 = 10\n",
    "num2 = 20\n",
    "\n",
    "#Add the two numbers\n",
    "sum = num1 + num2\n",
    "\n",
    "#Print the result\n",
    "print(\"The sum of {0} and {1} is {2}\".format(num1, num2, sum))"
   ]
  },
  {
   "cell_type": "code",
   "execution_count": 4,
   "id": "d591492f",
   "metadata": {},
   "outputs": [],
   "source": [
    "%gpt Read file /data/store_sales/train.csv into pandas dataframe"
   ]
  },
  {
   "cell_type": "code",
   "execution_count": 5,
   "id": "b56cc064",
   "metadata": {},
   "outputs": [
    {
     "name": "stdout",
     "output_type": "stream",
     "text": [
      "              id        date  store_nbr                      family     sales  \\\n",
      "0              0  2013-01-01          1                  AUTOMOTIVE     0.000   \n",
      "1              1  2013-01-01          1                   BABY CARE     0.000   \n",
      "2              2  2013-01-01          1                      BEAUTY     0.000   \n",
      "3              3  2013-01-01          1                   BEVERAGES     0.000   \n",
      "4              4  2013-01-01          1                       BOOKS     0.000   \n",
      "...          ...         ...        ...                         ...       ...   \n",
      "3000883  3000883  2017-08-15          9                     POULTRY   438.133   \n",
      "3000884  3000884  2017-08-15          9              PREPARED FOODS   154.553   \n",
      "3000885  3000885  2017-08-15          9                     PRODUCE  2419.729   \n",
      "3000886  3000886  2017-08-15          9  SCHOOL AND OFFICE SUPPLIES   121.000   \n",
      "3000887  3000887  2017-08-15          9                     SEAFOOD    16.000   \n",
      "\n",
      "         onpromotion  \n",
      "0                  0  \n",
      "1                  0  \n",
      "2                  0  \n",
      "3                  0  \n",
      "4                  0  \n",
      "...              ...  \n",
      "3000883            0  \n",
      "3000884            1  \n",
      "3000885          148  \n",
      "3000886            8  \n",
      "3000887            0  \n",
      "\n",
      "[3000888 rows x 6 columns]\n"
     ]
    }
   ],
   "source": [
    "import pandas as pd\n",
    "\n",
    "df = pd.read_csv('/data/store_sales/train.csv')\n",
    "print(df)"
   ]
  },
  {
   "cell_type": "code",
   "execution_count": 12,
   "id": "e561bd32",
   "metadata": {},
   "outputs": [],
   "source": [
    "%gpt create time series features with columns store_nbr, date, family to predict sales in python"
   ]
  },
  {
   "cell_type": "code",
   "execution_count": 18,
   "id": "842faba7",
   "metadata": {},
   "outputs": [],
   "source": [
    "%gpt Create a regression model to predict sales and input columns store_nbr, family in python"
   ]
  },
  {
   "cell_type": "code",
   "execution_count": null,
   "id": "7f106b45",
   "metadata": {},
   "outputs": [],
   "source": []
  }
 ],
 "metadata": {
  "kernelspec": {
   "display_name": "Python 3",
   "language": "python",
   "name": "python3"
  },
  "language_info": {
   "codemirror_mode": {
    "name": "ipython",
    "version": 3
   },
   "file_extension": ".py",
   "mimetype": "text/x-python",
   "name": "python",
   "nbconvert_exporter": "python",
   "pygments_lexer": "ipython3",
   "version": "3.8.12"
  }
 },
 "nbformat": 4,
 "nbformat_minor": 5
}
