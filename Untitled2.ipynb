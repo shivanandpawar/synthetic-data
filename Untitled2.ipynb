{
 "cells": [
  {
   "cell_type": "code",
   "execution_count": 1,
   "id": "dbd62f72",
   "metadata": {},
   "outputs": [
    {
     "name": "stdout",
     "output_type": "stream",
     "text": [
      "Please enter openai api key: ········\n"
     ]
    }
   ],
   "source": [
    "%gpt generate code to add numbers using python"
   ]
  },
  {
   "cell_type": "code",
   "execution_count": null,
   "id": "6343235f",
   "metadata": {},
   "outputs": [],
   "source": [
    "# Using a function\n",
    "def add_numbers(x, y):\n",
    "    return x + y\n",
    "\n",
    "# Using an expression\n",
    "sum = x + y"
   ]
  },
  {
   "cell_type": "code",
   "execution_count": 7,
   "id": "d591492f",
   "metadata": {},
   "outputs": [],
   "source": [
    "%gpt Read file /data/store_sales/train.csv into pandas dataframe"
   ]
  },
  {
   "cell_type": "code",
   "execution_count": 8,
   "id": "d9e3be3c",
   "metadata": {},
   "outputs": [],
   "source": [
    "import pandas as pd\n",
    "\n",
    "df = pd.read_csv('/data/store_sales/train.csv')"
   ]
  },
  {
   "cell_type": "code",
   "execution_count": 10,
   "id": "5aeadece",
   "metadata": {},
   "outputs": [
    {
     "data": {
      "text/html": [
       "<div>\n",
       "<style scoped>\n",
       "    .dataframe tbody tr th:only-of-type {\n",
       "        vertical-align: middle;\n",
       "    }\n",
       "\n",
       "    .dataframe tbody tr th {\n",
       "        vertical-align: top;\n",
       "    }\n",
       "\n",
       "    .dataframe thead th {\n",
       "        text-align: right;\n",
       "    }\n",
       "</style>\n",
       "<table border=\"1\" class=\"dataframe\">\n",
       "  <thead>\n",
       "    <tr style=\"text-align: right;\">\n",
       "      <th></th>\n",
       "      <th>id</th>\n",
       "      <th>date</th>\n",
       "      <th>store_nbr</th>\n",
       "      <th>family</th>\n",
       "      <th>sales</th>\n",
       "      <th>onpromotion</th>\n",
       "    </tr>\n",
       "  </thead>\n",
       "  <tbody>\n",
       "    <tr>\n",
       "      <th>0</th>\n",
       "      <td>0</td>\n",
       "      <td>2013-01-01</td>\n",
       "      <td>1</td>\n",
       "      <td>AUTOMOTIVE</td>\n",
       "      <td>0.0</td>\n",
       "      <td>0</td>\n",
       "    </tr>\n",
       "    <tr>\n",
       "      <th>1</th>\n",
       "      <td>1</td>\n",
       "      <td>2013-01-01</td>\n",
       "      <td>1</td>\n",
       "      <td>BABY CARE</td>\n",
       "      <td>0.0</td>\n",
       "      <td>0</td>\n",
       "    </tr>\n",
       "    <tr>\n",
       "      <th>2</th>\n",
       "      <td>2</td>\n",
       "      <td>2013-01-01</td>\n",
       "      <td>1</td>\n",
       "      <td>BEAUTY</td>\n",
       "      <td>0.0</td>\n",
       "      <td>0</td>\n",
       "    </tr>\n",
       "    <tr>\n",
       "      <th>3</th>\n",
       "      <td>3</td>\n",
       "      <td>2013-01-01</td>\n",
       "      <td>1</td>\n",
       "      <td>BEVERAGES</td>\n",
       "      <td>0.0</td>\n",
       "      <td>0</td>\n",
       "    </tr>\n",
       "    <tr>\n",
       "      <th>4</th>\n",
       "      <td>4</td>\n",
       "      <td>2013-01-01</td>\n",
       "      <td>1</td>\n",
       "      <td>BOOKS</td>\n",
       "      <td>0.0</td>\n",
       "      <td>0</td>\n",
       "    </tr>\n",
       "  </tbody>\n",
       "</table>\n",
       "</div>"
      ],
      "text/plain": [
       "   id        date  store_nbr      family  sales  onpromotion\n",
       "0   0  2013-01-01          1  AUTOMOTIVE    0.0            0\n",
       "1   1  2013-01-01          1   BABY CARE    0.0            0\n",
       "2   2  2013-01-01          1      BEAUTY    0.0            0\n",
       "3   3  2013-01-01          1   BEVERAGES    0.0            0\n",
       "4   4  2013-01-01          1       BOOKS    0.0            0"
      ]
     },
     "execution_count": 10,
     "metadata": {},
     "output_type": "execute_result"
    }
   ],
   "source": [
    "df.head()"
   ]
  },
  {
   "cell_type": "code",
   "execution_count": 12,
   "id": "dbc207ef",
   "metadata": {},
   "outputs": [],
   "source": [
    "%gpt create time series features with columns store_nbr, date, family to predict sales in python"
   ]
  },
  {
   "cell_type": "code",
   "execution_count": null,
   "id": "831e6101",
   "metadata": {},
   "outputs": [],
   "source": [
    "import pandas as pd\n",
    "import numpy as np\n",
    "\n",
    "# read in data\n",
    "data = pd.read_csv('sales_data.csv')\n",
    "\n",
    "# create time series features\n",
    "data['date'] = pd.to_datetime(data['date'])\n",
    "data['day_of_week'] = data['date'].dt.day_name()\n",
    "data['month'] = data['date'].dt.month\n",
    "data['year'] = data['date'].dt.year\n",
    "data['day_of_month'] = data['date'].dt.day\n",
    "\n",
    "# create store-family sales features\n",
    "store_family_sales = data.groupby(['store_nbr', 'family'])['sales'].sum().reset_index()\n",
    "store_family_sales.rename(columns={'sales':'store_family_sales'}, inplace=True)\n",
    "\n",
    "# merge store-family sales features with original data\n",
    "data = data.merge(store_family_sales, on=['store_nbr', 'family'], how='left')\n",
    "\n",
    "# create store-date sales features\n",
    "store_date_sales = data.groupby(['store_nbr', 'date'])['sales'].sum().reset_index()\n",
    "store_date_sales.rename(columns={'sales':'store_date_sales'}, inplace=True)\n",
    "\n",
    "# merge store-date sales features with original data\n",
    "data = data.merge(store_date_sales, on=['store_nbr', 'date'], how='left')\n",
    "\n",
    "# create store-family-date sales features\n",
    "store_family_date_sales = data.groupby(['store_nbr', 'family', 'date'])['sales'].sum().reset_index()\n",
    "store_family_date_sales.rename(columns={'sales':'store_family_date_sales'}, inplace=True)\n",
    "\n",
    "# merge store-family-date sales features with original data\n",
    "data = data.merge(store_family_date_sales, on=['store_nbr', 'family', 'date'], how='left')\n",
    "\n",
    "# create store-family-month sales features\n",
    "store_family_month_sales = data.groupby(['store_nbr', 'family', 'month'])['sales'].sum().reset_index()\n",
    "store_family_month_sales.rename(columns={'sales':'store_family_month_sales'}, inplace=True)\n",
    "\n",
    "# merge store-family-month sales features with original data\n",
    "data = data.merge(store_family_month_sales, on=['store_nbr', 'family', 'month'], how='left')\n",
    "\n",
    "# create store-family-year sales features\n",
    "store_family_year_sales = data.groupby(['store_nbr', 'family', 'year'])['sales'].sum().reset_index()\n",
    "store_family_year_sales.rename(columns={'sales':'store_family_year_sales'}, inplace=True)\n",
    "\n",
    "# merge store-family-year sales features with original data\n",
    "data = data.merge(store_family_year_sales, on=['store_nbr', 'family', 'year'], how='left')\n",
    "\n",
    "# create store-day-of-week sales features\n",
    "store_day_of_week_sales = data.groupby(['store_nbr', 'day_of_week'])['sales'].sum().reset_index()\n",
    "store_day_of_week_sales.rename(columns={'sales':'store_day_of_week_sales'}, inplace=True)\n",
    "\n",
    "# merge store-day-of-week sales features with original data\n",
    "data = data.merge(store_day_of_week_sales, on=['store_nbr', 'day_of_week'], how='left')\n",
    "\n",
    "# create store-day-of-month sales features\n",
    "store_day_of_month_sales = data.groupby(['store_nbr', 'day_of_month'])['sales'].sum().reset_index()\n",
    "store_day_of_month_sales.rename(columns={'sales':'store_day_of_month_sales'}, inplace=True)\n",
    "\n",
    "# merge store"
   ]
  },
  {
   "cell_type": "code",
   "execution_count": null,
   "id": "9883b094",
   "metadata": {},
   "outputs": [],
   "source": []
  }
 ],
 "metadata": {
  "kernelspec": {
   "display_name": "Python 3",
   "language": "python",
   "name": "python3"
  },
  "language_info": {
   "codemirror_mode": {
    "name": "ipython",
    "version": 3
   },
   "file_extension": ".py",
   "mimetype": "text/x-python",
   "name": "python",
   "nbconvert_exporter": "python",
   "pygments_lexer": "ipython3",
   "version": "3.9.16"
  }
 },
 "nbformat": 4,
 "nbformat_minor": 5
}
