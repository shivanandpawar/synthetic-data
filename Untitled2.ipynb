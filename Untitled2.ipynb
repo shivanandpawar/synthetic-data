{
 "cells": [
  {
   "cell_type": "code",
   "execution_count": 1,
   "id": "dbd62f72",
   "metadata": {},
   "outputs": [
    {
     "name": "stdout",
     "output_type": "stream",
     "text": [
      "Please enter openai api key: ········\n"
     ]
    }
   ],
   "source": [
    "%gpt generate code to add numbers using python"
   ]
  },
  {
   "cell_type": "code",
   "execution_count": null,
   "id": "88fd22d0",
   "metadata": {},
   "outputs": [],
   "source": [
    "#Add two numbers\n",
    "num1 = 10\n",
    "num2 = 20\n",
    "\n",
    "#Add two numbers\n",
    "sum = num1 + num2\n",
    "\n",
    "#Print the result\n",
    "print(\"The sum of {0} and {1} is {2}\".format(num1, num2, sum))"
   ]
  },
  {
   "cell_type": "code",
   "execution_count": 4,
   "id": "d591492f",
   "metadata": {},
   "outputs": [],
   "source": [
    "%gpt Read file /data/store_sales/train.csv into pandas dataframe"
   ]
  },
  {
   "cell_type": "code",
   "execution_count": 12,
   "id": "e561bd32",
   "metadata": {},
   "outputs": [],
   "source": [
    "%gpt create time series features with columns store_nbr, date, family to predict sales in python"
   ]
  },
  {
   "cell_type": "code",
   "execution_count": 18,
   "id": "842faba7",
   "metadata": {},
   "outputs": [],
   "source": [
    "%gpt Create a regression model to predict sales and input columns store_nbr, family in python"
   ]
  }
 ],
 "metadata": {
  "kernelspec": {
   "display_name": "Python 3",
   "language": "python",
   "name": "python3"
  },
  "language_info": {
   "codemirror_mode": {
    "name": "ipython",
    "version": 3
   },
   "file_extension": ".py",
   "mimetype": "text/x-python",
   "name": "python",
   "nbconvert_exporter": "python",
   "pygments_lexer": "ipython3",
   "version": "3.8.12"
  }
 },
 "nbformat": 4,
 "nbformat_minor": 5
}
