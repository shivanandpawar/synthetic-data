{
 "cells": [
  {
   "cell_type": "code",
   "execution_count": null,
   "id": "4533c5ce",
   "metadata": {},
   "outputs": [],
   "source": [
    "!sudo yum update -y"
   ]
  },
  {
   "cell_type": "code",
   "execution_count": null,
   "id": "98fad31d",
   "metadata": {},
   "outputs": [],
   "source": [
    "!sudo yum install -y libsndfile "
   ]
  },
  {
   "cell_type": "code",
   "execution_count": null,
   "id": "d4fcb704",
   "metadata": {},
   "outputs": [],
   "source": [
    "!sudo dnf install https://dl.fedoraproject.org/pub/epel/epel-release-latest-8.noarch.rpm -y"
   ]
  },
  {
   "cell_type": "code",
   "execution_count": null,
   "id": "6746af33",
   "metadata": {},
   "outputs": [],
   "source": [
    "#!sudo dnf install ffmpeg  -- Not working"
   ]
  },
  {
   "cell_type": "code",
   "execution_count": null,
   "id": "f8db6b72",
   "metadata": {},
   "outputs": [],
   "source": [
    "#Not working"
   ]
  },
  {
   "cell_type": "code",
   "execution_count": null,
   "id": "b3d9046f",
   "metadata": {},
   "outputs": [],
   "source": [
    "# !sudo yum localinstall –nogpgcheck https://download1.rpmfusion.org/free/el/rpmfusion-free-release-8.noarch.rpm https://download.rpmfusion.org/nonfree/el/rpmfusion-nonfree-release-8.noarch.rpm"
   ]
  },
  {
   "cell_type": "code",
   "execution_count": null,
   "id": "f21b1e61",
   "metadata": {},
   "outputs": [],
   "source": [
    "Not working"
   ]
  },
  {
   "cell_type": "code",
   "execution_count": null,
   "id": "5a09b409",
   "metadata": {},
   "outputs": [],
   "source": [
    "#!sudo yum install https://download1.rpmfusion.org/free/el/rpmfusion-free-release-8.noarch.rpm https://download.rpmfusion.org/nonfree/el/rpmfusion-nonfree-release-8.noarch.rpm"
   ]
  },
  {
   "cell_type": "code",
   "execution_count": null,
   "id": "b73bf7fa",
   "metadata": {},
   "outputs": [],
   "source": [
    "Not working"
   ]
  },
  {
   "cell_type": "code",
   "execution_count": 1,
   "id": "1aef2bb7",
   "metadata": {
    "scrolled": true
   },
   "outputs": [
    {
     "name": "stdout",
     "output_type": "stream",
     "text": [
      "Last metadata expiration check: 0:07:47 ago on Tue Mar 26 12:50:36 2024.\n",
      "rpmfusion-free-release-8.noarch.rpm              22 kB/s |  11 kB     00:00    \n",
      "Dependencies resolved.\n",
      "================================================================================\n",
      " Package                      Architecture Version     Repository          Size\n",
      "================================================================================\n",
      "Installing:\n",
      " \u001b[32mrpmfusion-free-release      \u001b[m noarch       8-0.1       @commandline        11 k\n",
      "\n",
      "Transaction Summary\n",
      "================================================================================\n",
      "Install  1 Package\n",
      "\n",
      "Total size: 11 k\n",
      "Installed size: 3.7 k\n",
      "Downloading Packages:\n",
      "Running transaction check\n",
      "Transaction check succeeded.\n",
      "Running transaction test\n",
      "Transaction test succeeded.\n",
      "Running transaction\n",
      "  Preparing        :                                                        1/1 \n",
      "  Installing       : rpmfusion-free-release-8-0.1.noarch                    1/1 \n",
      "  Verifying        : rpmfusion-free-release-8-0.1.noarch                    1/1 \n",
      "\n",
      "Installed:\n",
      "  rpmfusion-free-release-8-0.1.noarch                                           \n",
      "\n",
      "Complete!\n"
     ]
    }
   ],
   "source": [
    "!sudo yum install https://download1.rpmfusion.org/free/el/rpmfusion-free-release-8.noarch.rpm -y"
   ]
  },
  {
   "cell_type": "code",
   "execution_count": 2,
   "id": "3d698782",
   "metadata": {
    "scrolled": true
   },
   "outputs": [
    {
     "name": "stdout",
     "output_type": "stream",
     "text": [
      "RPM Fusion for EL 8 - Free - Updates            319 kB/s | 326 kB     00:01    \n",
      "[MIRROR] rpmfusion-nonfree-release-8.noarch.rpm: Curl error (6): Couldn't resolve host name for https://download.rpmfusion.org/nonfree/el/rpmfusion-nonfree-release-8.noarch.rpm [Could not resolve host: download.rpmfusion.org]\n",
      "[MIRROR] rpmfusion-nonfree-release-8.noarch.rpm: Curl error (6): Couldn't resolve host name for https://download.rpmfusion.org/nonfree/el/rpmfusion-nonfree-release-8.noarch.rpm [Could not resolve host: download.rpmfusion.org]\n",
      "[MIRROR] rpmfusion-nonfree-release-8.noarch.rpm: Curl error (6): Couldn't resolve host name for https://download.rpmfusion.org/nonfree/el/rpmfusion-nonfree-release-8.noarch.rpm [Could not resolve host: download.rpmfusion.org]\n",
      "[MIRROR] rpmfusion-nonfree-release-8.noarch.rpm: Curl error (6): Couldn't resolve host name for https://download.rpmfusion.org/nonfree/el/rpmfusion-nonfree-release-8.noarch.rpm [Could not resolve host: download.rpmfusion.org]\n",
      "[FAILED] rpmfusion-nonfree-release-8.noarch.rpm: Curl error (6): Couldn't resolve host name for https://download.rpmfusion.org/nonfree/el/rpmfusion-nonfree-release-8.noarch.rpm [Could not resolve host: download.rpmfusion.org]\n",
      "Curl error (6): Couldn't resolve host name for https://download.rpmfusion.org/nonfree/el/rpmfusion-nonfree-release-8.noarch.rpm [Could not resolve host: download.rpmfusion.org]\n"
     ]
    }
   ],
   "source": [
    "!sudo yum install https://download.rpmfusion.org/nonfree/el/rpmfusion-nonfree-release-8.noarch.rpm"
   ]
  },
  {
   "cell_type": "code",
   "execution_count": 3,
   "id": "becb2b53",
   "metadata": {},
   "outputs": [
    {
     "name": "stdout",
     "output_type": "stream",
     "text": [
      "Last metadata expiration check: 0:00:43 ago on Tue Mar 26 12:59:04 2024.\n",
      "Error: \n",
      " Problem: conflicting requests\n",
      "  - nothing provides libSDL2-2.0.so.0()(64bit) needed by ffmpeg-4.2.9-1.el8.x86_64 from rpmfusion-free-updates\n",
      "(try to add '--skip-broken' to skip uninstallable packages or '--nobest' to use not only best candidate packages)\n"
     ]
    }
   ],
   "source": [
    "!sudo yum install ffmpeg "
   ]
  },
  {
   "cell_type": "code",
   "execution_count": 4,
   "id": "7d70e686",
   "metadata": {},
   "outputs": [
    {
     "name": "stdout",
     "output_type": "stream",
     "text": [
      "Last metadata expiration check: 0:01:41 ago on Tue Mar 26 12:59:04 2024.\n",
      "Error: \n",
      " Problem 1: conflicting requests\n",
      "  - nothing provides libSDL2-2.0.so.0()(64bit) needed by ffmpeg-4.2.9-1.el8.x86_64 from rpmfusion-free-updates\n",
      " Problem 2: package ffmpeg-devel-4.2.9-1.el8.x86_64 from rpmfusion-free-updates requires libavdevice(x86-64) = 4.2.9-1.el8, but none of the providers can be installed\n",
      "  - package ffmpeg-devel-4.2.9-1.el8.x86_64 from rpmfusion-free-updates requires libavdevice.so.58()(64bit), but none of the providers can be installed\n",
      "  - conflicting requests\n",
      "  - nothing provides libSDL2-2.0.so.0()(64bit) needed by libavdevice-4.2.9-1.el8.x86_64 from rpmfusion-free-updates\n",
      "  - nothing provides libv4l2.so.0()(64bit) needed by libavdevice-4.2.9-1.el8.x86_64 from rpmfusion-free-updates\n",
      "  - nothing provides libopenal.so.1()(64bit) needed by libavdevice-4.2.9-1.el8.x86_64 from rpmfusion-free-updates\n",
      "  - nothing provides libcdio_cdda.so.2()(64bit) needed by libavdevice-4.2.9-1.el8.x86_64 from rpmfusion-free-updates\n",
      "  - nothing provides libcdio_paranoia.so.2()(64bit) needed by libavdevice-4.2.9-1.el8.x86_64 from rpmfusion-free-updates\n",
      "(try to add '--skip-broken' to skip uninstallable packages or '--nobest' to use not only best candidate packages)\n"
     ]
    }
   ],
   "source": [
    "!sudo yum install ffmpeg ffmpeg-devel -y"
   ]
  },
  {
   "cell_type": "code",
   "execution_count": null,
   "id": "bffd2fdb",
   "metadata": {},
   "outputs": [],
   "source": []
  }
 ],
 "metadata": {
  "kernelspec": {
   "display_name": "Python 3",
   "language": "python",
   "name": "python3"
  },
  "language_info": {
   "codemirror_mode": {
    "name": "ipython",
    "version": 3
   },
   "file_extension": ".py",
   "mimetype": "text/x-python",
   "name": "python",
   "nbconvert_exporter": "python",
   "pygments_lexer": "ipython3",
   "version": "3.10.13"
  }
 },
 "nbformat": 4,
 "nbformat_minor": 5
}
