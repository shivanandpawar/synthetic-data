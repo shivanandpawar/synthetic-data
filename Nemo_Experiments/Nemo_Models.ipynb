{
 "cells": [
  {
   "cell_type": "code",
   "execution_count": null,
   "id": "14f8995b",
   "metadata": {},
   "outputs": [],
   "source": [
    "!sudo yum update -y"
   ]
  },
  {
   "cell_type": "code",
   "execution_count": null,
   "id": "4ac24348",
   "metadata": {},
   "outputs": [],
   "source": [
    "!sudo yum install -y libsndfile "
   ]
  },
  {
   "cell_type": "code",
   "execution_count": 1,
   "id": "b6a1ae26",
   "metadata": {},
   "outputs": [
    {
     "name": "stdout",
     "output_type": "stream",
     "text": [
      "Extra Packages for Enterprise Linux 8 - x86_64   14 MB/s |  16 MB     00:01    \n",
      "Last metadata expiration check: 0:00:06 ago on Tue Mar 26 12:50:36 2024.\n",
      "epel-release-latest-8.noarch.rpm                123 kB/s |  25 kB     00:00    \n",
      "Package epel-release-8-19.el8.noarch is already installed.\n",
      "Dependencies resolved.\n",
      "Nothing to do.\n",
      "Complete!\n"
     ]
    }
   ],
   "source": [
    "!sudo dnf install https://dl.fedoraproject.org/pub/epel/epel-release-latest-8.noarch.rpm -y"
   ]
  },
  {
   "cell_type": "code",
   "execution_count": 2,
   "id": "8c3d03e5",
   "metadata": {},
   "outputs": [
    {
     "name": "stdout",
     "output_type": "stream",
     "text": [
      "Last metadata expiration check: 0:01:53 ago on Tue Mar 26 12:50:36 2024.\n",
      "No match for argument: \u001b[1mffmpeg\u001b[m\n",
      "Error: Unable to find a match: ffmpeg\n"
     ]
    }
   ],
   "source": [
    "#!sudo dnf install ffmpeg  -- Not working"
   ]
  },
  {
   "cell_type": "code",
   "execution_count": null,
   "id": "51911d1b",
   "metadata": {},
   "outputs": [],
   "source": [
    "#Not working"
   ]
  },
  {
   "cell_type": "code",
   "execution_count": 5,
   "id": "7a9b6c76",
   "metadata": {},
   "outputs": [
    {
     "name": "stdout",
     "output_type": "stream",
     "text": [
      "Last metadata expiration check: 0:04:23 ago on Tue Mar 26 12:50:36 2024.\n",
      "Not a valid rpm file path: \u001b[1m–nogpgcheck\u001b[m\n",
      "Error: Nothing to do.\n"
     ]
    }
   ],
   "source": [
    "# !sudo yum localinstall –nogpgcheck https://download1.rpmfusion.org/free/el/rpmfusion-free-release-8.noarch.rpm https://download.rpmfusion.org/nonfree/el/rpmfusion-nonfree-release-8.noarch.rpm"
   ]
  },
  {
   "cell_type": "code",
   "execution_count": null,
   "id": "efe10038",
   "metadata": {},
   "outputs": [],
   "source": [
    "Not working"
   ]
  },
  {
   "cell_type": "code",
   "execution_count": 6,
   "id": "391dcc8c",
   "metadata": {},
   "outputs": [
    {
     "name": "stdout",
     "output_type": "stream",
     "text": [
      "Last metadata expiration check: 0:05:32 ago on Tue Mar 26 12:50:36 2024.\n",
      "rpmfusion-free-release-8.noarch.rpm              16 kB/s |  11 kB     00:00    \n",
      "[MIRROR] rpmfusion-nonfree-release-8.noarch.rpm: Curl error (6): Couldn't resolve host name for https://download.rpmfusion.org/nonfree/el/rpmfusion-nonfree-release-8.noarch.rpm [Could not resolve host: download.rpmfusion.org]\n",
      "[MIRROR] rpmfusion-nonfree-release-8.noarch.rpm: Curl error (6): Couldn't resolve host name for https://download.rpmfusion.org/nonfree/el/rpmfusion-nonfree-release-8.noarch.rpm [Could not resolve host: download.rpmfusion.org]\n",
      "[MIRROR] rpmfusion-nonfree-release-8.noarch.rpm: Curl error (6): Couldn't resolve host name for https://download.rpmfusion.org/nonfree/el/rpmfusion-nonfree-release-8.noarch.rpm [Could not resolve host: download.rpmfusion.org]\n",
      "[MIRROR] rpmfusion-nonfree-release-8.noarch.rpm: Curl error (6): Couldn't resolve host name for https://download.rpmfusion.org/nonfree/el/rpmfusion-nonfree-release-8.noarch.rpm [Could not resolve host: download.rpmfusion.org]\n",
      "[FAILED] rpmfusion-nonfree-release-8.noarch.rpm: Curl error (6): Couldn't resolve host name for https://download.rpmfusion.org/nonfree/el/rpmfusion-nonfree-release-8.noarch.rpm [Could not resolve host: download.rpmfusion.org]\n",
      "Curl error (6): Couldn't resolve host name for https://download.rpmfusion.org/nonfree/el/rpmfusion-nonfree-release-8.noarch.rpm [Could not resolve host: download.rpmfusion.org]\n"
     ]
    }
   ],
   "source": [
    "#!sudo yum install https://download1.rpmfusion.org/free/el/rpmfusion-free-release-8.noarch.rpm https://download.rpmfusion.org/nonfree/el/rpmfusion-nonfree-release-8.noarch.rpm"
   ]
  },
  {
   "cell_type": "code",
   "execution_count": null,
   "id": "109191cd",
   "metadata": {},
   "outputs": [],
   "source": [
    "yum \n",
    "https://download1.rpmfusion.org/free/el/rpmfusion-free-release-8.noarch.rpm https://download.rpmfusion.org/nonfree/el/rpmfusion-nonfree-release-8.noarch.rpm"
   ]
  },
  {
   "cell_type": "code",
   "execution_count": null,
   "id": "7581e00d",
   "metadata": {},
   "outputs": [],
   "source": []
  }
 ],
 "metadata": {
  "kernelspec": {
   "display_name": "Python 3",
   "language": "python",
   "name": "python3"
  },
  "language_info": {
   "codemirror_mode": {
    "name": "ipython",
    "version": 3
   },
   "file_extension": ".py",
   "mimetype": "text/x-python",
   "name": "python",
   "nbconvert_exporter": "python",
   "pygments_lexer": "ipython3",
   "version": "3.10.13"
  }
 },
 "nbformat": 4,
 "nbformat_minor": 5
}
