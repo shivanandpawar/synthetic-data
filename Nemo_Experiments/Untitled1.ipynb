{
 "cells": [
  {
   "cell_type": "code",
   "execution_count": 2,
   "id": "9c5b69c2",
   "metadata": {},
   "outputs": [
    {
     "name": "stdout",
     "output_type": "stream",
     "text": [
      "Status Code 200\n"
     ]
    }
   ],
   "source": [
    "import requests\n",
    "# http://dev.fdc.leni.ai/notebooks/api/v1/notebooks/ml_algo_listing/regressor\n",
    "url = 'http://notebooks-api:5000/notebooks/api/v1/notebooks/ml_algo_listing/regressor'\n",
    "# url = \"http://dev.fdc.leni.ai/notebooks/api/v1/notebooks/ml_algo_listing/regressor\"\n",
    "headers = {\n",
    "    'accept': 'application/json',\n",
    "    'X-Project-Id': 'e20b3f87-3d66-45b1-8047-afc831bd366f',\n",
    "    'X-Auth-Username': 'abhishek1.10658205@ltimindtree.com',\n",
    "    'X-Auth-Email': 'abhishek1.10658205@ltimindtree.com',\n",
    "    'X-Auth-Userid': 'abhishek1.10658205@ltimindtree.com'\n",
    "}\n",
    "response = requests.get(url, headers=headers, verify=False)\n",
    "print(\"Status Code\", response.status_code)"
   ]
  },
  {
   "cell_type": "code",
   "execution_count": null,
   "id": "5ab6027c",
   "metadata": {},
   "outputs": [],
   "source": []
  }
 ],
 "metadata": {
  "kernelspec": {
   "display_name": "Python 3",
   "language": "python",
   "name": "python3"
  },
  "language_info": {
   "codemirror_mode": {
    "name": "ipython",
    "version": 3
   },
   "file_extension": ".py",
   "mimetype": "text/x-python",
   "name": "python",
   "nbconvert_exporter": "python",
   "pygments_lexer": "ipython3",
   "version": "3.9.18"
  }
 },
 "nbformat": 4,
 "nbformat_minor": 5
}
