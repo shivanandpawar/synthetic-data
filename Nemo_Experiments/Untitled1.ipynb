{
 "cells": [
  {
   "cell_type": "code",
   "execution_count": 6,
   "id": "2c6a3135",
   "metadata": {},
   "outputs": [
    {
     "name": "stdout",
     "output_type": "stream",
     "text": [
      "Status Code 200\n",
      "{'sklearn.ensemble.AdaBoostRegressor': {'learning_rate': [0.001, 0.01, 0.1, 0.5, 1.0], 'loss': ['linear', 'square', 'exponential'], 'n_estimators': [100]}, 'sklearn.ensemble.ExtraTreesRegressor': {'bootstrap': [True, False], 'max_features': [0.05, 0.1, 0.15, 0.2, 0.25, 0.3, 0.35, 0.4, 0.45, 0.5, 0.55, 0.6, 0.65, 0.7, 0.75, 0.8, 0.85, 0.9, 0.95, 1], 'min_samples_leaf': [1, 2, 3, 4, 5, 6, 7, 8, 9, 10, 11, 12, 13, 14, 15, 16, 17, 18, 19, 20], 'min_samples_split': [2, 3, 4, 5, 6, 7, 8, 9, 10, 11, 12, 13, 14, 15, 16, 17, 18, 19, 20], 'n_estimators': [100]}, 'sklearn.ensemble.GradientBoostingRegressor': {'alpha': [0.75, 0.8, 0.85, 0.9, 0.95, 0.99], 'learning_rate': [0.001, 0.01, 0.1, 0.5, 1.0], 'loss': ['ls', 'lad', 'huber', 'quantile'], 'max_depth': [1, 2, 3, 4, 5, 6, 7, 8, 9, 10], 'max_features': [0.05, 0.1, 0.15, 0.2, 0.25, 0.3, 0.35, 0.4, 0.45, 0.5, 0.55, 0.6, 0.65, 0.7, 0.75, 0.8, 0.85, 0.9, 0.95, 1], 'min_samples_leaf': [1, 2, 3, 4, 5, 6, 7, 8, 9, 10, 11, 12, 13, 14, 15, 16, 17, 18, 19, 20], 'min_samples_split': [2, 3, 4, 5, 6, 7, 8, 9, 10, 11, 12, 13, 14, 15, 16, 17, 18, 19, 20], 'n_estimators': [100], 'subsample': [0.05, 0.1, 0.15, 0.2, 0.25, 0.3, 0.35, 0.4, 0.45, 0.5, 0.55, 0.6, 0.65, 0.7, 0.75, 0.8, 0.85, 0.9, 0.95, 1]}, 'sklearn.ensemble.RandomForestRegressor': {'bootstrap': [True, False], 'max_features': [0.05, 0.1, 0.15, 0.2, 0.25, 0.3, 0.35, 0.4, 0.45, 0.5, 0.55, 0.6, 0.65, 0.7, 0.75, 0.8, 0.85, 0.9, 0.95, 1], 'min_samples_leaf': [1, 2, 3, 4, 5, 6, 7, 8, 9, 10, 11, 12, 13, 14, 15, 16, 17, 18, 19, 20], 'min_samples_split': [2, 3, 4, 5, 6, 7, 8, 9, 10, 11, 12, 13, 14, 15, 16, 17, 18, 19, 20], 'n_estimators': [100]}, 'sklearn.linear_model.ElasticNetCV': {'l1_ratio': [0, 0.05, 0.1, 0.15, 0.2, 0.25, 0.3, 0.35, 0.4, 0.45, 0.5, 0.55, 0.6, 0.65, 0.7, 0.75, 0.8, 0.85, 0.9, 0.95, 1], 'tol': [1e-05, 0.0001, 0.001, 0.01, 0.1]}, 'sklearn.linear_model.LassoLarsCV': {'normalize': [True, False]}, 'sklearn.linear_model.RidgeCV': {}, 'sklearn.linear_model.SGDRegressor': {'alpha': [0.0, 0.01, 0.001], 'eta0': [0.1, 1.0, 0.01], 'fit_intercept': [True, False], 'l1_ratio': [0.25, 0.0, 1.0, 0.75, 0.5], 'learning_rate': ['invscaling', 'constant'], 'loss': ['squared_loss', 'huber', 'epsilon_insensitive'], 'penalty': ['elasticnet'], 'power_t': [0.5, 0.0, 1.0, 0.1, 100.0, 10.0, 50.0]}, 'sklearn.neighbors.KNeighborsRegressor': {'n_neighbors': [1, 2, 3, 4, 5, 6, 7, 8, 9, 10, 11, 12, 13, 14, 15, 16, 17, 18, 19, 20, 21, 22, 23, 24, 25, 26, 27, 28, 29, 30, 31, 32, 33, 34, 35, 36, 37, 38, 39, 40, 41, 42, 43, 44, 45, 46, 47, 48, 49, 50, 51, 52, 53, 54, 55, 56, 57, 58, 59, 60, 61, 62, 63, 64, 65, 66, 67, 68, 69, 70, 71, 72, 73, 74, 75, 76, 77, 78, 79, 80, 81, 82, 83, 84, 85, 86, 87, 88, 89, 90, 91, 92, 93, 94, 95, 96, 97, 98, 99, 100], 'p': [1, 2], 'weights': ['uniform', 'distance']}, 'sklearn.svm.LinearSVR': {'C': [0.0001, 0.001, 0.01, 0.1, 0.5, 1.0, 5.0, 10.0, 15.0, 20.0, 25.0], 'dual': [True, False], 'epsilon': [0.0001, 0.001, 0.01, 0.1, 1.0], 'loss': ['epsilon_insensitive', 'squared_epsilon_insensitive'], 'tol': [1e-05, 0.0001, 0.001, 0.01, 0.1]}, 'sklearn.tree.DecisionTreeRegressor': {'max_depth': [1, 2, 3, 4, 5, 6, 7, 8, 9, 10], 'min_samples_leaf': [1, 2, 3, 4, 5, 6, 7, 8, 9, 10, 11, 12, 13, 14, 15, 16, 17, 18, 19, 20], 'min_samples_split': [2, 3, 4, 5, 6, 7, 8, 9, 10, 11, 12, 13, 14, 15, 16, 17, 18, 19, 20]}, 'xgboost.XGBRegressor': {'learning_rate': [0.001, 0.01, 0.1, 0.5, 1.0], 'max_depth': [1, 2, 3, 4, 5, 6, 7, 8, 9, 10], 'min_child_weight': [1, 2, 3, 4, 5, 6, 7, 8, 9, 10, 11, 12, 13, 14, 15, 16, 17, 18, 19, 20], 'n_estimators': [100], 'n_jobs': [1], 'objective': ['reg:squarederror'], 'subsample': [0.05, 0.1, 0.15, 0.2, 0.25, 0.3, 0.35, 0.4, 0.45, 0.5, 0.55, 0.6, 0.65, 0.7, 0.75, 0.8, 0.85, 0.9, 0.95, 1], 'verbosity': [0]}}\n"
     ]
    }
   ],
   "source": [
    "import requests\n",
    "# http://dev.fdc.leni.ai/notebooks/api/v1/notebooks/ml_algo_listing/regressor\n",
    "url = 'http://notebooks-api:5000/notebooks/api/v1/notebooks/ml_algo_listing/regressor'\n",
    "# url = \"http://dev.fdc.leni.ai/notebooks/api/v1/notebooks/ml_algo_listing/regressor\"\n",
    "headers = {\n",
    "\n",
    "    'accept': 'application/json',\n",
    "\n",
    "    'X-Project-Id': 'fef1ee18-70cc-4f1f-ac9a-5283a6aeeb0b',\n",
    "\n",
    "    'X-Auth-Username': 'fdcuser@fosfor.com',\n",
    "\n",
    "    'X-Auth-Email': 'fdcuser@fosfor.com',\n",
    "\n",
    "    'X-Auth-Userid': 'fdcuser@fosfor.com'\n",
    "\n",
    "}\n",
    "response = requests.get(url, headers=headers, verify=False)\n",
    "print(\"Status Code\", response.status_code)\n",
    "print(response.json())"
   ]
  },
  {
   "cell_type": "code",
   "execution_count": null,
   "id": "c48bed2e",
   "metadata": {},
   "outputs": [],
   "source": []
  }
 ],
 "metadata": {
  "kernelspec": {
   "display_name": "Python 3",
   "language": "python",
   "name": "python3"
  },
  "language_info": {
   "codemirror_mode": {
    "name": "ipython",
    "version": 3
   },
   "file_extension": ".py",
   "mimetype": "text/x-python",
   "name": "python",
   "nbconvert_exporter": "python",
   "pygments_lexer": "ipython3",
   "version": "3.9.18"
  }
 },
 "nbformat": 4,
 "nbformat_minor": 5
}
