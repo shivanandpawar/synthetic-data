{
 "cells": [
  {
   "cell_type": "code",
   "execution_count": 4,
   "id": "9b7631d2",
   "metadata": {},
   "outputs": [],
   "source": [
    "# !pip install torch"
   ]
  },
  {
   "cell_type": "code",
   "execution_count": 5,
   "id": "783b7cde",
   "metadata": {},
   "outputs": [],
   "source": [
    "# !pip install torch torchvision torchaudio"
   ]
  },
  {
   "cell_type": "code",
   "execution_count": 7,
   "id": "194e392d",
   "metadata": {},
   "outputs": [],
   "source": [
    "# !sudo conda install pytorch -c pytorch -y"
   ]
  },
  {
   "cell_type": "code",
   "execution_count": 1,
   "id": "c5f992a2",
   "metadata": {},
   "outputs": [],
   "source": [
    "# import torch\n",
    "# torch.__version__"
   ]
  },
  {
   "cell_type": "code",
   "execution_count": 3,
   "id": "2c29bebc",
   "metadata": {},
   "outputs": [],
   "source": [
    "# !sudo yum update -y"
   ]
  },
  {
   "cell_type": "code",
   "execution_count": 5,
   "id": "028248fd",
   "metadata": {},
   "outputs": [
    {
     "name": "stdout",
     "output_type": "stream",
     "text": [
      "--2024-03-27 07:05:34--  https://ftp.lysator.liu.se/pub/opensuse/source/distribution/leap/15.5/repo/oss/src/libsndfile-1.0.28-150000.5.17.1.src.rpm\n",
      "Resolving ftp.lysator.liu.se (ftp.lysator.liu.se)... 130.236.254.253, 130.236.254.251, 2001:6b0:17:f0a0::fd, ...\n",
      "Connecting to ftp.lysator.liu.se (ftp.lysator.liu.se)|130.236.254.253|:443... connected.\n",
      "HTTP request sent, awaiting response... 200 OK\n",
      "Length: 1241928 (1.2M) [application/x-redhat-package-manager]\n",
      "Saving to: ‘libsndfile-1.0.28-150000.5.17.1.src.rpm’\n",
      "\n",
      "libsndfile-1.0.28-1 100%[===================>]   1.18M  1.57MB/s    in 0.8s    \n",
      "\n",
      "2024-03-27 07:05:36 (1.57 MB/s) - ‘libsndfile-1.0.28-150000.5.17.1.src.rpm’ saved [1241928/1241928]\n",
      "\n"
     ]
    }
   ],
   "source": [
    "!sudo wget https://ftp.lysator.liu.se/pub/opensuse/source/distribution/leap/15.5/repo/oss/src/libsndfile-1.0.28-150000.5.17.1.src.rpm"
   ]
  },
  {
   "cell_type": "code",
   "execution_count": 6,
   "id": "61401cc6",
   "metadata": {},
   "outputs": [
    {
     "name": "stdout",
     "output_type": "stream",
     "text": [
      "total 1412\r\n",
      "-rw-r--r-- 1 root      root      1241928 Jun  2  2022 libsndfile-1.0.28-150000.5.17.1.src.rpm\r\n",
      "-rw-r--r-- 1 root      root       176968 Jun  2  2022 libsndfile1-1.0.28-150000.5.17.1.aarch64.rpm\r\n",
      "-rwxrwxrwx 1 mosaic-ai mosaic-ai    8946 Mar 27 06:57 Nemo_Models.ipynb\r\n",
      "-rwxrwxrwx 1 mosaic-ai mosaic-ai    5972 Mar 27 07:04 Untitled.ipynb\r\n"
     ]
    }
   ],
   "source": [
    "!ls -lrt"
   ]
  },
  {
   "cell_type": "code",
   "execution_count": 7,
   "id": "e7dee16d",
   "metadata": {},
   "outputs": [
    {
     "name": "stdout",
     "output_type": "stream",
     "text": [
      "warning: libsndfile-1.0.28-150000.5.17.1.src.rpm: Header V3 RSA/SHA256 Signature, key ID 39db7c82: NOKEY\r\n"
     ]
    }
   ],
   "source": [
    "!sudo rpm -i libsndfile-1.0.28-150000.5.17.1.src.rpm"
   ]
  },
  {
   "cell_type": "code",
   "execution_count": 8,
   "id": "f34803fa",
   "metadata": {},
   "outputs": [
    {
     "name": "stdout",
     "output_type": "stream",
     "text": [
      "Last metadata expiration check: 0:04:38 ago on Wed Mar 27 07:01:38 2024.\r\n",
      "No match for argument: \u001b[1mlibsndfile1\u001b[m\r\n",
      "Error: Unable to find a match: libsndfile1\r\n"
     ]
    }
   ],
   "source": [
    "!sudo yum install -y libsndfile1"
   ]
  },
  {
   "cell_type": "code",
   "execution_count": 9,
   "id": "35dff861",
   "metadata": {},
   "outputs": [
    {
     "name": "stdout",
     "output_type": "stream",
     "text": [
      "/usr/bin/sh: line 1: libsndfile1: command not found\r\n"
     ]
    }
   ],
   "source": [
    "!libsndfile1"
   ]
  },
  {
   "cell_type": "code",
   "execution_count": 1,
   "id": "3e3e38e0",
   "metadata": {},
   "outputs": [],
   "source": [
    "# !pip install Cython"
   ]
  },
  {
   "cell_type": "code",
   "execution_count": 2,
   "id": "bc38c92f",
   "metadata": {},
   "outputs": [],
   "source": [
    "# pip install Cython\n"
   ]
  },
  {
   "cell_type": "code",
   "execution_count": 7,
   "id": "24e8b82e",
   "metadata": {},
   "outputs": [],
   "source": [
    "# !cat /etc/redhat-release"
   ]
  },
  {
   "cell_type": "code",
   "execution_count": null,
   "id": "f6b0f55c",
   "metadata": {},
   "outputs": [
    {
     "name": "stdout",
     "output_type": "stream",
     "text": [
      "Collecting nemo_toolkit[all]\n",
      "\u001b[?25l  Downloading https://files.pythonhosted.org/packages/5e/b8/7df0f944ffb1d6a18cd44f15d7524cc9cf3eddc268f7cef2cf37beea219d/nemo_toolkit-1.23.0-py3-none-any.whl (3.2MB)\n",
      "\u001b[K     |████████████████████████████████| 3.2MB 1.5MB/s eta 0:00:01\n",
      "\u001b[?25hCollecting setuptools>=65.5.1\n",
      "\u001b[?25l  Downloading https://files.pythonhosted.org/packages/92/e1/1c8bb3420105e70bdf357d57dd5567202b4ef8d27f810e98bb962d950834/setuptools-69.2.0-py3-none-any.whl (821kB)\n",
      "\u001b[K     |████████████████████████████████| 829kB 6.8MB/s eta 0:00:01\n",
      "\u001b[?25hCollecting wget\n",
      "  Downloading https://files.pythonhosted.org/packages/47/6a/62e288da7bcda82b935ff0c6cfe542970f04e29c756b0e147251b2fb251f/wget-3.2.zip\n",
      "Collecting tqdm>=4.41.0\n",
      "\u001b[?25l  Downloading https://files.pythonhosted.org/packages/2a/14/e75e52d521442e2fcc9f1df3c5e456aead034203d4797867980de558ab34/tqdm-4.66.2-py3-none-any.whl (78kB)\n",
      "\u001b[K     |████████████████████████████████| 81kB 5.1MB/s eta 0:00:011\n",
      "\u001b[?25hCollecting numba\n",
      "\u001b[?25l  Downloading https://files.pythonhosted.org/packages/f6/2d/f8cdcf325c8fbdfff911607d184e28eb7c94ca5c4760d7f149323404778a/numba-0.59.1-cp310-cp310-manylinux2014_x86_64.manylinux_2_17_x86_64.whl (3.7MB)\n",
      "\u001b[K     |████████████████████████████████| 3.7MB 6.7MB/s eta 0:00:01\n",
      "\u001b[?25hCollecting ruamel.yaml\n",
      "\u001b[?25l  Downloading https://files.pythonhosted.org/packages/73/67/8ece580cc363331d9a53055130f86b096bf16e38156e33b1d3014fffda6b/ruamel.yaml-0.18.6-py3-none-any.whl (117kB)\n",
      "\u001b[K     |████████████████████████████████| 122kB 6.8MB/s eta 0:00:01\n",
      "\u001b[?25hCollecting onnx>=1.7.0\n",
      "\u001b[?25l  Downloading https://files.pythonhosted.org/packages/49/5f/d8e1a24247f506a77cbe22341c72ca91bea3b468c5d6bca2047d885ea3c6/onnx-1.16.0-cp310-cp310-manylinux_2_17_x86_64.manylinux2014_x86_64.whl (15.9MB)\n",
      "\u001b[K     |████████████████████████████████| 15.9MB 5.0MB/s eta 0:00:01\n",
      "\u001b[?25hCollecting triton\n",
      "\u001b[?25l  Downloading https://files.pythonhosted.org/packages/95/05/ed974ce87fe8c8843855daa2136b3409ee1c126707ab54a8b72815c08b49/triton-2.2.0-cp310-cp310-manylinux_2_17_x86_64.manylinux2014_x86_64.whl (167.9MB)\n",
      "\u001b[K     |████████████████████████████████| 167.9MB 100kB/s eta 0:00:01    |███▋                            | 18.9MB 4.0MB/s eta 0:00:38\n",
      "\u001b[?25hCollecting huggingface-hub\n",
      "\u001b[?25l  Downloading https://files.pythonhosted.org/packages/b6/51/d418bb7bb9e32845d3cb4d526012ddf1fea6bb3d55b6a1880698e4b7f19f/huggingface_hub-0.22.1-py3-none-any.whl (388kB)\n",
      "\u001b[K     |████████████████████████████████| 389kB 4.9MB/s eta 0:00:01\n",
      "\u001b[?25hCollecting tensorboard\n",
      "\u001b[?25l  Downloading https://files.pythonhosted.org/packages/3a/d0/b97889ffa769e2d1fdebb632084d5e8b53fc299d43a537acee7ec0c021a3/tensorboard-2.16.2-py3-none-any.whl (5.5MB)\n",
      "\u001b[K     |████████████████████████████████| 5.5MB 4.7MB/s eta 0:00:01\n",
      "\u001b[?25hCollecting wrapt\n",
      "\u001b[?25l  Downloading https://files.pythonhosted.org/packages/49/83/b40bc1ad04a868b5b5bcec86349f06c1ee1ea7afe51dc3e46131e4f39308/wrapt-1.16.0-cp310-cp310-manylinux_2_5_x86_64.manylinux1_x86_64.manylinux_2_17_x86_64.manylinux2014_x86_64.whl (80kB)\n",
      "\u001b[K     |████████████████████████████████| 81kB 3.6MB/s eta 0:00:011\n",
      "\u001b[?25hCollecting text-unidecode\n",
      "\u001b[?25l  Downloading https://files.pythonhosted.org/packages/a6/a5/c0b6468d3824fe3fde30dbb5e1f687b291608f9473681bbf7dabbf5a87d7/text_unidecode-1.3-py2.py3-none-any.whl (78kB)\n",
      "\u001b[K     |████████████████████████████████| 81kB 5.4MB/s eta 0:00:011\n",
      "\u001b[?25hCollecting torch\n",
      "\u001b[?25l  Downloading https://files.pythonhosted.org/packages/a7/ad/fbe7d4cffb76da4e478438853b51305361c719cff929ab70a808e7fb75e7/torch-2.2.1-cp310-cp310-manylinux1_x86_64.whl (755.5MB)\n",
      "\u001b[K     |████████████████████████████████| 755.5MB 20kB/s  eta 0:00:01   |                                | 368kB 6.7MB/s eta 0:01:54     |████████▉                       | 209.4MB 5.8MB/s eta 0:01:35     |████████████                    | 284.7MB 2.1MB/s eta 0:03:40     |█████████████                   | 307.8MB 5.5MB/s eta 0:01:22     |████████████████████████▊       | 583.7MB 3.0MB/s eta 0:00:58\n",
      "\u001b[?25hCollecting python-dateutil\n",
      "\u001b[?25l  Downloading https://files.pythonhosted.org/packages/ec/57/56b9bcc3c9c6a792fcbaf139543cee77261f3651ca9da0c93f5c1221264b/python_dateutil-2.9.0.post0-py2.py3-none-any.whl (229kB)\n",
      "\u001b[K     |████████████████████████████████| 235kB 1.7MB/s eta 0:00:01\n",
      "\u001b[?25hCollecting numpy>=1.22\n",
      "\u001b[?25l  Downloading https://files.pythonhosted.org/packages/4b/d7/ecf66c1cd12dc28b4040b15ab4d17b773b87fa9d29ca16125de01adb36cd/numpy-1.26.4-cp310-cp310-manylinux_2_17_x86_64.manylinux2014_x86_64.whl (18.2MB)\n",
      "\u001b[K     |████████████████████████████████| 18.2MB 4.3MB/s eta 0:00:01\n",
      "\u001b[?25hCollecting scikit-learn\n",
      "\u001b[?25l  Downloading https://files.pythonhosted.org/packages/bc/b9/6a637668d69de04b7f8b917e837aff282950601f09998a5f6c9f23f6642d/scikit_learn-1.4.1.post1-cp310-cp310-manylinux_2_17_x86_64.manylinux2014_x86_64.whl (12.1MB)\n",
      "\u001b[K     |████████████████████████████████| 12.1MB 5.1MB/s eta 0:00:01\n",
      "\u001b[?25hCollecting faiss-cpu; extra == \"all\"\n",
      "\u001b[?25l  Downloading https://files.pythonhosted.org/packages/06/f0/47615aeed86433e6ed84ea1c5e6fc650723fead0d7c30d56c78689bdb0b6/faiss_cpu-1.8.0-cp310-cp310-manylinux_2_17_x86_64.manylinux2014_x86_64.whl (27.0MB)\n",
      "\u001b[K     |████████████████████████████████| 27.1MB 1.5MB/s eta 0:00:01\n",
      "\u001b[?25hCollecting attrdict; extra == \"all\"\n",
      "  Downloading https://files.pythonhosted.org/packages/ef/97/28fe7e68bc7adfce67d4339756e85e9fcf3c6fd7f0c0781695352b70472c/attrdict-2.0.1-py2.py3-none-any.whl\n",
      "Collecting ijson; extra == \"all\"\n",
      "\u001b[?25l  Downloading https://files.pythonhosted.org/packages/6b/78/2cbeb7020a7a319d148c92331951cfc710864990e32ff6c7f4859729fb48/ijson-3.2.3-cp310-cp310-manylinux_2_17_x86_64.manylinux2014_x86_64.whl (111kB)\n",
      "\u001b[K     |████████████████████████████████| 112kB 894kB/s eta 0:00:01\n",
      "\u001b[?25hCollecting lhotse>=1.20.0; extra == \"all\"\n",
      "\u001b[?25l  Downloading https://files.pythonhosted.org/packages/ea/6b/f240fe1100a930bbeb9b3c61ab90ccbece0c7daa1aed4d5dbb1e1f4dc9e9/lhotse-1.22.0-py3-none-any.whl (764kB)\n",
      "\u001b[K     |████████████████████████████████| 768kB 913kB/s eta 0:00:01\n",
      "\u001b[?25hCollecting pyloudnorm; extra == \"all\"\n",
      "  Downloading https://files.pythonhosted.org/packages/58/f5/6724805521ab4e723a12182f92374031032aff28a8a89dc8505c52b79032/pyloudnorm-0.1.1-py3-none-any.whl\n",
      "Collecting click==8.0.2; extra == \"all\"\n",
      "\u001b[?25l  Downloading https://files.pythonhosted.org/packages/a7/3b/7efef23f3d4ea464ee9a518168d155cf007dc650a25898818c1712844999/click-8.0.2-py3-none-any.whl (97kB)\n",
      "\u001b[K     |████████████████████████████████| 102kB 851kB/s ta 0:00:01\n",
      "\u001b[?25hCollecting textdistance>=4.1.5; extra == \"all\"\n",
      "  Downloading https://files.pythonhosted.org/packages/05/34/b7fac90b60de670b779bf2e2c4932f9162a7096a0f8600f7b22429978825/textdistance-4.6.1-py3-none-any.whl\n",
      "Collecting nerfacc>=0.5.3; extra == \"all\"\n",
      "\u001b[?25l  Downloading https://files.pythonhosted.org/packages/26/ad/2f6f3d427c6bcfd09828df16826bc38693fe62dc170dac75480a96064699/nerfacc-0.5.3-py3-none-any.whl (54kB)\n",
      "\u001b[K     |████████████████████████████████| 61kB 810kB/s eta 0:00:01\n",
      "\u001b[?25hCollecting sphinx; extra == \"all\"\n",
      "\u001b[?25l  Downloading https://files.pythonhosted.org/packages/b2/b6/8ed35256aa530a9d3da15d20bdc0ba888d5364441bb50a5a83ee7827affe/sphinx-7.2.6-py3-none-any.whl (3.2MB)\n",
      "\u001b[K     |████████████████████████████████| 3.2MB 1.2MB/s eta 0:00:01\n",
      "\u001b[?25hCollecting sacremoses>=0.0.43; extra == \"all\"\n",
      "\u001b[?25l  Downloading https://files.pythonhosted.org/packages/0b/f0/89ee2bc9da434bd78464f288fdb346bc2932f2ee80a90b2a4bbbac262c74/sacremoses-0.1.1-py3-none-any.whl (897kB)\n",
      "\u001b[K     |████████████████████████████████| 901kB 1.4MB/s eta 0:00:01\n",
      "\u001b[?25hCollecting tabulate>=0.8.7; extra == \"all\"\n",
      "  Downloading https://files.pythonhosted.org/packages/40/44/4a5f08c96eb108af5cb50b41f76142f0afa346dfa99d5296fe7202a11854/tabulate-0.9.0-py3-none-any.whl\n",
      "Collecting pytest-runner; extra == \"all\"\n",
      "  Downloading https://files.pythonhosted.org/packages/23/2b/73982c02d28538b6a1182c0a2faf764ca6a76a6dbe89a69288184051a67b/pytest_runner-6.0.1-py3-none-any.whl\n",
      "Collecting pandas; extra == \"all\"\n",
      "\u001b[?25l  Downloading https://files.pythonhosted.org/packages/19/df/8d789d96a9e338cf28cb7978fa93ef5da53137624b7ef032f30748421c2b/pandas-2.2.1-cp310-cp310-manylinux_2_17_x86_64.manylinux2014_x86_64.whl (13.0MB)\n"
     ]
    },
    {
     "name": "stdout",
     "output_type": "stream",
     "text": [
      "\u001b[K     |████████████████████████████████| 13.0MB 1.6MB/s eta 0:00:01\n",
      "\u001b[?25hCollecting soundfile; extra == \"all\"\n",
      "  Downloading https://files.pythonhosted.org/packages/04/bc/cd845c2dbb4d257c744cd58a5bcdd9f6d235ca317e7e22e49564ec88dcd9/soundfile-0.12.1-py2.py3-none-any.whl\n",
      "Collecting scipy>=0.14; extra == \"all\"\n",
      "\u001b[?25l  Downloading https://files.pythonhosted.org/packages/f5/aa/8e6071a5e4dca4ec68b5b22e4991ee74c59c5d372112b9c236ec1faff57d/scipy-1.12.0-cp310-cp310-manylinux_2_17_x86_64.manylinux2014_x86_64.whl (38.4MB)\n",
      "\u001b[K     |████████████████████████████████| 38.5MB 461kB/s eta 0:00:01\n",
      "\u001b[?25hCollecting addict; extra == \"all\"\n",
      "  Downloading https://files.pythonhosted.org/packages/6a/00/b08f23b7d7e1e14ce01419a467b583edbb93c6cdb8654e54a9cc579cd61f/addict-2.4.0-py3-none-any.whl\n",
      "Collecting packaging; extra == \"all\"\n",
      "\u001b[?25l  Downloading https://files.pythonhosted.org/packages/49/df/1fceb2f8900f8639e278b056416d49134fb8d84c5942ffaa01ad34782422/packaging-24.0-py3-none-any.whl (53kB)\n",
      "\u001b[K     |████████████████████████████████| 61kB 3.0MB/s eta 0:00:01\n",
      "\u001b[?25hCollecting pytest; extra == \"all\"\n",
      "\u001b[?25l  Downloading https://files.pythonhosted.org/packages/4d/7e/c79cecfdb6aa85c6c2e3cf63afc56d0f165f24f5c66c03c695c4d9b84756/pytest-8.1.1-py3-none-any.whl (337kB)\n",
      "\u001b[K     |████████████████████████████████| 337kB 2.6MB/s eta 0:00:01\n",
      "\u001b[?25hCollecting jiwer; extra == \"all\"\n",
      "  Downloading https://files.pythonhosted.org/packages/0d/4f/ee537ab20144811dd99321735ff92ef2b3a3230b77ed7454bed4c44d21fc/jiwer-3.0.3-py3-none-any.whl\n",
      "Collecting h5py; extra == \"all\"\n",
      "\u001b[?25l  Downloading https://files.pythonhosted.org/packages/3b/d3/ecb4b3d2ec2c84132987e5f12ab1408f455bec1d90cd5bc408ebf37800f5/h5py-3.10.0-cp310-cp310-manylinux_2_17_x86_64.manylinux2014_x86_64.whl (4.8MB)\n",
      "\u001b[K     |████████████████████████████████| 4.8MB 3.1MB/s eta 0:00:01\n",
      "\u001b[?25hCollecting parameterized; extra == \"all\"\n",
      "  Downloading https://files.pythonhosted.org/packages/00/2f/804f58f0b856ab3bf21617cccf5b39206e6c4c94c2cd227bde125ea6105f/parameterized-0.9.0-py2.py3-none-any.whl\n",
      "Collecting gdown; extra == \"all\"\n",
      "  Downloading https://files.pythonhosted.org/packages/cb/56/f4845ed78723a4eb8eb22bcfcb46e1157a462c78c0a5ed318c68c98f9a79/gdown-5.1.0-py3-none-any.whl\n",
      "Collecting youtokentome>=1.0.5; extra == \"all\"\n",
      "\u001b[?25l  Downloading https://files.pythonhosted.org/packages/9a/ae/f8b0d15696766eb35dda6cf84a23d42ae7f3ba37aa30e5e2287fd94ac053/youtokentome-1.0.6.tar.gz (86kB)\n",
      "\u001b[K     |████████████████████████████████| 92kB 4.2MB/s eta 0:00:011\n",
      "\u001b[?25hCollecting clip; extra == \"all\"\n",
      "  Downloading https://files.pythonhosted.org/packages/58/dc/12bf8888635ade4de57565dca75909a809d1da6ec341eacd546028a73ab9/clip-0.2.0.tar.gz\n",
      "Collecting pypinyin-dict; extra == \"all\"\n",
      "\u001b[?25l  Downloading https://files.pythonhosted.org/packages/8a/3a/968e7ce00a570074d4cefaa33531355137c5acc707815cf73de2eb7e9b67/pypinyin_dict-0.8.0-py2.py3-none-any.whl (9.5MB)\n",
      "\u001b[K     |████████████████████████████████| 9.5MB 3.7MB/s eta 0:00:01\n",
      "\u001b[?25hCollecting pyannote.metrics; extra == \"all\"\n",
      "\u001b[?25l  Downloading https://files.pythonhosted.org/packages/6c/7d/035b370ab834b30e849fe9cd092b7bd7f321fcc4a2c56b84e96476b7ede5/pyannote.metrics-3.2.1-py3-none-any.whl (51kB)\n",
      "\u001b[K     |████████████████████████████████| 61kB 3.6MB/s eta 0:00:01\n",
      "\u001b[?25hCollecting sentence-transformers; extra == \"all\"\n",
      "\u001b[?25l  Downloading https://files.pythonhosted.org/packages/ba/20/7ef81df2e07322d95332d07c1c38c597f543c1f666d689a3153ba6fa09e3/sentence_transformers-2.6.1-py3-none-any.whl (163kB)\n",
      "\u001b[K     |████████████████████████████████| 163kB 3.0MB/s eta 0:00:01\n",
      "\u001b[?25hCollecting open-clip-torch; extra == \"all\"\n",
      "\u001b[?25l  Downloading https://files.pythonhosted.org/packages/d9/d2/6ae2ee32d0d2ea9982774920e0ef96d439ee332f459f6d8a941149b1b4ad/open_clip_torch-2.24.0-py3-none-any.whl (1.5MB)\n",
      "\u001b[K     |████████████████████████████████| 1.5MB 3.0MB/s eta 0:00:01\n",
      "\u001b[?25hCollecting diffusers>=0.19.3; extra == \"all\"\n",
      "\u001b[?25l  Downloading https://files.pythonhosted.org/packages/75/c5/3b84fd731dd93c549a0c25657e4ce5a957aeccd32d60dba2958cd3cdac23/diffusers-0.27.2-py3-none-any.whl (2.0MB)\n",
      "\u001b[K     |████████████████████████████████| 2.0MB 1.6MB/s eta 0:00:01\n",
      "\u001b[?25hCollecting sox; extra == \"all\"\n",
      "\u001b[?25l  Downloading https://files.pythonhosted.org/packages/3d/a2/d8e0d8fd7abf509ead4a2cb0fb24e5758b5330166bf9223d5cb9f98a7e8d/sox-1.5.0.tar.gz (63kB)\n",
      "\u001b[K     |████████████████████████████████| 71kB 2.0MB/s eta 0:00:01\n",
      "\u001b[?25hCollecting marshmallow; extra == \"all\"\n",
      "\u001b[?25l  Downloading https://files.pythonhosted.org/packages/38/04/37055b7013dfaaf66e3a9a51e46857cc9be151476a891b995fa70da7e139/marshmallow-3.21.1-py3-none-any.whl (49kB)\n",
      "\u001b[K     |████████████████████████████████| 51kB 2.2MB/s eta 0:00:01\n",
      "\u001b[?25hCollecting kaldiio; extra == \"all\"\n",
      "  Downloading https://files.pythonhosted.org/packages/6c/32/4fa7c71123f49866b09d462ccdb6bcdfac42e4062a5e83f28fca16593357/kaldiio-2.18.0-py3-none-any.whl\n",
      "Collecting omegaconf<=2.3; extra == \"all\"\n",
      "\u001b[?25l  Downloading https://files.pythonhosted.org/packages/e3/94/1843518e420fa3ed6919835845df698c7e27e183cb997394e4a670973a65/omegaconf-2.3.0-py3-none-any.whl (79kB)\n",
      "\u001b[K     |████████████████████████████████| 81kB 1.9MB/s eta 0:00:01\n",
      "\u001b[?25hCollecting sentencepiece<1.0.0; extra == \"all\"\n",
      "\u001b[?25l  Downloading https://files.pythonhosted.org/packages/a6/27/33019685023221ca8ed98e8ceb7ae5e166032686fa3662c68f1f1edf334e/sentencepiece-0.2.0-cp310-cp310-manylinux_2_17_x86_64.manylinux2014_x86_64.whl (1.3MB)\n",
      "\u001b[K     |████████████████████████████████| 1.3MB 2.0MB/s eta 0:00:01\n",
      "\u001b[?25hCollecting texterrors; extra == \"all\"\n",
      "\u001b[?25l  Downloading https://files.pythonhosted.org/packages/0d/fe/ea9d6f1b9f983598da58c8580b6974db05caf4da59871603a778ea8e4606/texterrors-0.4.4-cp310-cp310-manylinux_2_17_x86_64.manylinux2014_x86_64.whl (1.1MB)\n",
      "\u001b[K     |████████████████████████████████| 1.1MB 2.3MB/s eta 0:00:01\n",
      "\u001b[?25hCollecting nltk; extra == \"all\"\n",
      "\u001b[?25l  Downloading https://files.pythonhosted.org/packages/a6/0a/0d20d2c0f16be91b9fa32a77b76c60f9baf6eba419e5ef5deca17af9c582/nltk-3.8.1-py3-none-any.whl (1.5MB)\n",
      "\u001b[K     |████████████████████████████████| 1.5MB 2.0MB/s eta 0:00:01\n",
      "\u001b[?25hCollecting editdistance; extra == \"all\"\n",
      "\u001b[?25l  Downloading https://files.pythonhosted.org/packages/c2/fb/2940d26ebda12efd280ae939436f17ac482930d862df9e774cb8b771ab03/editdistance-0.8.1-cp310-cp310-manylinux_2_17_x86_64.manylinux2014_x86_64.whl (401kB)\n",
      "\u001b[K     |████████████████████████████████| 409kB 2.5MB/s eta 0:00:01\n",
      "\u001b[?25hCollecting einops-exts; extra == \"all\"\n",
      "  Downloading https://files.pythonhosted.org/packages/78/01/8da8dd078b354a89602a875d310a0d725dad92b5b4d61069576e0a0e02e4/einops_exts-0.0.4-py3-none-any.whl\n",
      "Collecting rouge-score; extra == \"all\"\n",
      "  Downloading https://files.pythonhosted.org/packages/e2/c5/9136736c37022a6ad27fea38f3111eb8f02fe75d067f9a985cc358653102/rouge_score-0.1.2.tar.gz\n",
      "Collecting jieba; extra == \"all\"\n",
      "\u001b[?25l  Downloading https://files.pythonhosted.org/packages/c6/cb/18eeb235f833b726522d7ebed54f2278ce28ba9438e3135ab0278d9792a2/jieba-0.42.1.tar.gz (19.2MB)\n",
      "\u001b[K     |████████████████████████████████| 19.2MB 2.5MB/s eta 0:00:01\n",
      "\u001b[?25hCollecting librosa>=0.10.0; extra == \"all\"\n",
      "\u001b[?25l  Downloading https://files.pythonhosted.org/packages/e2/a2/4f639c1168d7aada749a896afb4892a831e2041bebdcf636aebfe9e86556/librosa-0.10.1-py3-none-any.whl (253kB)\n",
      "\u001b[K     |████████████████████████████████| 256kB 2.8MB/s eta 0:00:01\n",
      "\u001b[?25hCollecting zarr; extra == \"all\"\n",
      "\u001b[?25l  Downloading https://files.pythonhosted.org/packages/fe/fd/7db2cb2c87cc47f971065edf2d7ab1e54202b286f6d01bf5c197c660cd69/zarr-2.17.1-py3-none-any.whl (207kB)\n",
      "\u001b[K     |████████████████████████████████| 215kB 2.7MB/s eta 0:00:01\n",
      "\u001b[?25hCollecting trimesh; extra == \"all\"\n",
      "\u001b[?25l  Downloading https://files.pythonhosted.org/packages/d2/23/644fe192feb5d3bc8f3dbc6e99a88a98445f36c5e64dc503e923b0c5ac1f/trimesh-4.2.2-py3-none-any.whl (690kB)\n",
      "\u001b[K     |████████████████████████████████| 696kB 2.9MB/s eta 0:00:01\n",
      "\u001b[?25hCollecting einops; extra == \"all\"\n",
      "\u001b[?25l  Downloading https://files.pythonhosted.org/packages/29/0b/2d1c0ebfd092e25935b86509a9a817159212d82aa43d7fb07eca4eeff2c2/einops-0.7.0-py3-none-any.whl (44kB)\n",
      "\u001b[K     |████████████████████████████████| 51kB 3.2MB/s eta 0:00:01\n",
      "\u001b[?25hCollecting matplotlib; extra == \"all\"\n",
      "\u001b[?25l  Downloading https://files.pythonhosted.org/packages/c1/f2/325897d6c498278b0f8b460d44b516f5db865ddb4ba9018e9fe58a3e4633/matplotlib-3.8.3-cp310-cp310-manylinux_2_17_x86_64.manylinux2014_x86_64.whl (11.6MB)\n"
     ]
    },
    {
     "name": "stdout",
     "output_type": "stream",
     "text": [
      "\u001b[K     |████████████████████████████████| 11.6MB 3.7MB/s eta 0:00:01\n",
      "\u001b[?25hCollecting taming-transformers; extra == \"all\"\n",
      "\u001b[?25l  Downloading https://files.pythonhosted.org/packages/8a/c2/ae7227e4b089c6a8210920db9d5ac59186b0a84eb1e6d96b9218916cdaf1/taming_transformers-0.0.1-py3-none-any.whl (45kB)\n",
      "\u001b[K     |████████████████████████████████| 51kB 4.2MB/s eta 0:00:01\n",
      "\u001b[?25hCollecting g2p-en; extra == \"all\"\n",
      "\u001b[?25l  Downloading https://files.pythonhosted.org/packages/d7/d9/b77dc634a7a0c0c97716ba97dd0a28cbfa6267c96f359c4f27ed71cbd284/g2p_en-2.1.0-py3-none-any.whl (3.1MB)\n",
      "\u001b[K     |████████████████████████████████| 3.1MB 5.3MB/s eta 0:00:01     |███████████████████████████▊    | 2.7MB 5.3MB/s eta 0:00:01\n",
      "\u001b[?25hCollecting webdataset<=0.1.62,>=0.1.48; extra == \"all\"\n",
      "  Downloading https://files.pythonhosted.org/packages/3d/c6/7737c7d56955715f83d93ab2308ad94936cccbeafc45276cf9837704a251/webdataset-0.1.62-py3-none-any.whl\n",
      "Collecting nemo-text-processing; (\"arm\" not in platform_machine and \"aarch\" not in platform_machine) and extra == \"all\"\n",
      "\u001b[?25l  Downloading https://files.pythonhosted.org/packages/7a/89/eda8673d56e0b42000a9f5a0bb01a0d2a261c3bba5b64b96ea534318839d/nemo_text_processing-0.3.0rc0-py3-none-any.whl (2.6MB)\n",
      "\u001b[K     |████████████████████████████████| 2.6MB 3.3MB/s eta 0:00:01\n",
      "\u001b[?25hCollecting markdown2; extra == \"all\"\n",
      "\u001b[?25l  Downloading https://files.pythonhosted.org/packages/5a/09/a9ef8d5fe4b08bfd0dd133084deefcffc4b2a37a9ca35a22b48622d59262/markdown2-2.4.13-py2.py3-none-any.whl (41kB)\n",
      "\u001b[K     |████████████████████████████████| 51kB 4.5MB/s eta 0:00:01\n",
      "\u001b[?25hCollecting sphinxcontrib-bibtex; extra == \"all\"\n",
      "\u001b[?25l  Downloading https://files.pythonhosted.org/packages/e9/f5/a15c05337929d1d19c2b6802ba196b98ac4beddf977c203661978c54e2d5/sphinxcontrib_bibtex-2.6.2-py3-none-any.whl (40kB)\n",
      "\u001b[K     |████████████████████████████████| 40kB 3.6MB/s eta 0:00:01\n",
      "\u001b[?25hCollecting kaldi-python-io; extra == \"all\"\n",
      "  Downloading https://files.pythonhosted.org/packages/80/45/e3e542ffa8970ebd782fcece35e2295de9c60e8c396c2c1a403410d1b24e/kaldi-python-io-1.2.2.tar.gz\n",
      "Collecting black==19.10b0; extra == \"all\"\n",
      "\u001b[?25l  Downloading https://files.pythonhosted.org/packages/fd/bb/ad34bbc93d1bea3de086d7c59e528d4a503ac8fe318bd1fa48605584c3d2/black-19.10b0-py36-none-any.whl (97kB)\n",
      "\u001b[K     |████████████████████████████████| 102kB 4.4MB/s ta 0:00:01\n",
      "\u001b[?25hCollecting ftfy; extra == \"all\"\n",
      "\u001b[?25l  Downloading https://files.pythonhosted.org/packages/f4/f0/21efef51304172736b823689aaf82f33dbc64f54e9b046b75f5212d5cee7/ftfy-6.2.0-py3-none-any.whl (54kB)\n",
      "\u001b[K     |████████████████████████████████| 61kB 4.2MB/s eta 0:00:01\n",
      "\u001b[?25hCollecting opencc<1.1.7; extra == \"all\"\n",
      "\u001b[?25l  Downloading https://files.pythonhosted.org/packages/15/d3/2e5c61f218e51a0f767b05e257f52e53b9ecafe8ef84541e8765a42c64f0/OpenCC-1.1.6-cp310-cp310-manylinux1_x86_64.whl (778kB)\n",
      "\u001b[K     |████████████████████████████████| 788kB 4.9MB/s eta 0:00:01\n",
      "\u001b[?25hCollecting torchsde; extra == \"all\"\n",
      "\u001b[?25l  Downloading https://files.pythonhosted.org/packages/dd/1f/b67ebd7e19ffe259f05d3cf4547326725c3113d640c277030be3e9998d6f/torchsde-0.2.6-py3-none-any.whl (61kB)\n",
      "\u001b[K     |████████████████████████████████| 61kB 2.8MB/s eta 0:00:01\n",
      "\u001b[?25hCollecting resampy; extra == \"all\"\n",
      "\u001b[?25l  Downloading https://files.pythonhosted.org/packages/4d/b9/3b00ac340a1aab3389ebcc52c779914a44aadf7b0cb7a3bf053195735607/resampy-0.4.3-py3-none-any.whl (3.1MB)\n",
      "\u001b[K     |████████████████████████████████| 3.1MB 2.8MB/s eta 0:00:01\n",
      "\u001b[?25hCollecting pyannote.core; extra == \"all\"\n",
      "\u001b[?25l  Downloading https://files.pythonhosted.org/packages/84/c4/370bc8ba66815a5832ece753a1009388bb07ea353d21c83f2d5a1a436f2c/pyannote.core-5.0.0-py3-none-any.whl (58kB)\n",
      "\u001b[K     |████████████████████████████████| 61kB 3.6MB/s eta 0:00:01\n",
      "\u001b[?25hCollecting pypinyin; extra == \"all\"\n",
      "\u001b[?25l  Downloading https://files.pythonhosted.org/packages/67/bd/752e5d033a00dc33d0a955bf0bfd26a3c83a46b1404221e0f4a9ffbc7795/pypinyin-0.51.0-py2.py3-none-any.whl (1.4MB)\n",
      "\u001b[K     |████████████████████████████████| 1.4MB 4.2MB/s eta 0:00:01\n",
      "\u001b[?25hCollecting boto3; extra == \"all\"\n",
      "\u001b[?25l  Downloading https://files.pythonhosted.org/packages/b1/f1/657850c7ac20e3b6566ede060a2db967b1f29f245e2cbb3cf16de889852e/boto3-1.34.71-py3-none-any.whl (139kB)\n",
      "\u001b[K     |████████████████████████████████| 143kB 4.7MB/s eta 0:00:01\n",
      "\u001b[?25hCollecting tensorstore<0.1.46; extra == \"all\"\n",
      "\u001b[?25l  Downloading https://files.pythonhosted.org/packages/a8/3b/bbc79966a3f49537932f3b1c4530409539da030159ef325c3e7a61aaae1d/tensorstore-0.1.45-cp310-cp310-manylinux_2_17_x86_64.manylinux2014_x86_64.whl (13.5MB)\n",
      "\u001b[K     |████████████████████████████████| 13.5MB 5.1MB/s eta 0:00:01    |▌                               | 225kB 4.7MB/s eta 0:00:03\n",
      "\u001b[?25hCollecting hydra-core<=1.3.2,>1.3; extra == \"all\"\n",
      "\u001b[?25l  Downloading https://files.pythonhosted.org/packages/c6/50/e0edd38dcd63fb26a8547f13d28f7a008bc4a3fd4eb4ff030673f22ad41a/hydra_core-1.3.2-py3-none-any.whl (154kB)\n",
      "\u001b[K     |████████████████████████████████| 163kB 5.1MB/s eta 0:00:01\n",
      "\u001b[?25hCollecting pytorch-lightning<=2.0.7,>=2.0; extra == \"all\"\n",
      "\u001b[?25l  Downloading https://files.pythonhosted.org/packages/d5/ef/39994adec1fe1d5f25fd0dd0a82abcd8bd61fc968283790b9da7463f0279/pytorch_lightning-2.0.7-py3-none-any.whl (724kB)\n",
      "\u001b[K     |████████████████████████████████| 727kB 5.2MB/s eta 0:00:01\n",
      "\u001b[?25hCollecting rapidfuzz; extra == \"all\"\n",
      "\u001b[?25l  Downloading https://files.pythonhosted.org/packages/20/91/bb1dde3afc0aa4d336a62146dc4cccaa8ba7aa6557bbc8261e01724f1cf7/rapidfuzz-3.7.0-cp310-cp310-manylinux_2_17_x86_64.manylinux2014_x86_64.whl (3.4MB)\n",
      "\u001b[K     |████████████████████████████████| 3.4MB 5.6MB/s eta 0:00:01\n",
      "\u001b[?25hCollecting progress>=1.5; extra == \"all\"\n",
      "  Downloading https://files.pythonhosted.org/packages/2a/68/d8412d1e0d70edf9791cbac5426dc859f4649afc22f2abbeb0d947cf70fd/progress-1.6.tar.gz\n",
      "Collecting pydub; extra == \"all\"\n",
      "  Downloading https://files.pythonhosted.org/packages/a6/53/d78dc063216e62fc55f6b2eebb447f6a4b0a59f55c8406376f76bf959b08/pydub-0.25.1-py2.py3-none-any.whl\n",
      "Collecting kornia; extra == \"all\"\n",
      "\u001b[?25l  Downloading https://files.pythonhosted.org/packages/ac/fa/5612c4b1ad83b3044062e9dd0ca3c91937d8023cff0836269e18573655b0/kornia-0.7.2-py2.py3-none-any.whl (825kB)\n",
      "\u001b[K     |████████████████████████████████| 829kB 4.4MB/s eta 0:00:01\n",
      "\u001b[?25hCollecting sacrebleu; extra == \"all\"\n",
      "\u001b[?25l  Downloading https://files.pythonhosted.org/packages/de/a5/bf9eddf90deeb7833bbb1ecd7cd4515245cc54c330b936d502ac531f9412/sacrebleu-2.4.1-py3-none-any.whl (106kB)\n",
      "\u001b[K     |████████████████████████████████| 112kB 4.9MB/s eta 0:00:01\n",
      "\u001b[?25hCollecting wandb; extra == \"all\"\n",
      "\u001b[?25l  Downloading https://files.pythonhosted.org/packages/53/7c/f3656d1ce3b916ea35f454c6a32b56342168c08baf09a0683df240ca2dce/wandb-0.16.5-py3-none-any.whl (2.2MB)\n",
      "\u001b[K     |████████████████████████████████| 2.2MB 4.4MB/s eta 0:00:01\n",
      "\u001b[?25hCollecting braceexpand; extra == \"all\"\n",
      "  Downloading https://files.pythonhosted.org/packages/fa/93/e8c04e80e82391a6e51f218ca49720f64236bc824e92152a2633b74cf7ab/braceexpand-0.1.7-py2.py3-none-any.whl\n",
      "Collecting ipywidgets; extra == \"all\"\n",
      "\u001b[?25l  Downloading https://files.pythonhosted.org/packages/70/1a/7edeedb1c089d63ccd8bd5c0612334774e90cf9337de9fe6c82d90081791/ipywidgets-8.1.2-py3-none-any.whl (139kB)\n",
      "\u001b[K     |████████████████████████████████| 143kB 4.8MB/s eta 0:00:01\n",
      "\u001b[?25hCollecting torchdiffeq; extra == \"all\"\n",
      "  Downloading https://files.pythonhosted.org/packages/2c/9b/b9c3e17f261e30f630511390e0dd33fc529073f1f2db222a1f09dc49a1ae/torchdiffeq-0.2.3-py3-none-any.whl\n",
      "Collecting datasets; extra == \"all\"\n",
      "\u001b[?25l  Downloading https://files.pythonhosted.org/packages/95/fc/661a7f06e8b7d48fcbd3f55423b7ff1ac3ce59526f146fda87a1e1788ee4/datasets-2.18.0-py3-none-any.whl (510kB)\n",
      "\u001b[K     |████████████████████████████████| 512kB 5.0MB/s eta 0:00:01\n",
      "\u001b[?25hCollecting fasttext; extra == \"all\"\n",
      "\u001b[?25l  Downloading https://files.pythonhosted.org/packages/f8/85/e2b368ab6d3528827b147fdb814f8189acc981a4bc2f99ab894650e05c40/fasttext-0.9.2.tar.gz (68kB)\n",
      "\u001b[K     |████████████████████████████████| 71kB 4.4MB/s eta 0:00:01\n",
      "\u001b[?25hCollecting imageio; extra == \"all\"\n",
      "\u001b[?25l  Downloading https://files.pythonhosted.org/packages/02/25/66533a8390e3763cf8254dee143dbf8a830391ea60d2762512ba7f9ddfbe/imageio-2.34.0-py3-none-any.whl (313kB)\n"
     ]
    },
    {
     "name": "stdout",
     "output_type": "stream",
     "text": [
      "\u001b[K     |████████████████████████████████| 317kB 5.1MB/s eta 0:00:01\n",
      "\u001b[?25hCollecting transformers>=4.36.0; extra == \"all\"\n",
      "\u001b[?25l  Downloading https://files.pythonhosted.org/packages/0a/fd/280f4385e76f3c1890efc15fa93f7206134fefad6351397e1bfab6d0d0de/transformers-4.39.1-py3-none-any.whl (8.8MB)\n",
      "\u001b[K     |████████████████████████████████| 8.8MB 1.3MB/s eta 0:00:01\n",
      "\u001b[?25hCollecting inflect; extra == \"all\"\n",
      "  Downloading https://files.pythonhosted.org/packages/fb/c6/d9feb758be584f729424390af24687d3a4363d968164f94079f83cd536b4/inflect-7.0.0-py3-none-any.whl\n",
      "Collecting flask-restful; extra == \"all\"\n",
      "  Downloading https://files.pythonhosted.org/packages/d7/7b/f0b45f0df7d2978e5ae51804bb5939b7897b2ace24306009da0cc34d8d1f/Flask_RESTful-0.3.10-py2.py3-none-any.whl\n",
      "Collecting torchmetrics>=0.11.0; extra == \"all\"\n",
      "\u001b[?25l  Downloading https://files.pythonhosted.org/packages/f3/0e/cedcb9c8aeb2d1f655f8d05f841b14d84b0a68d9f31afae4af55c7c6d0a9/torchmetrics-1.3.2-py3-none-any.whl (841kB)\n",
      "\u001b[K     |████████████████████████████████| 849kB 1.8MB/s eta 0:00:01\n",
      "\u001b[?25hCollecting megatron-core==0.5.0; extra == \"all\"\n",
      "\u001b[?25l  Downloading https://files.pythonhosted.org/packages/a8/42/6a79769dfff860cae991f41bbf8d61ff1cf35de62b4f8e52cdb9037b4fad/megatron_core-0.5.0-cp310-cp310-manylinux_2_17_x86_64.manylinux2014_x86_64.whl (1.2MB)\n",
      "\u001b[K     |████████████████████████████████| 1.2MB 2.1MB/s eta 0:00:01\n",
      "\u001b[?25hCollecting pangu; extra == \"all\"\n",
      "  Downloading https://files.pythonhosted.org/packages/48/77/b52fac2ca4e4596f22dd6200b99ad515fb64b1ae7d3a12325b45b11e2a67/pangu-4.0.6.1-py3-none-any.whl\n",
      "Collecting PyMCubes; extra == \"all\"\n",
      "\u001b[?25l  Downloading https://files.pythonhosted.org/packages/fd/91/c64a6e2f92b08777617d5cf69babc26568651e25e6da3db5de26a28d157b/PyMCubes-0.1.4-cp310-cp310-manylinux_2_17_x86_64.manylinux2014_x86_64.whl (274kB)\n",
      "\u001b[K     |████████████████████████████████| 276kB 2.4MB/s eta 0:00:01\n",
      "\u001b[?25hCollecting isort<6.0.0,>5.1.0; extra == \"all\"\n",
      "\u001b[?25l  Downloading https://files.pythonhosted.org/packages/d1/b3/8def84f539e7d2289a02f0524b944b15d7c75dab7628bedf1c4f0992029c/isort-5.13.2-py3-none-any.whl (92kB)\n",
      "\u001b[K     |████████████████████████████████| 102kB 2.6MB/s ta 0:00:01\n",
      "\u001b[?25hCollecting llvmlite<0.43,>=0.42.0dev0\n",
      "\u001b[?25l  Downloading https://files.pythonhosted.org/packages/2b/01/764489e364948f52aa7cb958a91a8dafd489357d2401f66946542bbc1764/llvmlite-0.42.0-cp310-cp310-manylinux_2_17_x86_64.manylinux2014_x86_64.whl (43.8MB)\n",
      "\u001b[K     |████████████████████████████████| 43.8MB 1.7MB/s eta 0:00:01\n",
      "\u001b[?25hCollecting ruamel.yaml.clib>=0.2.7; platform_python_implementation == \"CPython\" and python_version < \"3.13\"\n",
      "\u001b[?25l  Downloading https://files.pythonhosted.org/packages/d3/62/c60b034d9a008bbd566eeecf53a5a4c73d191c8de261290db6761802b72d/ruamel.yaml.clib-0.2.8-cp310-cp310-manylinux_2_17_x86_64.manylinux2014_x86_64.manylinux_2_24_x86_64.whl (526kB)\n",
      "\u001b[K     |████████████████████████████████| 532kB 2.1MB/s eta 0:00:01\n",
      "\u001b[?25hCollecting protobuf>=3.20.2\n",
      "\u001b[?25l  Downloading https://files.pythonhosted.org/packages/39/3f/16bdd9d43b024c1d178e817826e4e1ca8a25da3faff1e7566f341094143d/protobuf-5.26.0-cp37-abi3-manylinux2014_x86_64.whl (302kB)\n",
      "\u001b[K     |████████████████████████████████| 307kB 2.3MB/s eta 0:00:01\n",
      "\u001b[?25hCollecting filelock\n",
      "  Downloading https://files.pythonhosted.org/packages/8b/69/acdf492db27dea7be5c63053230130e0574fd8a376de3555d5f8bbc3d3ad/filelock-3.13.3-py3-none-any.whl\n",
      "Collecting typing-extensions>=3.7.4.3\n",
      "  Downloading https://files.pythonhosted.org/packages/f9/de/dc04a3ea60b22624b51c703a84bbe0184abcd1d0b9bc8074b5d6b7ab90bb/typing_extensions-4.10.0-py3-none-any.whl\n",
      "Collecting pyyaml>=5.1\n",
      "\u001b[?25l  Downloading https://files.pythonhosted.org/packages/29/61/bf33c6c85c55bc45a29eee3195848ff2d518d84735eb0e2d8cb42e0d285e/PyYAML-6.0.1-cp310-cp310-manylinux_2_17_x86_64.manylinux2014_x86_64.whl (705kB)\n",
      "\u001b[K     |████████████████████████████████| 706kB 2.3MB/s eta 0:00:01\n",
      "\u001b[?25hCollecting fsspec>=2023.5.0\n",
      "\u001b[?25l  Downloading https://files.pythonhosted.org/packages/93/6d/66d48b03460768f523da62a57a7e14e5e95fdf339d79e996ce3cecda2cdb/fsspec-2024.3.1-py3-none-any.whl (171kB)\n",
      "\u001b[K     |████████████████████████████████| 174kB 2.5MB/s eta 0:00:01\n",
      "\u001b[?25hCollecting requests\n",
      "\u001b[?25l  Downloading https://files.pythonhosted.org/packages/70/8e/0e2d847013cb52cd35b38c009bb167a1a26b2ce6cd6965bf26b47bc0bf44/requests-2.31.0-py3-none-any.whl (62kB)\n",
      "\u001b[K     |████████████████████████████████| 71kB 2.3MB/s eta 0:00:01\n",
      "\u001b[?25hCollecting absl-py>=0.4\n",
      "\u001b[?25l  Downloading https://files.pythonhosted.org/packages/a2/ad/e0d3c824784ff121c03cc031f944bc7e139a8f1870ffd2845cc2dd76f6c4/absl_py-2.1.0-py3-none-any.whl (133kB)\n",
      "\u001b[K     |████████████████████████████████| 143kB 2.6MB/s eta 0:00:01\n",
      "\u001b[?25hCollecting werkzeug>=1.0.1\n",
      "\u001b[?25l  Downloading https://files.pythonhosted.org/packages/c3/fc/254c3e9b5feb89ff5b9076a23218dafbc99c96ac5941e900b71206e6313b/werkzeug-3.0.1-py3-none-any.whl (226kB)\n",
      "\u001b[K     |████████████████████████████████| 235kB 2.1MB/s eta 0:00:01\n",
      "\u001b[?25hCollecting markdown>=2.6.8\n",
      "\u001b[?25l  Downloading https://files.pythonhosted.org/packages/fc/b3/0c0c994fe49cd661084f8d5dc06562af53818cc0abefaca35bdc894577c3/Markdown-3.6-py3-none-any.whl (105kB)\n",
      "\u001b[K     |████████████████████████████████| 112kB 2.1MB/s eta 0:00:01\n",
      "\u001b[?25hCollecting tensorboard-data-server<0.8.0,>=0.7.0\n",
      "  Downloading https://files.pythonhosted.org/packages/7a/13/e503968fefabd4c6b2650af21e110aa8466fe21432cd7c43a84577a89438/tensorboard_data_server-0.7.2-py3-none-any.whl\n",
      "Collecting six>1.9\n",
      "  Downloading https://files.pythonhosted.org/packages/d9/5a/e7c31adbe875f2abbb91bd84cf2dc52d792b5a01506781dbcf25c91daf11/six-1.16.0-py2.py3-none-any.whl\n",
      "Collecting grpcio>=1.48.2\n",
      "\u001b[?25l  Downloading https://files.pythonhosted.org/packages/c9/45/e9237e5fa69bdc2cf01e6ef2be3a421cb1c2c30dbb4e0859ad9ed3bcde0c/grpcio-1.62.1-cp310-cp310-manylinux_2_17_x86_64.manylinux2014_x86_64.whl (5.5MB)\n",
      "\u001b[K     |████████████████████████████████| 5.6MB 2.9MB/s eta 0:00:01\n",
      "\u001b[?25hCollecting jinja2\n",
      "\u001b[?25l  Downloading https://files.pythonhosted.org/packages/30/6d/6de6be2d02603ab56e72997708809e8a5b0fbfee080735109b40a3564843/Jinja2-3.1.3-py3-none-any.whl (133kB)\n",
      "\u001b[K     |████████████████████████████████| 143kB 2.3MB/s eta 0:00:01\n",
      "\u001b[?25hCollecting nvidia-cuda-cupti-cu12==12.1.105; platform_system == \"Linux\" and platform_machine == \"x86_64\"\n",
      "\u001b[?25l  Downloading https://files.pythonhosted.org/packages/7e/00/6b218edd739ecfc60524e585ba8e6b00554dd908de2c9c66c1af3e44e18d/nvidia_cuda_cupti_cu12-12.1.105-py3-none-manylinux1_x86_64.whl (14.1MB)\n",
      "\u001b[K     |████████████████████████████████| 14.1MB 3.6MB/s eta 0:00:01\n",
      "\u001b[?25hCollecting nvidia-nccl-cu12==2.19.3; platform_system == \"Linux\" and platform_machine == \"x86_64\"\n",
      "\u001b[?25l  Downloading https://files.pythonhosted.org/packages/38/00/d0d4e48aef772ad5aebcf70b73028f88db6e5640b36c38e90445b7a57c45/nvidia_nccl_cu12-2.19.3-py3-none-manylinux1_x86_64.whl (166.0MB)\n",
      "\u001b[K     |████████████████████████████████| 166.0MB 62kB/s  eta 0:00:01    |█████████████████▌              | 90.7MB 4.6MB/s eta 0:00:17     |████████████████████████████▋   | 148.6MB 1.7MB/s eta 0:00:11\n",
      "\u001b[?25hCollecting nvidia-cusparse-cu12==12.1.0.106; platform_system == \"Linux\" and platform_machine == \"x86_64\"\n",
      "\u001b[?25l  Downloading https://files.pythonhosted.org/packages/65/5b/cfaeebf25cd9fdec14338ccb16f6b2c4c7fa9163aefcf057d86b9cc248bb/nvidia_cusparse_cu12-12.1.0.106-py3-none-manylinux1_x86_64.whl (196.0MB)\n",
      "\u001b[K     |████████████████████████████████| 196.0MB 72kB/s  eta 0:00:01     |████████████████████            | 122.6MB 1.3MB/s eta 0:00:59     |███████████████████████▉        | 145.9MB 1.6MB/s eta 0:00:32\n",
      "\u001b[?25hCollecting nvidia-cublas-cu12==12.1.3.1; platform_system == \"Linux\" and platform_machine == \"x86_64\"\n",
      "\u001b[?25l  Downloading https://files.pythonhosted.org/packages/37/6d/121efd7382d5b0284239f4ab1fc1590d86d34ed4a4a2fdb13b30ca8e5740/nvidia_cublas_cu12-12.1.3.1-py3-none-manylinux1_x86_64.whl (410.6MB)\n"
     ]
    },
    {
     "name": "stdout",
     "output_type": "stream",
     "text": [
      "\u001b[K     |████████████████████████████████| 410.6MB 34kB/s  eta 0:00:012     |██████████                      | 128.9MB 2.7MB/s eta 0:01:45     |███████████████▍                | 198.2MB 1.5MB/s eta 0:02:21     |████████████████                | 204.3MB 2.0MB/s eta 0:01:41     |████████████████▌               | 211.1MB 2.6MB/s eta 0:01:16     |██████████████████              | 232.3MB 1.5MB/s eta 0:02:00     |█████████████████████▊          | 279.3MB 1.7MB/s eta 0:01:16     |███████████████████████▏        | 296.9MB 1.7MB/s eta 0:01:06     |█████████████████████████       | 321.4MB 2.9MB/s eta 0:00:31     |█████████████████████████████   | 371.3MB 1.5MB/s eta 0:00:26\n",
      "\u001b[?25hCollecting nvidia-cusolver-cu12==11.4.5.107; platform_system == \"Linux\" and platform_machine == \"x86_64\"\n",
      "\u001b[?25l  Downloading https://files.pythonhosted.org/packages/bc/1d/8de1e5c67099015c834315e333911273a8c6aaba78923dd1d1e25fc5f217/nvidia_cusolver_cu12-11.4.5.107-py3-none-manylinux1_x86_64.whl (124.2MB)\n",
      "\u001b[K     |████████████████████████████████| 124.2MB 948kB/s eta 0:00:01    |███▋                            | 13.9MB 1.6MB/s eta 0:01:11\n",
      "\u001b[?25hCollecting nvidia-cufft-cu12==11.0.2.54; platform_system == \"Linux\" and platform_machine == \"x86_64\"\n",
      "\u001b[?25l  Downloading https://files.pythonhosted.org/packages/86/94/eb540db023ce1d162e7bea9f8f5aa781d57c65aed513c33ee9a5123ead4d/nvidia_cufft_cu12-11.0.2.54-py3-none-manylinux1_x86_64.whl (121.6MB)\n",
      "\u001b[K     |████████████████████████████████| 121.6MB 118kB/s eta 0:00:01   |█                               | 4.2MB 1.1MB/s eta 0:01:45\n",
      "\u001b[33mWARNING: Retrying (Retry(total=4, connect=None, read=None, redirect=None, status=None)) after connection broken by 'ProtocolError('Connection aborted.', RemoteDisconnected('Remote end closed connection without response'))': /simple/nvidia-nvtx-cu12/\u001b[0m\n",
      "\u001b[?25hCollecting nvidia-nvtx-cu12==12.1.105; platform_system == \"Linux\" and platform_machine == \"x86_64\"\n",
      "\u001b[?25l  Downloading https://files.pythonhosted.org/packages/da/d3/8057f0587683ed2fcd4dbfbdfdfa807b9160b809976099d36b8f60d08f03/nvidia_nvtx_cu12-12.1.105-py3-none-manylinux1_x86_64.whl (99kB)\n",
      "\u001b[K     |████████████████████████████████| 102kB 1.7MB/s ta 0:00:01\n",
      "\u001b[?25hCollecting nvidia-cuda-runtime-cu12==12.1.105; platform_system == \"Linux\" and platform_machine == \"x86_64\"\n",
      "\u001b[?25l  Downloading https://files.pythonhosted.org/packages/eb/d5/c68b1d2cdfcc59e72e8a5949a37ddb22ae6cade80cd4a57a84d4c8b55472/nvidia_cuda_runtime_cu12-12.1.105-py3-none-manylinux1_x86_64.whl (823kB)\n",
      "\u001b[K     |████████████████████████████████| 829kB 1.5MB/s eta 0:00:01\n",
      "\u001b[?25hCollecting nvidia-cudnn-cu12==8.9.2.26; platform_system == \"Linux\" and platform_machine == \"x86_64\"\n",
      "\u001b[?25l  Downloading https://files.pythonhosted.org/packages/ff/74/a2e2be7fb83aaedec84f391f082cf765dfb635e7caa9b49065f73e4835d8/nvidia_cudnn_cu12-8.9.2.26-py3-none-manylinux1_x86_64.whl (731.7MB)\n",
      "\u001b[K     |████████████████████████████████| 731.7MB 20kB/s  eta 0:00:01     |███████▎                        | 167.6MB 2.4MB/s eta 0:04:00     |██████████                      | 227.6MB 3.0MB/s eta 0:02:47     |██████████▋                     | 243.1MB 1.4MB/s eta 0:05:41     |████████████▎                   | 279.6MB 2.1MB/s eta 0:03:32     |████████████▌                   | 285.1MB 1.4MB/s eta 0:05:10     |█████████████▋                  | 310.9MB 1.5MB/s eta 0:04:34     |██████████████▎                 | 325.7MB 1.4MB/s eta 0:04:56     |███████████████▋                | 357.3MB 2.9MB/s eta 0:02:08     |██████████████████████▏         | 506.1MB 2.5MB/s eta 0:01:329MB 2.8MB/s eta 0:01:09     |█████████████████████████▉      | 591.4MB 2.7MB/s eta 0:00:53     |███████████████████████████▌    | 629.9MB 2.0MB/s eta 0:00:52\n",
      "\u001b[?25hCollecting nvidia-curand-cu12==10.3.2.106; platform_system == \"Linux\" and platform_machine == \"x86_64\"\n",
      "\u001b[?25l  Downloading https://files.pythonhosted.org/packages/44/31/4890b1c9abc496303412947fc7dcea3d14861720642b49e8ceed89636705/nvidia_curand_cu12-10.3.2.106-py3-none-manylinux1_x86_64.whl (56.5MB)\n",
      "\u001b[K     |████████                        | 14.2MB 970kB/s eta 0:00:44    |████                            | 7.0MB 1.9MB/s eta 0:00:26"
     ]
    }
   ],
   "source": [
    "!pip install nemo_toolkit['all']"
   ]
  },
  {
   "cell_type": "code",
   "execution_count": null,
   "id": "c70a110d",
   "metadata": {},
   "outputs": [],
   "source": []
  },
  {
   "cell_type": "code",
   "execution_count": null,
   "id": "2106fcc6",
   "metadata": {},
   "outputs": [],
   "source": []
  }
 ],
 "metadata": {
  "kernelspec": {
   "display_name": "Python 3",
   "language": "python",
   "name": "python3"
  },
  "language_info": {
   "codemirror_mode": {
    "name": "ipython",
    "version": 3
   },
   "file_extension": ".py",
   "mimetype": "text/x-python",
   "name": "python",
   "nbconvert_exporter": "python",
   "pygments_lexer": "ipython3",
   "version": "3.10.13"
  }
 },
 "nbformat": 4,
 "nbformat_minor": 5
}
