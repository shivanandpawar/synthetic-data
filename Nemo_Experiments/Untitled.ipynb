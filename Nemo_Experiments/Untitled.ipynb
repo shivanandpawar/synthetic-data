{
 "cells": [
  {
   "cell_type": "code",
   "execution_count": 4,
   "id": "9b7631d2",
   "metadata": {},
   "outputs": [],
   "source": [
    "# !pip install torch"
   ]
  },
  {
   "cell_type": "code",
   "execution_count": 5,
   "id": "783b7cde",
   "metadata": {},
   "outputs": [],
   "source": [
    "# !pip install torch torchvision torchaudio"
   ]
  },
  {
   "cell_type": "code",
   "execution_count": 7,
   "id": "194e392d",
   "metadata": {},
   "outputs": [],
   "source": [
    "# !sudo conda install pytorch -c pytorch -y"
   ]
  },
  {
   "cell_type": "code",
   "execution_count": 1,
   "id": "c5f992a2",
   "metadata": {},
   "outputs": [],
   "source": [
    "# import torch\n",
    "# torch.__version__"
   ]
  },
  {
   "cell_type": "code",
   "execution_count": 3,
   "id": "2c29bebc",
   "metadata": {},
   "outputs": [],
   "source": [
    "# !sudo yum update -y"
   ]
  },
  {
   "cell_type": "code",
   "execution_count": 5,
   "id": "028248fd",
   "metadata": {},
   "outputs": [
    {
     "name": "stdout",
     "output_type": "stream",
     "text": [
      "--2024-03-27 07:05:34--  https://ftp.lysator.liu.se/pub/opensuse/source/distribution/leap/15.5/repo/oss/src/libsndfile-1.0.28-150000.5.17.1.src.rpm\n",
      "Resolving ftp.lysator.liu.se (ftp.lysator.liu.se)... 130.236.254.253, 130.236.254.251, 2001:6b0:17:f0a0::fd, ...\n",
      "Connecting to ftp.lysator.liu.se (ftp.lysator.liu.se)|130.236.254.253|:443... connected.\n",
      "HTTP request sent, awaiting response... 200 OK\n",
      "Length: 1241928 (1.2M) [application/x-redhat-package-manager]\n",
      "Saving to: ‘libsndfile-1.0.28-150000.5.17.1.src.rpm’\n",
      "\n",
      "libsndfile-1.0.28-1 100%[===================>]   1.18M  1.57MB/s    in 0.8s    \n",
      "\n",
      "2024-03-27 07:05:36 (1.57 MB/s) - ‘libsndfile-1.0.28-150000.5.17.1.src.rpm’ saved [1241928/1241928]\n",
      "\n"
     ]
    }
   ],
   "source": [
    "!sudo wget https://ftp.lysator.liu.se/pub/opensuse/source/distribution/leap/15.5/repo/oss/src/libsndfile-1.0.28-150000.5.17.1.src.rpm"
   ]
  },
  {
   "cell_type": "code",
   "execution_count": 6,
   "id": "61401cc6",
   "metadata": {},
   "outputs": [
    {
     "name": "stdout",
     "output_type": "stream",
     "text": [
      "total 1412\r\n",
      "-rw-r--r-- 1 root      root      1241928 Jun  2  2022 libsndfile-1.0.28-150000.5.17.1.src.rpm\r\n",
      "-rw-r--r-- 1 root      root       176968 Jun  2  2022 libsndfile1-1.0.28-150000.5.17.1.aarch64.rpm\r\n",
      "-rwxrwxrwx 1 mosaic-ai mosaic-ai    8946 Mar 27 06:57 Nemo_Models.ipynb\r\n",
      "-rwxrwxrwx 1 mosaic-ai mosaic-ai    5972 Mar 27 07:04 Untitled.ipynb\r\n"
     ]
    }
   ],
   "source": [
    "!ls -lrt"
   ]
  },
  {
   "cell_type": "code",
   "execution_count": 7,
   "id": "e7dee16d",
   "metadata": {},
   "outputs": [
    {
     "name": "stdout",
     "output_type": "stream",
     "text": [
      "warning: libsndfile-1.0.28-150000.5.17.1.src.rpm: Header V3 RSA/SHA256 Signature, key ID 39db7c82: NOKEY\r\n"
     ]
    }
   ],
   "source": [
    "!sudo rpm -i libsndfile-1.0.28-150000.5.17.1.src.rpm"
   ]
  },
  {
   "cell_type": "code",
   "execution_count": 8,
   "id": "f34803fa",
   "metadata": {},
   "outputs": [
    {
     "name": "stdout",
     "output_type": "stream",
     "text": [
      "Last metadata expiration check: 0:04:38 ago on Wed Mar 27 07:01:38 2024.\r\n",
      "No match for argument: \u001b[1mlibsndfile1\u001b[m\r\n",
      "Error: Unable to find a match: libsndfile1\r\n"
     ]
    }
   ],
   "source": [
    "!sudo yum install -y libsndfile1"
   ]
  },
  {
   "cell_type": "code",
   "execution_count": 9,
   "id": "35dff861",
   "metadata": {},
   "outputs": [
    {
     "name": "stdout",
     "output_type": "stream",
     "text": [
      "/usr/bin/sh: line 1: libsndfile1: command not found\r\n"
     ]
    }
   ],
   "source": [
    "!libsndfile1"
   ]
  },
  {
   "cell_type": "code",
   "execution_count": null,
   "id": "3e3e38e0",
   "metadata": {},
   "outputs": [],
   "source": []
  },
  {
   "cell_type": "code",
   "execution_count": null,
   "id": "bc38c92f",
   "metadata": {},
   "outputs": [],
   "source": [
    "pip install Cython\n"
   ]
  },
  {
   "cell_type": "code",
   "execution_count": 7,
   "id": "24e8b82e",
   "metadata": {},
   "outputs": [],
   "source": [
    "# !cat /etc/redhat-release"
   ]
  },
  {
   "cell_type": "code",
   "execution_count": null,
   "id": "f6b0f55c",
   "metadata": {},
   "outputs": [],
   "source": [
    "pip install nemo_toolkit['all']"
   ]
  },
  {
   "cell_type": "code",
   "execution_count": null,
   "id": "c70a110d",
   "metadata": {},
   "outputs": [],
   "source": []
  },
  {
   "cell_type": "code",
   "execution_count": null,
   "id": "2106fcc6",
   "metadata": {},
   "outputs": [],
   "source": []
  }
 ],
 "metadata": {
  "kernelspec": {
   "display_name": "Python 3",
   "language": "python",
   "name": "python3"
  },
  "language_info": {
   "codemirror_mode": {
    "name": "ipython",
    "version": 3
   },
   "file_extension": ".py",
   "mimetype": "text/x-python",
   "name": "python",
   "nbconvert_exporter": "python",
   "pygments_lexer": "ipython3",
   "version": "3.10.13"
  }
 },
 "nbformat": 4,
 "nbformat_minor": 5
}
