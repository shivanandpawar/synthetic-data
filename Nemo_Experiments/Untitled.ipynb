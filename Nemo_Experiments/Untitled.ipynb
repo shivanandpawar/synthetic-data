{
 "cells": [
  {
   "cell_type": "code",
   "execution_count": 4,
   "id": "9b7631d2",
   "metadata": {},
   "outputs": [],
   "source": [
    "# !pip install torch"
   ]
  },
  {
   "cell_type": "code",
   "execution_count": 5,
   "id": "783b7cde",
   "metadata": {},
   "outputs": [],
   "source": [
    "# !pip install torch torchvision torchaudio"
   ]
  },
  {
   "cell_type": "code",
   "execution_count": 8,
   "id": "b36d9f49",
   "metadata": {},
   "outputs": [],
   "source": [
    "# !sudo conda install pytorch -c pytorch -y"
   ]
  },
  {
   "cell_type": "code",
   "execution_count": 1,
   "id": "9f819705",
   "metadata": {},
   "outputs": [
    {
     "data": {
      "text/plain": [
       "'2.2.1'"
      ]
     },
     "execution_count": 1,
     "metadata": {},
     "output_type": "execute_result"
    }
   ],
   "source": [
    "import torch\n",
    "torch.__version__"
   ]
  },
  {
   "cell_type": "code",
   "execution_count": 4,
   "id": "2c29bebc",
   "metadata": {},
   "outputs": [
    {
     "name": "stdout",
     "output_type": "stream",
     "text": [
      "Last metadata expiration check: 0:00:13 ago on Wed Mar 27 06:30:19 2024.\n",
      "Dependencies resolved.\n",
      "================================================================================\n",
      " Package                Arch   Version               Repository            Size\n",
      "================================================================================\n",
      "Upgrading:\n",
      " \u001b[1m\u001b[32mbinutils              \u001b[m x86_64 2.35.2-42.el9_3.1     ubi-9-baseos-rpms    4.6 M\n",
      " \u001b[1m\u001b[32mbinutils-gold         \u001b[m x86_64 2.35.2-42.el9_3.1     ubi-9-baseos-rpms    734 k\n",
      " \u001b[1m\u001b[32mcurl-minimal          \u001b[m x86_64 7.76.1-26.el9_3.3     ubi-9-baseos-rpms    129 k\n",
      " \u001b[1m\u001b[32mexpat                 \u001b[m x86_64 2.5.0-1.el9_3.1       ubi-9-baseos-rpms    119 k\n",
      " \u001b[1m\u001b[32mgdb-gdbserver         \u001b[m x86_64 10.2-11.1.el9_3       ubi-9-appstream-rpms 280 k\n",
      " \u001b[1m\u001b[32mglibc                 \u001b[m x86_64 2.34-83.el9_3.12      ubi-9-baseos-rpms    1.9 M\n",
      " \u001b[1m\u001b[32mglibc-common          \u001b[m x86_64 2.34-83.el9_3.12      ubi-9-baseos-rpms    315 k\n",
      " \u001b[1m\u001b[32mglibc-devel           \u001b[m x86_64 2.34-83.el9_3.12      ubi-9-appstream-rpms  50 k\n",
      " \u001b[1m\u001b[32mglibc-headers         \u001b[m x86_64 2.34-83.el9_3.12      ubi-9-appstream-rpms 551 k\n",
      " \u001b[1m\u001b[32mglibc-minimal-langpack\u001b[m x86_64 2.34-83.el9_3.12      ubi-9-baseos-rpms     31 k\n",
      " \u001b[1m\u001b[32mkernel-headers        \u001b[m x86_64 5.14.0-362.24.1.el9_3 ubi-9-appstream-rpms 6.5 M\n",
      " \u001b[1m\u001b[32mlibcurl-minimal       \u001b[m x86_64 7.76.1-26.el9_3.3     ubi-9-baseos-rpms    227 k\n",
      " \u001b[1m\u001b[32mopenssh               \u001b[m x86_64 8.7p1-34.el9_3.3      ubi-9-baseos-rpms    465 k\n",
      " \u001b[1m\u001b[32mopenssh-clients       \u001b[m x86_64 8.7p1-34.el9_3.3      ubi-9-baseos-rpms    722 k\n",
      " \u001b[1m\u001b[32mpython3-pip-wheel     \u001b[m noarch 21.2.3-7.el9_3.1      ubi-9-baseos-rpms    1.1 M\n",
      " \u001b[1m\u001b[32msudo                  \u001b[m x86_64 1.9.5p2-10.el9_3      ubi-9-baseos-rpms    1.1 M\n",
      " \u001b[1m\u001b[32mtzdata                \u001b[m noarch 2024a-1.el9           ubi-9-baseos-rpms    842 k\n",
      "Installing weak dependencies:\n",
      " \u001b[1m\u001b[32mglibc-langpack-en     \u001b[m x86_64 2.34-83.el9_3.12      ubi-9-baseos-rpms    669 k\n",
      " \u001b[1m\u001b[32mlibxcrypt-compat      \u001b[m x86_64 4.4.18-3.el9          ubi-9-appstream-rpms  91 k\n",
      "\n",
      "Transaction Summary\n",
      "================================================================================\n",
      "Install   2 Packages\n",
      "Upgrade  17 Packages\n",
      "\n",
      "Total download size: 20 M\n",
      "Downloading Packages:\n",
      "(1/19): libxcrypt-compat-4.4.18-3.el9.x86_64.rp 433 kB/s |  91 kB     00:00    \n",
      "(2/19): glibc-langpack-en-2.34-83.el9_3.12.x86_ 2.3 MB/s | 669 kB     00:00    \n",
      "(3/19): binutils-gold-2.35.2-42.el9_3.1.x86_64. 8.5 MB/s | 734 kB     00:00    \n",
      "(4/19): curl-minimal-7.76.1-26.el9_3.3.x86_64.r 6.4 MB/s | 129 kB     00:00    \n",
      "(5/19): expat-2.5.0-1.el9_3.1.x86_64.rpm        6.9 MB/s | 119 kB     00:00    \n",
      "(6/19): glibc-common-2.34-83.el9_3.12.x86_64.rp  14 MB/s | 315 kB     00:00    \n",
      "(7/19): binutils-2.35.2-42.el9_3.1.x86_64.rpm    12 MB/s | 4.6 MB     00:00    \n",
      "(8/19): glibc-minimal-langpack-2.34-83.el9_3.12 767 kB/s |  31 kB     00:00    \n",
      "(9/19): glibc-2.34-83.el9_3.12.x86_64.rpm        22 MB/s | 1.9 MB     00:00    \n",
      "(10/19): libcurl-minimal-7.76.1-26.el9_3.3.x86_ 7.5 MB/s | 227 kB     00:00    \n",
      "(11/19): openssh-8.7p1-34.el9_3.3.x86_64.rpm     13 MB/s | 465 kB     00:00    \n",
      "(12/19): openssh-clients-8.7p1-34.el9_3.3.x86_6  21 MB/s | 722 kB     00:00    \n",
      "(13/19): python3-pip-wheel-21.2.3-7.el9_3.1.noa  26 MB/s | 1.1 MB     00:00    \n",
      "(14/19): sudo-1.9.5p2-10.el9_3.x86_64.rpm        21 MB/s | 1.1 MB     00:00    \n",
      "(15/19): gdb-gdbserver-10.2-11.1.el9_3.x86_64.r  12 MB/s | 280 kB     00:00    \n",
      "(16/19): tzdata-2024a-1.el9.noarch.rpm           15 MB/s | 842 kB     00:00    \n",
      "(17/19): glibc-devel-2.34-83.el9_3.12.x86_64.rp 2.1 MB/s |  50 kB     00:00    \n",
      "(18/19): glibc-headers-2.34-83.el9_3.12.x86_64.  20 MB/s | 551 kB     00:00    \n",
      "(19/19): kernel-headers-5.14.0-362.24.1.el9_3.x  73 MB/s | 6.5 MB     00:00    \n",
      "--------------------------------------------------------------------------------\n",
      "Total                                            35 MB/s |  20 MB     00:00     \n",
      "Running transaction check\n",
      "Transaction check succeeded.\n",
      "Running transaction test\n",
      "Transaction test succeeded.\n",
      "Running transaction\n",
      "  Preparing        :                                                        1/1 \n",
      "  Upgrading        : kernel-headers-5.14.0-362.24.1.el9_3.x86_64           1/36 \n",
      "  Upgrading        : tzdata-2024a-1.el9.noarch                             2/36 \n",
      "  Upgrading        : glibc-common-2.34-83.el9_3.12.x86_64                  3/36 \n",
      "  Upgrading        : glibc-minimal-langpack-2.34-83.el9_3.12.x86_64        4/36 \n",
      "  Running scriptlet: glibc-2.34-83.el9_3.12.x86_64                         5/36 \n",
      "  Upgrading        : glibc-2.34-83.el9_3.12.x86_64                         5/36 \n",
      "  Running scriptlet: glibc-2.34-83.el9_3.12.x86_64                         5/36 \n",
      "  Installing       : glibc-langpack-en-2.34-83.el9_3.12.x86_64             6/36 \n",
      "  Installing       : libxcrypt-compat-4.4.18-3.el9.x86_64                  7/36 \n",
      "  Upgrading        : binutils-2.35.2-42.el9_3.1.x86_64                     8/36 \n",
      "  Running scriptlet: binutils-2.35.2-42.el9_3.1.x86_64                     8/36 \n",
      "  Upgrading        : binutils-gold-2.35.2-42.el9_3.1.x86_64                9/36 \n",
      "  Upgrading        : libcurl-minimal-7.76.1-26.el9_3.3.x86_64             10/36 \n",
      "  Running scriptlet: openssh-8.7p1-34.el9_3.3.x86_64                      11/36 \n",
      "  Upgrading        : openssh-8.7p1-34.el9_3.3.x86_64                      11/36 \n",
      "  Upgrading        : glibc-headers-2.34-83.el9_3.12.x86_64                12/36 \n",
      "  Upgrading        : glibc-devel-2.34-83.el9_3.12.x86_64                  13/36 \n",
      "  Upgrading        : openssh-clients-8.7p1-34.el9_3.3.x86_64              14/36 \n",
      "  Running scriptlet: openssh-clients-8.7p1-34.el9_3.3.x86_64              14/36 \n",
      "  Upgrading        : curl-minimal-7.76.1-26.el9_3.3.x86_64                15/36 \n",
      "  Upgrading        : python3-pip-wheel-21.2.3-7.el9_3.1.noarch            16/36 \n",
      "  Upgrading        : expat-2.5.0-1.el9_3.1.x86_64                         17/36 \n",
      "  Upgrading        : sudo-1.9.5p2-10.el9_3.x86_64                         18/36 \n",
      "  Running scriptlet: sudo-1.9.5p2-10.el9_3.x86_64                         18/36 \n",
      "  Upgrading        : gdb-gdbserver-10.2-11.1.el9_3.x86_64                 19/36 \n",
      "  Cleanup          : sudo-1.9.5p2-9.el9.x86_64                            20/36 \n",
      "  Cleanup          : gdb-gdbserver-10.2-11.el9.x86_64                     21/36 \n",
      "  Running scriptlet: openssh-clients-8.7p1-34.el9.x86_64                  22/36 \n",
      "  Cleanup          : openssh-clients-8.7p1-34.el9.x86_64                  22/36 \n",
      "  Running scriptlet: binutils-2.35.2-42.el9.x86_64                        23/36 \n",
      "  Cleanup          : binutils-2.35.2-42.el9.x86_64                        23/36 \n",
      "  Running scriptlet: binutils-2.35.2-42.el9.x86_64                        23/36 \n",
      "  Cleanup          : openssh-8.7p1-34.el9.x86_64                          24/36 \n",
      "  Cleanup          : curl-minimal-7.76.1-26.el9_3.2.x86_64                25/36 \n",
      "  Cleanup          : libcurl-minimal-7.76.1-26.el9_3.2.x86_64             26/36 \n",
      "  Cleanup          : binutils-gold-2.35.2-42.el9.x86_64                   27/36 \n",
      "  Cleanup          : expat-2.5.0-1.el9.x86_64                             28/36 \n",
      "  Cleanup          : glibc-devel-2.34-83.el9_3.7.x86_64                   29/36 \n",
      "  Cleanup          : glibc-headers-2.34-83.el9_3.7.x86_64                 30/36 \n",
      "  Cleanup          : kernel-headers-5.14.0-362.18.1.el9_3.x86_64          31/36 \n",
      "  Cleanup          : python3-pip-wheel-21.2.3-7.el9.noarch                32/36 \n",
      "  Cleanup          : glibc-2.34-83.el9_3.7.x86_64                         33/36 \n",
      "  Cleanup          : glibc-minimal-langpack-2.34-83.el9_3.7.x86_64        34/36 \n",
      "  Cleanup          : glibc-common-2.34-83.el9_3.7.x86_64                  35/36 \n",
      "  Cleanup          : tzdata-2023d-1.el9.noarch                            36/36 \n",
      "  Running scriptlet: tzdata-2023d-1.el9.noarch                            36/36 \n",
      "  Verifying        : glibc-langpack-en-2.34-83.el9_3.12.x86_64             1/36 \n",
      "  Verifying        : libxcrypt-compat-4.4.18-3.el9.x86_64                  2/36 \n",
      "  Verifying        : binutils-2.35.2-42.el9_3.1.x86_64                     3/36 \n",
      "  Verifying        : binutils-2.35.2-42.el9.x86_64                         4/36 \n",
      "  Verifying        : binutils-gold-2.35.2-42.el9_3.1.x86_64                5/36 \n",
      "  Verifying        : binutils-gold-2.35.2-42.el9.x86_64                    6/36 \n",
      "  Verifying        : curl-minimal-7.76.1-26.el9_3.3.x86_64                 7/36 \n",
      "  Verifying        : curl-minimal-7.76.1-26.el9_3.2.x86_64                 8/36 \n",
      "  Verifying        : expat-2.5.0-1.el9_3.1.x86_64                          9/36 \n",
      "  Verifying        : expat-2.5.0-1.el9.x86_64                             10/36 \n",
      "  Verifying        : glibc-2.34-83.el9_3.12.x86_64                        11/36 \n",
      "  Verifying        : glibc-2.34-83.el9_3.7.x86_64                         12/36 \n",
      "  Verifying        : glibc-common-2.34-83.el9_3.12.x86_64                 13/36 \n",
      "  Verifying        : glibc-common-2.34-83.el9_3.7.x86_64                  14/36 \n",
      "  Verifying        : glibc-minimal-langpack-2.34-83.el9_3.12.x86_64       15/36 \n",
      "  Verifying        : glibc-minimal-langpack-2.34-83.el9_3.7.x86_64        16/36 \n",
      "  Verifying        : libcurl-minimal-7.76.1-26.el9_3.3.x86_64             17/36 \n",
      "  Verifying        : libcurl-minimal-7.76.1-26.el9_3.2.x86_64             18/36 \n",
      "  Verifying        : openssh-8.7p1-34.el9_3.3.x86_64                      19/36 \n",
      "  Verifying        : openssh-8.7p1-34.el9.x86_64                          20/36 \n",
      "  Verifying        : openssh-clients-8.7p1-34.el9_3.3.x86_64              21/36 \n",
      "  Verifying        : openssh-clients-8.7p1-34.el9.x86_64                  22/36 \n",
      "  Verifying        : python3-pip-wheel-21.2.3-7.el9_3.1.noarch            23/36 \n",
      "  Verifying        : python3-pip-wheel-21.2.3-7.el9.noarch                24/36 \n",
      "  Verifying        : sudo-1.9.5p2-10.el9_3.x86_64                         25/36 \n",
      "  Verifying        : sudo-1.9.5p2-9.el9.x86_64                            26/36 \n",
      "  Verifying        : tzdata-2024a-1.el9.noarch                            27/36 \n",
      "  Verifying        : tzdata-2023d-1.el9.noarch                            28/36 \n",
      "  Verifying        : gdb-gdbserver-10.2-11.1.el9_3.x86_64                 29/36 \n",
      "  Verifying        : gdb-gdbserver-10.2-11.el9.x86_64                     30/36 \n",
      "  Verifying        : glibc-devel-2.34-83.el9_3.12.x86_64                  31/36 \n",
      "  Verifying        : glibc-devel-2.34-83.el9_3.7.x86_64                   32/36 \n",
      "  Verifying        : glibc-headers-2.34-83.el9_3.12.x86_64                33/36 \n",
      "  Verifying        : glibc-headers-2.34-83.el9_3.7.x86_64                 34/36 \n",
      "  Verifying        : kernel-headers-5.14.0-362.24.1.el9_3.x86_64          35/36 \n",
      "  Verifying        : kernel-headers-5.14.0-362.18.1.el9_3.x86_64          36/36 \n"
     ]
    },
    {
     "name": "stdout",
     "output_type": "stream",
     "text": [
      "\n",
      "Upgraded:\n",
      "  binutils-2.35.2-42.el9_3.1.x86_64                                             \n",
      "  binutils-gold-2.35.2-42.el9_3.1.x86_64                                        \n",
      "  curl-minimal-7.76.1-26.el9_3.3.x86_64                                         \n",
      "  expat-2.5.0-1.el9_3.1.x86_64                                                  \n",
      "  gdb-gdbserver-10.2-11.1.el9_3.x86_64                                          \n",
      "  glibc-2.34-83.el9_3.12.x86_64                                                 \n",
      "  glibc-common-2.34-83.el9_3.12.x86_64                                          \n",
      "  glibc-devel-2.34-83.el9_3.12.x86_64                                           \n",
      "  glibc-headers-2.34-83.el9_3.12.x86_64                                         \n",
      "  glibc-minimal-langpack-2.34-83.el9_3.12.x86_64                                \n",
      "  kernel-headers-5.14.0-362.24.1.el9_3.x86_64                                   \n",
      "  libcurl-minimal-7.76.1-26.el9_3.3.x86_64                                      \n",
      "  openssh-8.7p1-34.el9_3.3.x86_64                                               \n",
      "  openssh-clients-8.7p1-34.el9_3.3.x86_64                                       \n",
      "  python3-pip-wheel-21.2.3-7.el9_3.1.noarch                                     \n",
      "  sudo-1.9.5p2-10.el9_3.x86_64                                                  \n",
      "  tzdata-2024a-1.el9.noarch                                                     \n",
      "Installed:\n",
      "  glibc-langpack-en-2.34-83.el9_3.12.x86_64                                     \n",
      "  libxcrypt-compat-4.4.18-3.el9.x86_64                                          \n",
      "\n",
      "Complete!\n",
      "Last metadata expiration check: 0:00:20 ago on Wed Mar 27 06:30:19 2024.\n",
      "No match for argument: \u001b[1mffmpeg\u001b[m\n",
      "Error: Unable to find a match: ffmpeg\n"
     ]
    }
   ],
   "source": [
    "!sudo yum update -y && sudo yum install -y libsndfile ffmpeg"
   ]
  },
  {
   "cell_type": "code",
   "execution_count": null,
   "id": "7e0824e2",
   "metadata": {},
   "outputs": [],
   "source": [
    "pip install Cython\n"
   ]
  },
  {
   "cell_type": "code",
   "execution_count": null,
   "id": "3f1f95b4",
   "metadata": {},
   "outputs": [],
   "source": [
    "pip install nemo_toolkit['all']"
   ]
  },
  {
   "cell_type": "code",
   "execution_count": null,
   "id": "c70a110d",
   "metadata": {},
   "outputs": [],
   "source": []
  },
  {
   "cell_type": "code",
   "execution_count": null,
   "id": "2106fcc6",
   "metadata": {},
   "outputs": [],
   "source": []
  }
 ],
 "metadata": {
  "kernelspec": {
   "display_name": "Python 3",
   "language": "python",
   "name": "python3"
  },
  "language_info": {
   "codemirror_mode": {
    "name": "ipython",
    "version": 3
   },
   "file_extension": ".py",
   "mimetype": "text/x-python",
   "name": "python",
   "nbconvert_exporter": "python",
   "pygments_lexer": "ipython3",
   "version": "3.10.13"
  }
 },
 "nbformat": 4,
 "nbformat_minor": 5
}
