{
 "cells": [
  {
   "cell_type": "code",
   "execution_count": 4,
   "id": "9b7631d2",
   "metadata": {},
   "outputs": [],
   "source": [
    "# !pip install torch"
   ]
  },
  {
   "cell_type": "code",
   "execution_count": 5,
   "id": "783b7cde",
   "metadata": {},
   "outputs": [],
   "source": [
    "# !pip install torch torchvision torchaudio"
   ]
  },
  {
   "cell_type": "code",
   "execution_count": 8,
   "id": "3e0e9d32",
   "metadata": {},
   "outputs": [],
   "source": [
    "# !sudo conda install pytorch -c pytorch -y"
   ]
  },
  {
   "cell_type": "code",
   "execution_count": 1,
   "id": "8c732a9e",
   "metadata": {},
   "outputs": [
    {
     "data": {
      "text/plain": [
       "'2.2.1'"
      ]
     },
     "execution_count": 1,
     "metadata": {},
     "output_type": "execute_result"
    }
   ],
   "source": [
    "import torch\n",
    "torch.__version__"
   ]
  },
  {
   "cell_type": "code",
   "execution_count": 11,
   "id": "2c29bebc",
   "metadata": {},
   "outputs": [],
   "source": [
    "# !sudo yum update -y"
   ]
  },
  {
   "cell_type": "code",
   "execution_count": 12,
   "id": "62cf627d",
   "metadata": {},
   "outputs": [
    {
     "name": "stdout",
     "output_type": "stream",
     "text": [
      "find: ‘/proc/1/task/1/fdinfo’: Permission denied\n",
      "find: ‘/proc/1/map_files’: Permission denied\n",
      "find: ‘/proc/1/fdinfo’: Permission denied\n",
      "find: ‘/proc/7/task/7/fdinfo’: Permission denied\n",
      "find: ‘/proc/7/task/25/fdinfo’: Permission denied\n",
      "find: ‘/proc/7/task/26/fdinfo’: Permission denied\n",
      "find: ‘/proc/7/map_files’: Permission denied\n",
      "find: ‘/proc/7/fdinfo’: Permission denied\n",
      "find: ‘/proc/220/task/220/fdinfo’: Permission denied\n",
      "find: ‘/proc/220/task/222/fdinfo’: Permission denied\n",
      "find: ‘/proc/220/task/223/fdinfo’: Permission denied\n",
      "find: ‘/proc/220/task/224/fdinfo’: Permission denied\n",
      "find: ‘/proc/220/task/225/fdinfo’: Permission denied\n",
      "find: ‘/proc/220/task/226/fdinfo’: Permission denied\n",
      "find: ‘/proc/220/task/227/fdinfo’: Permission denied\n",
      "find: ‘/proc/220/task/228/fdinfo’: Permission denied\n",
      "find: ‘/proc/220/task/229/fdinfo’: Permission denied\n",
      "find: ‘/proc/220/map_files’: Permission denied\n",
      "find: ‘/proc/220/fdinfo’: Permission denied\n",
      "find: ‘/proc/245/task/245/fdinfo’: Permission denied\n",
      "find: ‘/proc/245/map_files’: Permission denied\n",
      "find: ‘/proc/245/fdinfo’: Permission denied\n",
      "/usr/lib64/libsndfile.so.1\n",
      "/usr/lib64/libsndfile.so.1.0.31\n",
      "^C\n"
     ]
    }
   ],
   "source": [
    "!sudo find / -name libsndfile.so*"
   ]
  },
  {
   "cell_type": "code",
   "execution_count": 17,
   "id": "386792db",
   "metadata": {},
   "outputs": [],
   "source": [
    "# import os\n",
    "# os.getenv(\"LD_LIBRARY_PATH\")"
   ]
  },
  {
   "cell_type": "code",
   "execution_count": null,
   "id": "fd6e5c4a",
   "metadata": {},
   "outputs": [],
   "source": [
    "export $LD_LIBRARY_PATH="
   ]
  },
  {
   "cell_type": "code",
   "execution_count": 11,
   "id": "35bef4e4",
   "metadata": {},
   "outputs": [
    {
     "name": "stdout",
     "output_type": "stream",
     "text": [
      "Last metadata expiration check: 0:09:23 ago on Wed Mar 27 06:30:19 2024.\n",
      "No match for argument: \u001b[1mffmpeg\u001b[m\n",
      "Error: Unable to find a match: ffmpeg\n"
     ]
    }
   ],
   "source": [
    "# !sudo yum install -y ffmpeg"
   ]
  },
  {
   "cell_type": "code",
   "execution_count": 10,
   "id": "5bf40885",
   "metadata": {},
   "outputs": [
    {
     "name": "stdout",
     "output_type": "stream",
     "text": [
      "/usr/bin/sh: line 1: libsndfile: command not found\r\n"
     ]
    }
   ],
   "source": [
    "!libsndfile"
   ]
  },
  {
   "cell_type": "code",
   "execution_count": null,
   "id": "de7c71fa",
   "metadata": {},
   "outputs": [],
   "source": []
  },
  {
   "cell_type": "code",
   "execution_count": null,
   "id": "4630d32e",
   "metadata": {},
   "outputs": [],
   "source": [
    "pip install Cython\n"
   ]
  },
  {
   "cell_type": "code",
   "execution_count": 7,
   "id": "65566eab",
   "metadata": {},
   "outputs": [],
   "source": [
    "# !cat /etc/redhat-release"
   ]
  },
  {
   "cell_type": "code",
   "execution_count": null,
   "id": "c548a62b",
   "metadata": {},
   "outputs": [],
   "source": [
    "pip install nemo_toolkit['all']"
   ]
  },
  {
   "cell_type": "code",
   "execution_count": null,
   "id": "c70a110d",
   "metadata": {},
   "outputs": [],
   "source": []
  },
  {
   "cell_type": "code",
   "execution_count": null,
   "id": "2106fcc6",
   "metadata": {},
   "outputs": [],
   "source": []
  }
 ],
 "metadata": {
  "kernelspec": {
   "display_name": "Python 3",
   "language": "python",
   "name": "python3"
  },
  "language_info": {
   "codemirror_mode": {
    "name": "ipython",
    "version": 3
   },
   "file_extension": ".py",
   "mimetype": "text/x-python",
   "name": "python",
   "nbconvert_exporter": "python",
   "pygments_lexer": "ipython3",
   "version": "3.10.13"
  }
 },
 "nbformat": 4,
 "nbformat_minor": 5
}
