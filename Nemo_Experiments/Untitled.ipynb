{
 "cells": [
  {
   "cell_type": "code",
   "execution_count": 3,
   "id": "1d299c19",
   "metadata": {},
   "outputs": [
    {
     "name": "stdout",
     "output_type": "stream",
     "text": [
      "Collecting torch\n",
      "\u001b[?25l  Downloading https://files.pythonhosted.org/packages/a7/ad/fbe7d4cffb76da4e478438853b51305361c719cff929ab70a808e7fb75e7/torch-2.2.1-cp310-cp310-manylinux1_x86_64.whl (755.5MB)\n",
      "\u001b[K     |████████████████████████████████| 755.5MB 22kB/s  eta 0:00:016     |███████▍                        | 175.0MB 1.8MB/s eta 0:05:29     |█████████▋                      | 228.2MB 2.3MB/s eta 0:03:50     |███████████▎                    | 265.5MB 1.3MB/s eta 0:06:28     |█████████████████▋              | 416.6MB 3.1MB/s eta 0:01:50     |█████████████████▊              | 418.4MB 3.1MB/s eta 0:01:49     |███████████████████████████▉    | 656.0MB 1.1MB/s eta 0:01:31     |████████████████████████████▏   | 664.7MB 2.4MB/s eta 0:00:38\n",
      "\u001b[?25hCollecting nvidia-cufft-cu12==11.0.2.54; platform_system == \"Linux\" and platform_machine == \"x86_64\"\n",
      "\u001b[?25l  Downloading https://files.pythonhosted.org/packages/86/94/eb540db023ce1d162e7bea9f8f5aa781d57c65aed513c33ee9a5123ead4d/nvidia_cufft_cu12-11.0.2.54-py3-none-manylinux1_x86_64.whl (121.6MB)\n",
      "\u001b[K     |████████████████████████████████| 121.6MB 131kB/s eta 0:00:01\n",
      "\u001b[?25hCollecting nvidia-cublas-cu12==12.1.3.1; platform_system == \"Linux\" and platform_machine == \"x86_64\"\n",
      "\u001b[?25l  Downloading https://files.pythonhosted.org/packages/37/6d/121efd7382d5b0284239f4ab1fc1590d86d34ed4a4a2fdb13b30ca8e5740/nvidia_cublas_cu12-12.1.3.1-py3-none-manylinux1_x86_64.whl (410.6MB)\n",
      "\u001b[K     |████████████████████████████████| 410.6MB 33kB/s  eta 0:00:01    |███▎                            | 42.7MB 2.0MB/s eta 0:03:03     |████████████                    | 154.9MB 1.8MB/s eta 0:02:25     |████████████▊                   | 162.9MB 1.5MB/s eta 0:02:46     |████████████████▎               | 209.0MB 995kB/s eta 0:03:23     |████████████████▊               | 215.2MB 1.6MB/s eta 0:02:01     |█████████████████████████▌      | 326.6MB 901kB/s eta 0:01:34     |████████████████████████████    | 359.6MB 1.7MB/s eta 0:00:31     |█████████████████████████████▏  | 373.7MB 1.6MB/s eta 0:00:24     |█████████████████████████████▊  | 381.8MB 990kB/s eta 0:00:30\n",
      "\u001b[?25hCollecting sympy\n",
      "\u001b[?25l  Downloading https://files.pythonhosted.org/packages/d2/05/e6600db80270777c4a64238a98d442f0fd07cc8915be2a1c16da7f2b9e74/sympy-1.12-py3-none-any.whl (5.7MB)\n",
      "\u001b[K     |████████████████████████████████| 5.7MB 1.8MB/s eta 0:00:01\n",
      "\u001b[?25hCollecting filelock\n",
      "  Downloading https://files.pythonhosted.org/packages/8b/69/acdf492db27dea7be5c63053230130e0574fd8a376de3555d5f8bbc3d3ad/filelock-3.13.3-py3-none-any.whl\n",
      "Collecting networkx\n",
      "\u001b[?25l  Downloading https://files.pythonhosted.org/packages/d5/f0/8fbc882ca80cf077f1b246c0e3c3465f7f415439bdea6b899f6b19f61f70/networkx-3.2.1-py3-none-any.whl (1.6MB)\n",
      "\u001b[K     |████████████████████████████████| 1.6MB 2.0MB/s eta 0:00:01\n",
      "\u001b[?25hCollecting nvidia-nvtx-cu12==12.1.105; platform_system == \"Linux\" and platform_machine == \"x86_64\"\n",
      "\u001b[?25l  Downloading https://files.pythonhosted.org/packages/da/d3/8057f0587683ed2fcd4dbfbdfdfa807b9160b809976099d36b8f60d08f03/nvidia_nvtx_cu12-12.1.105-py3-none-manylinux1_x86_64.whl (99kB)\n",
      "\u001b[K     |████████████████████████████████| 102kB 1.3MB/s ta 0:00:01\n",
      "\u001b[?25hCollecting fsspec\n",
      "\u001b[?25l  Downloading https://files.pythonhosted.org/packages/93/6d/66d48b03460768f523da62a57a7e14e5e95fdf339d79e996ce3cecda2cdb/fsspec-2024.3.1-py3-none-any.whl (171kB)\n",
      "\u001b[K     |████████████████████████████████| 174kB 1.2MB/s eta 0:00:01\n",
      "\u001b[?25hCollecting nvidia-cudnn-cu12==8.9.2.26; platform_system == \"Linux\" and platform_machine == \"x86_64\"\n",
      "\u001b[?25l  Downloading https://files.pythonhosted.org/packages/ff/74/a2e2be7fb83aaedec84f391f082cf765dfb635e7caa9b49065f73e4835d8/nvidia_cudnn_cu12-8.9.2.26-py3-none-manylinux1_x86_64.whl (731.7MB)\n",
      "\u001b[K     |████████████████████████████████| 731.7MB 19kB/s  eta 0:00:01    |█▊                              | 39.6MB 1.0MB/s eta 0:11:04     |██▋                             | 60.9MB 1.3MB/s eta 0:08:24     |███                             | 67.8MB 1.2MB/s eta 0:09:18     |███████████████▋                | 357.2MB 959kB/s eta 0:06:31     |█████████████████               | 390.8MB 1.3MB/s eta 0:04:13     |███████████████████             | 435.6MB 1.3MB/s eta 0:03:52     |███████████████████▎            | 441.0MB 1.4MB/s eta 0:03:28     |██████████████████████▊         | 518.4MB 1.6MB/s eta 0:02:13     |███████████████████████████▍    | 626.1MB 1.2MB/s eta 0:01:30\n",
      "\u001b[?25hCollecting nvidia-cuda-nvrtc-cu12==12.1.105; platform_system == \"Linux\" and platform_machine == \"x86_64\"\n",
      "\u001b[?25l  Downloading https://files.pythonhosted.org/packages/b6/9f/c64c03f49d6fbc56196664d05dba14e3a561038a81a638eeb47f4d4cfd48/nvidia_cuda_nvrtc_cu12-12.1.105-py3-none-manylinux1_x86_64.whl (23.7MB)\n",
      "\u001b[K     |████████████████████████████████| 23.7MB 1.3MB/s eta 0:00:01\n",
      "\u001b[?25hCollecting nvidia-nccl-cu12==2.19.3; platform_system == \"Linux\" and platform_machine == \"x86_64\"\n",
      "\u001b[?25l  Downloading https://files.pythonhosted.org/packages/38/00/d0d4e48aef772ad5aebcf70b73028f88db6e5640b36c38e90445b7a57c45/nvidia_nccl_cu12-2.19.3-py3-none-manylinux1_x86_64.whl (166.0MB)\n",
      "\u001b[K     |████████████████████████████████| 166.0MB 100kB/s eta 0:00:01\n",
      "\u001b[?25hCollecting nvidia-cuda-cupti-cu12==12.1.105; platform_system == \"Linux\" and platform_machine == \"x86_64\"\n",
      "\u001b[?25l  Downloading https://files.pythonhosted.org/packages/7e/00/6b218edd739ecfc60524e585ba8e6b00554dd908de2c9c66c1af3e44e18d/nvidia_cuda_cupti_cu12-12.1.105-py3-none-manylinux1_x86_64.whl (14.1MB)\n",
      "\u001b[K     |████████████████████████████████| 14.1MB 984kB/s eta 0:00:01\n",
      "\u001b[?25hCollecting nvidia-cusparse-cu12==12.1.0.106; platform_system == \"Linux\" and platform_machine == \"x86_64\"\n",
      "\u001b[?25l  Downloading https://files.pythonhosted.org/packages/65/5b/cfaeebf25cd9fdec14338ccb16f6b2c4c7fa9163aefcf057d86b9cc248bb/nvidia_cusparse_cu12-12.1.0.106-py3-none-manylinux1_x86_64.whl (196.0MB)\n",
      "\u001b[K     |████████████████████████████████| 196.0MB 74kB/s  eta 0:00:01    |██████████▋                     | 65.0MB 617kB/s eta 0:03:32     |██████████████▏                 | 86.9MB 1.9MB/s eta 0:00:57     |███████████████████             | 116.1MB 1.6MB/s eta 0:00:51     |███████████████████████▋        | 144.9MB 1.4MB/s eta 0:00:37\n",
      "\u001b[?25hCollecting typing-extensions>=4.8.0\n",
      "  Downloading https://files.pythonhosted.org/packages/f9/de/dc04a3ea60b22624b51c703a84bbe0184abcd1d0b9bc8074b5d6b7ab90bb/typing_extensions-4.10.0-py3-none-any.whl\n",
      "Collecting nvidia-cusolver-cu12==11.4.5.107; platform_system == \"Linux\" and platform_machine == \"x86_64\"\n",
      "\u001b[?25l  Downloading https://files.pythonhosted.org/packages/bc/1d/8de1e5c67099015c834315e333911273a8c6aaba78923dd1d1e25fc5f217/nvidia_cusolver_cu12-11.4.5.107-py3-none-manylinux1_x86_64.whl (124.2MB)\n",
      "\u001b[K     |████████████████████████████████| 124.2MB 117kB/s eta 0:00:01    |████████                        | 31.2MB 1.7MB/s eta 0:00:54     |██████████                      | 38.9MB 1.3MB/s eta 0:01:08     |█████████████▏                  | 51.1MB 1.5MB/s eta 0:00:51\n",
      "\u001b[?25hCollecting nvidia-cuda-runtime-cu12==12.1.105; platform_system == \"Linux\" and platform_machine == \"x86_64\"\n",
      "\u001b[?25l  Downloading https://files.pythonhosted.org/packages/eb/d5/c68b1d2cdfcc59e72e8a5949a37ddb22ae6cade80cd4a57a84d4c8b55472/nvidia_cuda_runtime_cu12-12.1.105-py3-none-manylinux1_x86_64.whl (823kB)\n",
      "\u001b[K     |████████████████████████████████| 829kB 1.2MB/s eta 0:00:01\n",
      "\u001b[?25hCollecting jinja2\n",
      "\u001b[?25l  Downloading https://files.pythonhosted.org/packages/30/6d/6de6be2d02603ab56e72997708809e8a5b0fbfee080735109b40a3564843/Jinja2-3.1.3-py3-none-any.whl (133kB)\n",
      "\u001b[K     |████████████████████████████████| 143kB 1.5MB/s eta 0:00:01\n",
      "\u001b[?25hCollecting triton==2.2.0; platform_system == \"Linux\" and platform_machine == \"x86_64\" and python_version < \"3.12\"\n",
      "\u001b[?25l  Downloading https://files.pythonhosted.org/packages/95/05/ed974ce87fe8c8843855daa2136b3409ee1c126707ab54a8b72815c08b49/triton-2.2.0-cp310-cp310-manylinux_2_17_x86_64.manylinux2014_x86_64.whl (167.9MB)\n",
      "\u001b[K     |████████████████████████████████| 167.9MB 83kB/s  eta 0:00:01    |██████████▏                     | 53.5MB 2.0MB/s eta 0:00:57     |██████████████████████████▎     | 137.9MB 1.8MB/s eta 0:00:18\n",
      "\u001b[?25hCollecting nvidia-curand-cu12==10.3.2.106; platform_system == \"Linux\" and platform_machine == \"x86_64\"\n",
      "\u001b[?25l  Downloading https://files.pythonhosted.org/packages/44/31/4890b1c9abc496303412947fc7dcea3d14861720642b49e8ceed89636705/nvidia_curand_cu12-10.3.2.106-py3-none-manylinux1_x86_64.whl (56.5MB)\n"
     ]
    },
    {
     "name": "stdout",
     "output_type": "stream",
     "text": [
      "\u001b[K     |████████████████████████████████| 56.5MB 1.5MB/s eta 0:00:01\n",
      "\u001b[?25hCollecting mpmath>=0.19\n",
      "\u001b[?25l  Downloading https://files.pythonhosted.org/packages/43/e3/7d92a15f894aa0c9c4b49b8ee9ac9850d6e63b03c9c32c0367a13ae62209/mpmath-1.3.0-py3-none-any.whl (536kB)\n",
      "\u001b[K     |████████████████████████████████| 542kB 1.5MB/s eta 0:00:01\n",
      "\u001b[?25hCollecting nvidia-nvjitlink-cu12\n",
      "\u001b[?25l  Downloading https://files.pythonhosted.org/packages/58/d1/d1c80553f9d5d07b6072bc132607d75a0ef3600e28e1890e11c0f55d7346/nvidia_nvjitlink_cu12-12.4.99-py3-none-manylinux2014_x86_64.whl (21.1MB)\n",
      "\u001b[K     |████████████████████████████████| 21.1MB 2.0MB/s eta 0:00:01\n",
      "\u001b[?25hCollecting MarkupSafe>=2.0\n",
      "  Downloading https://files.pythonhosted.org/packages/7c/52/2b1b570f6b8b803cef5ac28fdf78c0da318916c7d2fe9402a84d591b394c/MarkupSafe-2.1.5-cp310-cp310-manylinux_2_17_x86_64.manylinux2014_x86_64.whl\n",
      "\u001b[31mERROR: mlflow 2.6.0 has requirement pytz<2024, but you'll have pytz 2024.1 which is incompatible.\u001b[0m\n",
      "\u001b[31mERROR: mosaic-ai-serving 1.0.0 has requirement Flask==2.1.1; python_version >= \"3.7\", but you'll have flask 2.3.3 which is incompatible.\u001b[0m\n",
      "\u001b[31mERROR: mosaic-ai-serving 1.0.0 has requirement itsdangerous==2.0.1, but you'll have itsdangerous 2.1.2 which is incompatible.\u001b[0m\n",
      "\u001b[31mERROR: mosaic-ai-serving 1.0.0 has requirement Jinja2==3.0.3, but you'll have jinja2 3.1.3 which is incompatible.\u001b[0m\n",
      "\u001b[31mERROR: mosaic-ai-serving 1.0.0 has requirement matplotlib==3.6.0; python_version >= \"3.8\", but you'll have matplotlib 3.8.3 which is incompatible.\u001b[0m\n",
      "\u001b[31mERROR: mosaic-ai-serving 1.0.0 has requirement numpy==1.24.1; python_version >= \"3.10\", but you'll have numpy 1.26.4 which is incompatible.\u001b[0m\n",
      "\u001b[31mERROR: jupyterlab 3.2.4 has requirement jupyter-server~=1.4, but you'll have jupyter-server 2.7.3 which is incompatible.\u001b[0m\n",
      "Installing collected packages: nvidia-cufft-cu12, nvidia-cublas-cu12, mpmath, sympy, filelock, networkx, nvidia-nvtx-cu12, fsspec, nvidia-cudnn-cu12, nvidia-cuda-nvrtc-cu12, nvidia-nccl-cu12, nvidia-cuda-cupti-cu12, nvidia-nvjitlink-cu12, nvidia-cusparse-cu12, typing-extensions, nvidia-cusolver-cu12, nvidia-cuda-runtime-cu12, MarkupSafe, jinja2, triton, nvidia-curand-cu12, torch\n",
      "Successfully installed MarkupSafe-2.1.5 filelock-3.13.3 fsspec-2024.3.1 jinja2-3.1.3 mpmath-1.3.0 networkx-3.2.1 nvidia-cublas-cu12-12.1.3.1 nvidia-cuda-cupti-cu12-12.1.105 nvidia-cuda-nvrtc-cu12-12.1.105 nvidia-cuda-runtime-cu12-12.1.105 nvidia-cudnn-cu12-8.9.2.26 nvidia-cufft-cu12-11.0.2.54 nvidia-curand-cu12-10.3.2.106 nvidia-cusolver-cu12-11.4.5.107 nvidia-cusparse-cu12-12.1.0.106 nvidia-nccl-cu12-2.19.3 nvidia-nvjitlink-cu12-12.4.99 nvidia-nvtx-cu12-12.1.105 sympy-1.12 torch-2.2.1 triton-2.2.0 typing-extensions-4.10.0\n",
      "\u001b[33mWARNING: You are using pip version 19.3.1; however, version 24.0 is available.\n",
      "You should consider upgrading via the 'pip install --upgrade pip' command.\u001b[0m\n"
     ]
    }
   ],
   "source": [
    "!pip install torch"
   ]
  },
  {
   "cell_type": "code",
   "execution_count": null,
   "id": "e9a7acc3",
   "metadata": {},
   "outputs": [],
   "source": []
  }
 ],
 "metadata": {
  "kernelspec": {
   "display_name": "Python 3",
   "language": "python",
   "name": "python3"
  },
  "language_info": {
   "codemirror_mode": {
    "name": "ipython",
    "version": 3
   },
   "file_extension": ".py",
   "mimetype": "text/x-python",
   "name": "python",
   "nbconvert_exporter": "python",
   "pygments_lexer": "ipython3",
   "version": "3.10.13"
  }
 },
 "nbformat": 4,
 "nbformat_minor": 5
}
