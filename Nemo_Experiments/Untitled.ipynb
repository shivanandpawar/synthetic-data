{
 "cells": [
  {
   "cell_type": "code",
   "execution_count": 4,
   "id": "9b7631d2",
   "metadata": {},
   "outputs": [],
   "source": [
    "# !pip install torch"
   ]
  },
  {
   "cell_type": "code",
   "execution_count": 5,
   "id": "783b7cde",
   "metadata": {},
   "outputs": [],
   "source": [
    "# !pip install torch torchvision torchaudio"
   ]
  },
  {
   "cell_type": "code",
   "execution_count": 7,
   "id": "194e392d",
   "metadata": {},
   "outputs": [],
   "source": [
    "# !sudo conda install pytorch -c pytorch -y"
   ]
  },
  {
   "cell_type": "code",
   "execution_count": 1,
   "id": "c5f992a2",
   "metadata": {},
   "outputs": [],
   "source": [
    "# import torch\n",
    "# torch.__version__"
   ]
  },
  {
   "cell_type": "code",
   "execution_count": 3,
   "id": "2c29bebc",
   "metadata": {},
   "outputs": [],
   "source": [
    "# !sudo yum update -y"
   ]
  },
  {
   "cell_type": "code",
   "execution_count": 2,
   "id": "028248fd",
   "metadata": {},
   "outputs": [
    {
     "name": "stdout",
     "output_type": "stream",
     "text": [
      "--2024-03-27 07:04:24--  https://ftp.lysator.liu.se/pub/opensuse/distribution/leap/15.5/repo/oss/aarch64/libsndfile1-1.0.28-150000.5.17.1.aarch64.rpm\n",
      "Resolving ftp.lysator.liu.se (ftp.lysator.liu.se)... 130.236.254.251, 130.236.254.253, 2001:6b0:17:f0a0::fd, ...\n",
      "Connecting to ftp.lysator.liu.se (ftp.lysator.liu.se)|130.236.254.251|:443... connected.\n",
      "HTTP request sent, awaiting response... 200 OK\n",
      "Length: 176968 (173K) [application/x-redhat-package-manager]\n",
      "Saving to: ‘libsndfile1-1.0.28-150000.5.17.1.aarch64.rpm’\n",
      "\n",
      "libsndfile1-1.0.28- 100%[===================>] 172.82K   436KB/s    in 0.4s    \n",
      "\n",
      "2024-03-27 07:04:26 (436 KB/s) - ‘libsndfile1-1.0.28-150000.5.17.1.aarch64.rpm’ saved [176968/176968]\n",
      "\n"
     ]
    }
   ],
   "source": [
    "!sudo wget https://ftp.lysator.liu.se/pub/opensuse/distribution/leap/15.5/repo/oss/aarch64/libsndfile1-1.0.28-150000.5.17.1.aarch64.rpm"
   ]
  },
  {
   "cell_type": "code",
   "execution_count": 3,
   "id": "61401cc6",
   "metadata": {},
   "outputs": [
    {
     "name": "stdout",
     "output_type": "stream",
     "text": [
      "total 192\r\n",
      "-rw-r--r-- 1 root      root      176968 Jun  2  2022 libsndfile1-1.0.28-150000.5.17.1.aarch64.rpm\r\n",
      "-rwxrwxrwx 1 mosaic-ai mosaic-ai   8946 Mar 27 06:57 Nemo_Models.ipynb\r\n",
      "-rwxrwxrwx 1 mosaic-ai mosaic-ai   3631 Mar 27 07:02 Untitled.ipynb\r\n"
     ]
    }
   ],
   "source": [
    "!ls -lrt"
   ]
  },
  {
   "cell_type": "code",
   "execution_count": 4,
   "id": "e7dee16d",
   "metadata": {},
   "outputs": [
    {
     "name": "stdout",
     "output_type": "stream",
     "text": [
      "warning: libsndfile1-1.0.28-150000.5.17.1.aarch64.rpm: Header V3 RSA/SHA256 Signature, key ID 39db7c82: NOKEY\r\n",
      "error: Failed dependencies:\r\n",
      "\tld-linux-aarch64.so.1()(64bit) is needed by libsndfile1-1.0.28-150000.5.17.1.aarch64\r\n",
      "\tld-linux-aarch64.so.1(GLIBC_2.17)(64bit) is needed by libsndfile1-1.0.28-150000.5.17.1.aarch64\r\n",
      "\tlibFLAC.so.8()(64bit) is needed by libsndfile1-1.0.28-150000.5.17.1.aarch64\r\n",
      "\tlibm.so.6(GLIBC_2.17)(64bit) is needed by libsndfile1-1.0.28-150000.5.17.1.aarch64\r\n",
      "\tlibogg.so.0()(64bit) is needed by libsndfile1-1.0.28-150000.5.17.1.aarch64\r\n",
      "\tlibspeex.so.1()(64bit) is needed by libsndfile1-1.0.28-150000.5.17.1.aarch64\r\n",
      "\tlibvorbis.so.0()(64bit) is needed by libsndfile1-1.0.28-150000.5.17.1.aarch64\r\n",
      "\tlibvorbisenc.so.2()(64bit) is needed by libsndfile1-1.0.28-150000.5.17.1.aarch64\r\n"
     ]
    }
   ],
   "source": [
    "!sudo rpm -i libsndfile1-1.0.28-150000.5.17.1.aarch64.rpm"
   ]
  },
  {
   "cell_type": "code",
   "execution_count": 11,
   "id": "f34803fa",
   "metadata": {},
   "outputs": [
    {
     "name": "stdout",
     "output_type": "stream",
     "text": [
      "Last metadata expiration check: 0:09:23 ago on Wed Mar 27 06:30:19 2024.\n",
      "No match for argument: \u001b[1mffmpeg\u001b[m\n",
      "Error: Unable to find a match: ffmpeg\n"
     ]
    }
   ],
   "source": [
    "# !sudo yum install -y ffmpeg"
   ]
  },
  {
   "cell_type": "code",
   "execution_count": 10,
   "id": "35dff861",
   "metadata": {},
   "outputs": [
    {
     "name": "stdout",
     "output_type": "stream",
     "text": [
      "/usr/bin/sh: line 1: libsndfile: command not found\r\n"
     ]
    }
   ],
   "source": [
    "!libsndfile"
   ]
  },
  {
   "cell_type": "code",
   "execution_count": null,
   "id": "3e3e38e0",
   "metadata": {},
   "outputs": [],
   "source": []
  },
  {
   "cell_type": "code",
   "execution_count": null,
   "id": "bc38c92f",
   "metadata": {},
   "outputs": [],
   "source": [
    "pip install Cython\n"
   ]
  },
  {
   "cell_type": "code",
   "execution_count": 7,
   "id": "24e8b82e",
   "metadata": {},
   "outputs": [],
   "source": [
    "# !cat /etc/redhat-release"
   ]
  },
  {
   "cell_type": "code",
   "execution_count": null,
   "id": "f6b0f55c",
   "metadata": {},
   "outputs": [],
   "source": [
    "pip install nemo_toolkit['all']"
   ]
  },
  {
   "cell_type": "code",
   "execution_count": null,
   "id": "c70a110d",
   "metadata": {},
   "outputs": [],
   "source": []
  },
  {
   "cell_type": "code",
   "execution_count": null,
   "id": "2106fcc6",
   "metadata": {},
   "outputs": [],
   "source": []
  }
 ],
 "metadata": {
  "kernelspec": {
   "display_name": "Python 3",
   "language": "python",
   "name": "python3"
  },
  "language_info": {
   "codemirror_mode": {
    "name": "ipython",
    "version": 3
   },
   "file_extension": ".py",
   "mimetype": "text/x-python",
   "name": "python",
   "nbconvert_exporter": "python",
   "pygments_lexer": "ipython3",
   "version": "3.10.13"
  }
 },
 "nbformat": 4,
 "nbformat_minor": 5
}
