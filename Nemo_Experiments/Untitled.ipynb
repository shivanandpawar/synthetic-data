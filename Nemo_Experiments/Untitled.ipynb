{
 "cells": [
  {
   "cell_type": "code",
   "execution_count": null,
   "id": "ad4f7593",
   "metadata": {},
   "outputs": [
    {
     "name": "stdout",
     "output_type": "stream",
     "text": [
      "Collecting torch\n",
      "\u001b[?25l  Downloading https://files.pythonhosted.org/packages/a7/ad/fbe7d4cffb76da4e478438853b51305361c719cff929ab70a808e7fb75e7/torch-2.2.1-cp310-cp310-manylinux1_x86_64.whl (755.5MB)\n",
      "\u001b[K     |████████████████████████████████| 755.5MB 22kB/s  eta 0:00:016     |███████▍                        | 175.0MB 1.8MB/s eta 0:05:29     |█████████▋                      | 228.2MB 2.3MB/s eta 0:03:50     |███████████▎                    | 265.5MB 1.3MB/s eta 0:06:28     |█████████████████▋              | 416.6MB 3.1MB/s eta 0:01:50     |█████████████████▊              | 418.4MB 3.1MB/s eta 0:01:49     |███████████████████████████▉    | 656.0MB 1.1MB/s eta 0:01:31     |████████████████████████████▏   | 664.7MB 2.4MB/s eta 0:00:38\n",
      "\u001b[?25hCollecting nvidia-cufft-cu12==11.0.2.54; platform_system == \"Linux\" and platform_machine == \"x86_64\"\n",
      "\u001b[?25l  Downloading https://files.pythonhosted.org/packages/86/94/eb540db023ce1d162e7bea9f8f5aa781d57c65aed513c33ee9a5123ead4d/nvidia_cufft_cu12-11.0.2.54-py3-none-manylinux1_x86_64.whl (121.6MB)\n",
      "\u001b[K     |████████████████████████████████| 121.6MB 131kB/s eta 0:00:01\n",
      "\u001b[?25hCollecting nvidia-cublas-cu12==12.1.3.1; platform_system == \"Linux\" and platform_machine == \"x86_64\"\n",
      "\u001b[?25l  Downloading https://files.pythonhosted.org/packages/37/6d/121efd7382d5b0284239f4ab1fc1590d86d34ed4a4a2fdb13b30ca8e5740/nvidia_cublas_cu12-12.1.3.1-py3-none-manylinux1_x86_64.whl (410.6MB)\n",
      "\u001b[K     |██                              | 24.3MB 1.7MB/s eta 0:03:52"
     ]
    }
   ],
   "source": [
    "!pip install torch"
   ]
  },
  {
   "cell_type": "code",
   "execution_count": null,
   "id": "a9a0a21d",
   "metadata": {},
   "outputs": [],
   "source": []
  }
 ],
 "metadata": {
  "kernelspec": {
   "display_name": "Python 3",
   "language": "python",
   "name": "python3"
  },
  "language_info": {
   "codemirror_mode": {
    "name": "ipython",
    "version": 3
   },
   "file_extension": ".py",
   "mimetype": "text/x-python",
   "name": "python",
   "nbconvert_exporter": "python",
   "pygments_lexer": "ipython3",
   "version": "3.10.13"
  }
 },
 "nbformat": 4,
 "nbformat_minor": 5
}
