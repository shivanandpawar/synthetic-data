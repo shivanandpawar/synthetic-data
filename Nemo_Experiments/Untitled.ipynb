{
 "cells": [
  {
   "cell_type": "code",
   "execution_count": 4,
   "id": "9b7631d2",
   "metadata": {},
   "outputs": [],
   "source": [
    "# !pip install torch"
   ]
  },
  {
   "cell_type": "code",
   "execution_count": 5,
   "id": "783b7cde",
   "metadata": {},
   "outputs": [],
   "source": [
    "# !pip install torch torchvision torchaudio"
   ]
  },
  {
   "cell_type": "code",
   "execution_count": 7,
   "id": "194e392d",
   "metadata": {},
   "outputs": [],
   "source": [
    "# !sudo conda install pytorch -c pytorch -y"
   ]
  },
  {
   "cell_type": "code",
   "execution_count": 1,
   "id": "c5f992a2",
   "metadata": {},
   "outputs": [],
   "source": [
    "# import torch\n",
    "# torch.__version__"
   ]
  },
  {
   "cell_type": "code",
   "execution_count": 3,
   "id": "2c29bebc",
   "metadata": {},
   "outputs": [],
   "source": [
    "# !sudo yum update -y"
   ]
  },
  {
   "cell_type": "code",
   "execution_count": 2,
   "id": "028248fd",
   "metadata": {},
   "outputs": [],
   "source": [
    "# !zypper"
   ]
  },
  {
   "cell_type": "code",
   "execution_count": 3,
   "id": "61401cc6",
   "metadata": {},
   "outputs": [],
   "source": [
    "# !sudo yum install -y --skip-broken https://ftp.lysator.liu.se/pub/opensuse/distribution/leap/15.5/repo/oss/aarch64/libsndfile1-1.0.28-150000.5.17.1.aarch64.rpm"
   ]
  },
  {
   "cell_type": "code",
   "execution_count": 5,
   "id": "e7dee16d",
   "metadata": {},
   "outputs": [],
   "source": [
    "# !which libsndfile-file"
   ]
  },
  {
   "cell_type": "code",
   "execution_count": 11,
   "id": "f34803fa",
   "metadata": {},
   "outputs": [
    {
     "name": "stdout",
     "output_type": "stream",
     "text": [
      "Last metadata expiration check: 0:09:23 ago on Wed Mar 27 06:30:19 2024.\n",
      "No match for argument: \u001b[1mffmpeg\u001b[m\n",
      "Error: Unable to find a match: ffmpeg\n"
     ]
    }
   ],
   "source": [
    "# !sudo yum install -y ffmpeg"
   ]
  },
  {
   "cell_type": "code",
   "execution_count": 10,
   "id": "35dff861",
   "metadata": {},
   "outputs": [
    {
     "name": "stdout",
     "output_type": "stream",
     "text": [
      "/usr/bin/sh: line 1: libsndfile: command not found\r\n"
     ]
    }
   ],
   "source": [
    "!libsndfile"
   ]
  },
  {
   "cell_type": "code",
   "execution_count": null,
   "id": "3e3e38e0",
   "metadata": {},
   "outputs": [],
   "source": []
  },
  {
   "cell_type": "code",
   "execution_count": null,
   "id": "bc38c92f",
   "metadata": {},
   "outputs": [],
   "source": [
    "pip install Cython\n"
   ]
  },
  {
   "cell_type": "code",
   "execution_count": 7,
   "id": "24e8b82e",
   "metadata": {},
   "outputs": [],
   "source": [
    "# !cat /etc/redhat-release"
   ]
  },
  {
   "cell_type": "code",
   "execution_count": null,
   "id": "f6b0f55c",
   "metadata": {},
   "outputs": [],
   "source": [
    "pip install nemo_toolkit['all']"
   ]
  },
  {
   "cell_type": "code",
   "execution_count": null,
   "id": "c70a110d",
   "metadata": {},
   "outputs": [],
   "source": []
  },
  {
   "cell_type": "code",
   "execution_count": null,
   "id": "2106fcc6",
   "metadata": {},
   "outputs": [],
   "source": []
  }
 ],
 "metadata": {
  "kernelspec": {
   "display_name": "Python 3",
   "language": "python",
   "name": "python3"
  },
  "language_info": {
   "codemirror_mode": {
    "name": "ipython",
    "version": 3
   },
   "file_extension": ".py",
   "mimetype": "text/x-python",
   "name": "python",
   "nbconvert_exporter": "python",
   "pygments_lexer": "ipython3",
   "version": "3.10.13"
  }
 },
 "nbformat": 4,
 "nbformat_minor": 5
}
