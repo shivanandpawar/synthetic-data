{
 "cells": [
  {
   "cell_type": "code",
   "execution_count": 4,
   "id": "9b7631d2",
   "metadata": {},
   "outputs": [],
   "source": [
    "# !pip install torch"
   ]
  },
  {
   "cell_type": "code",
   "execution_count": null,
   "id": "783b7cde",
   "metadata": {},
   "outputs": [
    {
     "name": "stdout",
     "output_type": "stream",
     "text": [
      "Collecting torch\n",
      "\u001b[?25l  Downloading https://files.pythonhosted.org/packages/a7/ad/fbe7d4cffb76da4e478438853b51305361c719cff929ab70a808e7fb75e7/torch-2.2.1-cp310-cp310-manylinux1_x86_64.whl (755.5MB)\n",
      "\u001b[K     |████████████████████████████████| 755.5MB 22kB/s  eta 0:00:019     |████████████████████▉           | 492.7MB 5.2MB/s eta 0:00:51     |██████████████████████▏         | 522.3MB 6.5MB/s eta 0:00:36     |█████████████████████████▋      | 605.2MB 3.4MB/s eta 0:00:45     |██████████████████████████      | 613.0MB 3.0MB/s eta 0:00:49     |█████████████████████████████▌  | 695.6MB 1.9MB/s eta 0:00:32\n",
      "\u001b[?25hCollecting torchvision\n",
      "\u001b[?25l  Downloading https://files.pythonhosted.org/packages/1a/e8/13432ae6be567b577a4c89d1bd50084e4d989b379a7be8050380b5ab3a6e/torchvision-0.17.1-cp310-cp310-manylinux1_x86_64.whl (6.9MB)\n",
      "\u001b[K     |████████████████████████████████| 6.9MB 3.3MB/s eta 0:00:01\n",
      "\u001b[?25hCollecting torchaudio\n",
      "\u001b[?25l  Downloading https://files.pythonhosted.org/packages/ce/99/7485966a902905e206eda57fdca8de69545c107e33eefe9f6536c2dda16c/torchaudio-2.2.1-cp310-cp310-manylinux1_x86_64.whl (3.3MB)\n",
      "\u001b[K     |████████████████████████████████| 3.3MB 4.5MB/s eta 0:00:01\n",
      "\u001b[?25hCollecting nvidia-cusolver-cu12==11.4.5.107; platform_system == \"Linux\" and platform_machine == \"x86_64\"\n",
      "\u001b[?25l  Downloading https://files.pythonhosted.org/packages/bc/1d/8de1e5c67099015c834315e333911273a8c6aaba78923dd1d1e25fc5f217/nvidia_cusolver_cu12-11.4.5.107-py3-none-manylinux1_x86_64.whl (124.2MB)\n",
      "\u001b[K     |████████████████████████████████| 124.2MB 136kB/s eta 0:00:01    |██▋                             | 10.1MB 4.8MB/s eta 0:00:24     |████████▌                       | 32.9MB 3.2MB/s eta 0:00:29     |████████████████████████▎       | 94.3MB 3.7MB/s eta 0:00:09\n",
      "\u001b[?25hCollecting nvidia-nvtx-cu12==12.1.105; platform_system == \"Linux\" and platform_machine == \"x86_64\"\n",
      "\u001b[?25l  Downloading https://files.pythonhosted.org/packages/da/d3/8057f0587683ed2fcd4dbfbdfdfa807b9160b809976099d36b8f60d08f03/nvidia_nvtx_cu12-12.1.105-py3-none-manylinux1_x86_64.whl (99kB)\n",
      "\u001b[K     |████████████████████████████████| 102kB 3.9MB/s ta 0:00:01\n",
      "\u001b[?25hCollecting jinja2\n",
      "\u001b[?25l  Downloading https://files.pythonhosted.org/packages/30/6d/6de6be2d02603ab56e72997708809e8a5b0fbfee080735109b40a3564843/Jinja2-3.1.3-py3-none-any.whl (133kB)\n",
      "\u001b[K     |████████████████████████████████| 143kB 4.2MB/s eta 0:00:01\n",
      "\u001b[?25hCollecting sympy\n",
      "\u001b[?25l  Downloading https://files.pythonhosted.org/packages/d2/05/e6600db80270777c4a64238a98d442f0fd07cc8915be2a1c16da7f2b9e74/sympy-1.12-py3-none-any.whl (5.7MB)\n",
      "\u001b[K     |████████████████████████████████| 5.7MB 3.5MB/s eta 0:00:01\n",
      "\u001b[?25hCollecting typing-extensions>=4.8.0\n",
      "  Downloading https://files.pythonhosted.org/packages/f9/de/dc04a3ea60b22624b51c703a84bbe0184abcd1d0b9bc8074b5d6b7ab90bb/typing_extensions-4.10.0-py3-none-any.whl\n",
      "Collecting nvidia-cudnn-cu12==8.9.2.26; platform_system == \"Linux\" and platform_machine == \"x86_64\"\n",
      "\u001b[?25l  Downloading https://files.pythonhosted.org/packages/ff/74/a2e2be7fb83aaedec84f391f082cf765dfb635e7caa9b49065f73e4835d8/nvidia_cudnn_cu12-8.9.2.26-py3-none-manylinux1_x86_64.whl (731.7MB)\n",
      "\u001b[K     |████████████████████████████████| 731.7MB 19kB/s  eta 0:00:01   |▎                               | 5.3MB 3.9MB/s eta 0:03:07     |▊                               | 16.4MB 3.1MB/s eta 0:03:48     |████▏                           | 95.2MB 4.2MB/s eta 0:02:30     |██████▋                         | 150.0MB 2.0MB/s eta 0:04:44     |███████▎                        | 165.9MB 3.2MB/s eta 0:02:55     |████████████▊                   | 290.9MB 2.5MB/s eta 0:02:54     |█████████████▊                  | 313.8MB 3.7MB/s eta 0:01:53     |████████████████                | 366.6MB 3.3MB/s eta 0:01:50\n",
      "\u001b[?25hCollecting fsspec\n",
      "\u001b[?25l  Downloading https://files.pythonhosted.org/packages/93/6d/66d48b03460768f523da62a57a7e14e5e95fdf339d79e996ce3cecda2cdb/fsspec-2024.3.1-py3-none-any.whl (171kB)\n",
      "\u001b[K     |████████████████████████████████| 174kB 4.1MB/s eta 0:00:01\n",
      "\u001b[?25hCollecting nvidia-cuda-nvrtc-cu12==12.1.105; platform_system == \"Linux\" and platform_machine == \"x86_64\"\n",
      "\u001b[?25l  Downloading https://files.pythonhosted.org/packages/b6/9f/c64c03f49d6fbc56196664d05dba14e3a561038a81a638eeb47f4d4cfd48/nvidia_cuda_nvrtc_cu12-12.1.105-py3-none-manylinux1_x86_64.whl (23.7MB)\n",
      "\u001b[K     |████████████████████████████████| 23.7MB 635kB/s eta 0:00:01\n",
      "\u001b[?25hCollecting nvidia-cufft-cu12==11.0.2.54; platform_system == \"Linux\" and platform_machine == \"x86_64\"\n",
      "\u001b[?25l  Downloading https://files.pythonhosted.org/packages/86/94/eb540db023ce1d162e7bea9f8f5aa781d57c65aed513c33ee9a5123ead4d/nvidia_cufft_cu12-11.0.2.54-py3-none-manylinux1_x86_64.whl (121.6MB)\n",
      "\u001b[K     |████████████████████████████████| 121.6MB 93kB/s  eta 0:00:011   |████████████████████████▍       | 92.7MB 4.3MB/s eta 0:00:07\n",
      "\u001b[?25hCollecting nvidia-cublas-cu12==12.1.3.1; platform_system == \"Linux\" and platform_machine == \"x86_64\"\n",
      "\u001b[?25l  Downloading https://files.pythonhosted.org/packages/37/6d/121efd7382d5b0284239f4ab1fc1590d86d34ed4a4a2fdb13b30ca8e5740/nvidia_cublas_cu12-12.1.3.1-py3-none-manylinux1_x86_64.whl (410.6MB)\n",
      "\u001b[K     |███████████████████             | 243.2MB 3.4MB/s eta 0:00:503  |▎                               | 3.9MB 4.0MB/s eta 0:01:43     |████████▊                       | 111.9MB 2.6MB/s eta 0:01:54     |█████████████                   | 167.8MB 9.2MB/s eta 0:00:27     |████████████████▍               | 211.0MB 2.5MB/s eta 0:01:21     |██████████████████▍             | 236.2MB 2.9MB/s eta 0:01:01"
     ]
    }
   ],
   "source": [
    "!pip install torch torchvision torchaudio"
   ]
  },
  {
   "cell_type": "code",
   "execution_count": 3,
   "id": "2c29bebc",
   "metadata": {},
   "outputs": [],
   "source": [
    "# apt-get update && apt-get install -y libsndfile1 ffmpeg\n",
    "# pip install Cython\n",
    "# pip install nemo_toolkit['all']"
   ]
  },
  {
   "cell_type": "code",
   "execution_count": null,
   "id": "c70a110d",
   "metadata": {},
   "outputs": [],
   "source": []
  },
  {
   "cell_type": "code",
   "execution_count": null,
   "id": "2106fcc6",
   "metadata": {},
   "outputs": [],
   "source": []
  }
 ],
 "metadata": {
  "kernelspec": {
   "display_name": "Python 3",
   "language": "python",
   "name": "python3"
  },
  "language_info": {
   "codemirror_mode": {
    "name": "ipython",
    "version": 3
   },
   "file_extension": ".py",
   "mimetype": "text/x-python",
   "name": "python",
   "nbconvert_exporter": "python",
   "pygments_lexer": "ipython3",
   "version": "3.10.13"
  }
 },
 "nbformat": 4,
 "nbformat_minor": 5
}
