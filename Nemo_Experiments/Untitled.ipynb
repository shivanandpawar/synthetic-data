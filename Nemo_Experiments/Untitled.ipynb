{
 "cells": [
  {
   "cell_type": "code",
   "execution_count": 4,
   "id": "9b7631d2",
   "metadata": {},
   "outputs": [],
   "source": [
    "# !pip install torch"
   ]
  },
  {
   "cell_type": "code",
   "execution_count": 5,
   "id": "783b7cde",
   "metadata": {},
   "outputs": [],
   "source": [
    "# !pip install torch torchvision torchaudio"
   ]
  },
  {
   "cell_type": "code",
   "execution_count": 8,
   "id": "194e392d",
   "metadata": {},
   "outputs": [],
   "source": [
    "# !sudo conda install pytorch -c pytorch -y"
   ]
  },
  {
   "cell_type": "code",
   "execution_count": 1,
   "id": "c5f992a2",
   "metadata": {},
   "outputs": [
    {
     "data": {
      "text/plain": [
       "'2.2.1'"
      ]
     },
     "execution_count": 1,
     "metadata": {},
     "output_type": "execute_result"
    }
   ],
   "source": [
    "import torch\n",
    "torch.__version__"
   ]
  },
  {
   "cell_type": "code",
   "execution_count": 11,
   "id": "2c29bebc",
   "metadata": {},
   "outputs": [],
   "source": [
    "# !sudo yum update -y"
   ]
  },
  {
   "cell_type": "code",
   "execution_count": 33,
   "id": "028248fd",
   "metadata": {},
   "outputs": [
    {
     "name": "stdout",
     "output_type": "stream",
     "text": [
      "/usr/bin/sh: line 1: zypper: command not found\r\n"
     ]
    }
   ],
   "source": [
    "!zypper"
   ]
  },
  {
   "cell_type": "code",
   "execution_count": 36,
   "id": "61401cc6",
   "metadata": {},
   "outputs": [
    {
     "name": "stdout",
     "output_type": "stream",
     "text": [
      "Last metadata expiration check: 0:25:45 ago on Wed Mar 27 06:30:19 2024.\n",
      "libsndfile1-1.0.28-150000.5.17.1.aarch64.rpm    144 kB/s | 173 kB     00:01    \n",
      "Dependencies resolved.\n",
      "\n",
      " Problem: conflicting requests\n",
      "  - package libsndfile1-1.0.28-150000.5.17.1.aarch64 from @commandline does not have a compatible architecture\n",
      "  - nothing provides ld-linux-aarch64.so.1()(64bit) needed by libsndfile1-1.0.28-150000.5.17.1.aarch64 from @commandline\n",
      "  - nothing provides ld-linux-aarch64.so.1(GLIBC_2.17)(64bit) needed by libsndfile1-1.0.28-150000.5.17.1.aarch64 from @commandline\n",
      "  - nothing provides libm.so.6(GLIBC_2.17)(64bit) needed by libsndfile1-1.0.28-150000.5.17.1.aarch64 from @commandline\n",
      "  - nothing provides libspeex.so.1()(64bit) needed by libsndfile1-1.0.28-150000.5.17.1.aarch64 from @commandline\n",
      "Nothing to do.\n",
      "Complete!\n"
     ]
    }
   ],
   "source": [
    "!sudo yum install -y --skip-broken https://ftp.lysator.liu.se/pub/opensuse/distribution/leap/15.5/repo/oss/aarch64/libsndfile1-1.0.28-150000.5.17.1.aarch64.rpm"
   ]
  },
  {
   "cell_type": "code",
   "execution_count": 24,
   "id": "64103367",
   "metadata": {},
   "outputs": [
    {
     "name": "stdout",
     "output_type": "stream",
     "text": [
      "/usr/lib64/libsndfile.so.1.0.31\r\n"
     ]
    }
   ],
   "source": [
    "!echo  $LD_LIBRARY_PATH"
   ]
  },
  {
   "cell_type": "code",
   "execution_count": 26,
   "id": "e7dee16d",
   "metadata": {},
   "outputs": [
    {
     "name": "stdout",
     "output_type": "stream",
     "text": [
      "which: no libsndfile-file in (/home/mosaic-ai/.local/bin:/home/mosaic-ai/.local/lib/python3.10/site-packages:/opt/conda/bin:/usr/local/sbin:/usr/local/bin:/usr/sbin:/usr/bin:/sbin:/bin)\r\n"
     ]
    }
   ],
   "source": [
    "!which libsndfile-file"
   ]
  },
  {
   "cell_type": "code",
   "execution_count": 11,
   "id": "f34803fa",
   "metadata": {},
   "outputs": [
    {
     "name": "stdout",
     "output_type": "stream",
     "text": [
      "Last metadata expiration check: 0:09:23 ago on Wed Mar 27 06:30:19 2024.\n",
      "No match for argument: \u001b[1mffmpeg\u001b[m\n",
      "Error: Unable to find a match: ffmpeg\n"
     ]
    }
   ],
   "source": [
    "# !sudo yum install -y ffmpeg"
   ]
  },
  {
   "cell_type": "code",
   "execution_count": 10,
   "id": "35dff861",
   "metadata": {},
   "outputs": [
    {
     "name": "stdout",
     "output_type": "stream",
     "text": [
      "/usr/bin/sh: line 1: libsndfile: command not found\r\n"
     ]
    }
   ],
   "source": [
    "!libsndfile"
   ]
  },
  {
   "cell_type": "code",
   "execution_count": null,
   "id": "3e3e38e0",
   "metadata": {},
   "outputs": [],
   "source": []
  },
  {
   "cell_type": "code",
   "execution_count": null,
   "id": "bc38c92f",
   "metadata": {},
   "outputs": [],
   "source": [
    "pip install Cython\n"
   ]
  },
  {
   "cell_type": "code",
   "execution_count": 7,
   "id": "24e8b82e",
   "metadata": {},
   "outputs": [],
   "source": [
    "# !cat /etc/redhat-release"
   ]
  },
  {
   "cell_type": "code",
   "execution_count": null,
   "id": "f6b0f55c",
   "metadata": {},
   "outputs": [],
   "source": [
    "pip install nemo_toolkit['all']"
   ]
  },
  {
   "cell_type": "code",
   "execution_count": null,
   "id": "c70a110d",
   "metadata": {},
   "outputs": [],
   "source": []
  },
  {
   "cell_type": "code",
   "execution_count": null,
   "id": "2106fcc6",
   "metadata": {},
   "outputs": [],
   "source": []
  }
 ],
 "metadata": {
  "kernelspec": {
   "display_name": "Python 3",
   "language": "python",
   "name": "python3"
  },
  "language_info": {
   "codemirror_mode": {
    "name": "ipython",
    "version": 3
   },
   "file_extension": ".py",
   "mimetype": "text/x-python",
   "name": "python",
   "nbconvert_exporter": "python",
   "pygments_lexer": "ipython3",
   "version": "3.10.13"
  }
 },
 "nbformat": 4,
 "nbformat_minor": 5
}
