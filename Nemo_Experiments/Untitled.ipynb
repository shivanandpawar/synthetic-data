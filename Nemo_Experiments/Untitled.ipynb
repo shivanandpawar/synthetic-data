{
 "cells": [
  {
   "cell_type": "code",
   "execution_count": 4,
   "id": "9b7631d2",
   "metadata": {},
   "outputs": [],
   "source": [
    "# !pip install torch"
   ]
  },
  {
   "cell_type": "code",
   "execution_count": 5,
   "id": "783b7cde",
   "metadata": {},
   "outputs": [],
   "source": [
    "# !pip install torch torchvision torchaudio"
   ]
  },
  {
   "cell_type": "code",
   "execution_count": 7,
   "id": "194e392d",
   "metadata": {},
   "outputs": [],
   "source": [
    "# !sudo conda install pytorch -c pytorch -y"
   ]
  },
  {
   "cell_type": "code",
   "execution_count": 1,
   "id": "c5f992a2",
   "metadata": {},
   "outputs": [],
   "source": [
    "# import torch\n",
    "# torch.__version__"
   ]
  },
  {
   "cell_type": "code",
   "execution_count": 3,
   "id": "2c29bebc",
   "metadata": {},
   "outputs": [],
   "source": [
    "# !sudo yum update -y"
   ]
  },
  {
   "cell_type": "code",
   "execution_count": 5,
   "id": "028248fd",
   "metadata": {},
   "outputs": [
    {
     "name": "stdout",
     "output_type": "stream",
     "text": [
      "--2024-03-27 07:05:34--  https://ftp.lysator.liu.se/pub/opensuse/source/distribution/leap/15.5/repo/oss/src/libsndfile-1.0.28-150000.5.17.1.src.rpm\n",
      "Resolving ftp.lysator.liu.se (ftp.lysator.liu.se)... 130.236.254.253, 130.236.254.251, 2001:6b0:17:f0a0::fd, ...\n",
      "Connecting to ftp.lysator.liu.se (ftp.lysator.liu.se)|130.236.254.253|:443... connected.\n",
      "HTTP request sent, awaiting response... 200 OK\n",
      "Length: 1241928 (1.2M) [application/x-redhat-package-manager]\n",
      "Saving to: ‘libsndfile-1.0.28-150000.5.17.1.src.rpm’\n",
      "\n",
      "libsndfile-1.0.28-1 100%[===================>]   1.18M  1.57MB/s    in 0.8s    \n",
      "\n",
      "2024-03-27 07:05:36 (1.57 MB/s) - ‘libsndfile-1.0.28-150000.5.17.1.src.rpm’ saved [1241928/1241928]\n",
      "\n"
     ]
    }
   ],
   "source": [
    "!sudo wget https://ftp.lysator.liu.se/pub/opensuse/source/distribution/leap/15.5/repo/oss/src/libsndfile-1.0.28-150000.5.17.1.src.rpm"
   ]
  },
  {
   "cell_type": "code",
   "execution_count": 6,
   "id": "61401cc6",
   "metadata": {},
   "outputs": [
    {
     "name": "stdout",
     "output_type": "stream",
     "text": [
      "total 1412\r\n",
      "-rw-r--r-- 1 root      root      1241928 Jun  2  2022 libsndfile-1.0.28-150000.5.17.1.src.rpm\r\n",
      "-rw-r--r-- 1 root      root       176968 Jun  2  2022 libsndfile1-1.0.28-150000.5.17.1.aarch64.rpm\r\n",
      "-rwxrwxrwx 1 mosaic-ai mosaic-ai    8946 Mar 27 06:57 Nemo_Models.ipynb\r\n",
      "-rwxrwxrwx 1 mosaic-ai mosaic-ai    5972 Mar 27 07:04 Untitled.ipynb\r\n"
     ]
    }
   ],
   "source": [
    "!ls -lrt"
   ]
  },
  {
   "cell_type": "code",
   "execution_count": 7,
   "id": "e7dee16d",
   "metadata": {},
   "outputs": [
    {
     "name": "stdout",
     "output_type": "stream",
     "text": [
      "warning: libsndfile-1.0.28-150000.5.17.1.src.rpm: Header V3 RSA/SHA256 Signature, key ID 39db7c82: NOKEY\r\n"
     ]
    }
   ],
   "source": [
    "!sudo rpm -i libsndfile-1.0.28-150000.5.17.1.src.rpm"
   ]
  },
  {
   "cell_type": "code",
   "execution_count": 8,
   "id": "f34803fa",
   "metadata": {},
   "outputs": [
    {
     "name": "stdout",
     "output_type": "stream",
     "text": [
      "Last metadata expiration check: 0:04:38 ago on Wed Mar 27 07:01:38 2024.\r\n",
      "No match for argument: \u001b[1mlibsndfile1\u001b[m\r\n",
      "Error: Unable to find a match: libsndfile1\r\n"
     ]
    }
   ],
   "source": [
    "!sudo yum install -y libsndfile1"
   ]
  },
  {
   "cell_type": "code",
   "execution_count": 9,
   "id": "35dff861",
   "metadata": {},
   "outputs": [
    {
     "name": "stdout",
     "output_type": "stream",
     "text": [
      "/usr/bin/sh: line 1: libsndfile1: command not found\r\n"
     ]
    }
   ],
   "source": [
    "!libsndfile1"
   ]
  },
  {
   "cell_type": "code",
   "execution_count": 1,
   "id": "3e3e38e0",
   "metadata": {},
   "outputs": [],
   "source": [
    "# !pip install Cython"
   ]
  },
  {
   "cell_type": "code",
   "execution_count": 2,
   "id": "bc38c92f",
   "metadata": {},
   "outputs": [],
   "source": [
    "# pip install Cython\n"
   ]
  },
  {
   "cell_type": "code",
   "execution_count": 7,
   "id": "24e8b82e",
   "metadata": {},
   "outputs": [],
   "source": [
    "# !cat /etc/redhat-release"
   ]
  },
  {
   "cell_type": "code",
   "execution_count": null,
   "id": "f6b0f55c",
   "metadata": {},
   "outputs": [
    {
     "name": "stdout",
     "output_type": "stream",
     "text": [
      "Collecting nemo_toolkit[all]\n",
      "\u001b[?25l  Downloading https://files.pythonhosted.org/packages/5e/b8/7df0f944ffb1d6a18cd44f15d7524cc9cf3eddc268f7cef2cf37beea219d/nemo_toolkit-1.23.0-py3-none-any.whl (3.2MB)\n",
      "\u001b[K     |████████████████████████████████| 3.2MB 1.5MB/s eta 0:00:01\n",
      "\u001b[?25hCollecting setuptools>=65.5.1\n",
      "\u001b[?25l  Downloading https://files.pythonhosted.org/packages/92/e1/1c8bb3420105e70bdf357d57dd5567202b4ef8d27f810e98bb962d950834/setuptools-69.2.0-py3-none-any.whl (821kB)\n",
      "\u001b[K     |████████████████████████████████| 829kB 6.8MB/s eta 0:00:01\n",
      "\u001b[?25hCollecting wget\n",
      "  Downloading https://files.pythonhosted.org/packages/47/6a/62e288da7bcda82b935ff0c6cfe542970f04e29c756b0e147251b2fb251f/wget-3.2.zip\n",
      "Collecting tqdm>=4.41.0\n",
      "\u001b[?25l  Downloading https://files.pythonhosted.org/packages/2a/14/e75e52d521442e2fcc9f1df3c5e456aead034203d4797867980de558ab34/tqdm-4.66.2-py3-none-any.whl (78kB)\n",
      "\u001b[K     |████████████████████████████████| 81kB 5.1MB/s eta 0:00:011\n",
      "\u001b[?25hCollecting numba\n",
      "\u001b[?25l  Downloading https://files.pythonhosted.org/packages/f6/2d/f8cdcf325c8fbdfff911607d184e28eb7c94ca5c4760d7f149323404778a/numba-0.59.1-cp310-cp310-manylinux2014_x86_64.manylinux_2_17_x86_64.whl (3.7MB)\n",
      "\u001b[K     |████████████████████████████████| 3.7MB 6.7MB/s eta 0:00:01\n",
      "\u001b[?25hCollecting ruamel.yaml\n",
      "\u001b[?25l  Downloading https://files.pythonhosted.org/packages/73/67/8ece580cc363331d9a53055130f86b096bf16e38156e33b1d3014fffda6b/ruamel.yaml-0.18.6-py3-none-any.whl (117kB)\n",
      "\u001b[K     |████████████████████████████████| 122kB 6.8MB/s eta 0:00:01\n",
      "\u001b[?25hCollecting onnx>=1.7.0\n",
      "\u001b[?25l  Downloading https://files.pythonhosted.org/packages/49/5f/d8e1a24247f506a77cbe22341c72ca91bea3b468c5d6bca2047d885ea3c6/onnx-1.16.0-cp310-cp310-manylinux_2_17_x86_64.manylinux2014_x86_64.whl (15.9MB)\n",
      "\u001b[K     |████████████████████████████████| 15.9MB 5.0MB/s eta 0:00:01\n",
      "\u001b[?25hCollecting triton\n",
      "\u001b[?25l  Downloading https://files.pythonhosted.org/packages/95/05/ed974ce87fe8c8843855daa2136b3409ee1c126707ab54a8b72815c08b49/triton-2.2.0-cp310-cp310-manylinux_2_17_x86_64.manylinux2014_x86_64.whl (167.9MB)\n",
      "\u001b[K     |████████████████████████████████| 167.9MB 100kB/s eta 0:00:01    |███▋                            | 18.9MB 4.0MB/s eta 0:00:38\n",
      "\u001b[?25hCollecting huggingface-hub\n",
      "\u001b[?25l  Downloading https://files.pythonhosted.org/packages/b6/51/d418bb7bb9e32845d3cb4d526012ddf1fea6bb3d55b6a1880698e4b7f19f/huggingface_hub-0.22.1-py3-none-any.whl (388kB)\n",
      "\u001b[K     |████████████████████████████████| 389kB 4.9MB/s eta 0:00:01\n",
      "\u001b[?25hCollecting tensorboard\n",
      "\u001b[?25l  Downloading https://files.pythonhosted.org/packages/3a/d0/b97889ffa769e2d1fdebb632084d5e8b53fc299d43a537acee7ec0c021a3/tensorboard-2.16.2-py3-none-any.whl (5.5MB)\n",
      "\u001b[K     |████████████████████████████████| 5.5MB 4.7MB/s eta 0:00:01\n",
      "\u001b[?25hCollecting wrapt\n",
      "\u001b[?25l  Downloading https://files.pythonhosted.org/packages/49/83/b40bc1ad04a868b5b5bcec86349f06c1ee1ea7afe51dc3e46131e4f39308/wrapt-1.16.0-cp310-cp310-manylinux_2_5_x86_64.manylinux1_x86_64.manylinux_2_17_x86_64.manylinux2014_x86_64.whl (80kB)\n",
      "\u001b[K     |████████████████████████████████| 81kB 3.6MB/s eta 0:00:011\n",
      "\u001b[?25hCollecting text-unidecode\n",
      "\u001b[?25l  Downloading https://files.pythonhosted.org/packages/a6/a5/c0b6468d3824fe3fde30dbb5e1f687b291608f9473681bbf7dabbf5a87d7/text_unidecode-1.3-py2.py3-none-any.whl (78kB)\n",
      "\u001b[K     |████████████████████████████████| 81kB 5.4MB/s eta 0:00:011\n",
      "\u001b[?25hCollecting torch\n",
      "\u001b[?25l  Downloading https://files.pythonhosted.org/packages/a7/ad/fbe7d4cffb76da4e478438853b51305361c719cff929ab70a808e7fb75e7/torch-2.2.1-cp310-cp310-manylinux1_x86_64.whl (755.5MB)\n",
      "\u001b[K     |█▌                              | 34.3MB 2.6MB/s eta 0:04:39    |                                | 368kB 6.7MB/s eta 0:01:54"
     ]
    }
   ],
   "source": [
    "!pip install nemo_toolkit['all']"
   ]
  },
  {
   "cell_type": "code",
   "execution_count": null,
   "id": "c70a110d",
   "metadata": {},
   "outputs": [],
   "source": []
  },
  {
   "cell_type": "code",
   "execution_count": null,
   "id": "2106fcc6",
   "metadata": {},
   "outputs": [],
   "source": []
  }
 ],
 "metadata": {
  "kernelspec": {
   "display_name": "Python 3",
   "language": "python",
   "name": "python3"
  },
  "language_info": {
   "codemirror_mode": {
    "name": "ipython",
    "version": 3
   },
   "file_extension": ".py",
   "mimetype": "text/x-python",
   "name": "python",
   "nbconvert_exporter": "python",
   "pygments_lexer": "ipython3",
   "version": "3.10.13"
  }
 },
 "nbformat": 4,
 "nbformat_minor": 5
}
