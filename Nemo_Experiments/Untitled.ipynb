{
 "cells": [
  {
   "cell_type": "code",
   "execution_count": 4,
   "id": "9b7631d2",
   "metadata": {},
   "outputs": [],
   "source": [
    "# !pip install torch"
   ]
  },
  {
   "cell_type": "code",
   "execution_count": 5,
   "id": "783b7cde",
   "metadata": {},
   "outputs": [],
   "source": [
    "# !pip install torch torchvision torchaudio"
   ]
  },
  {
   "cell_type": "code",
   "execution_count": 8,
   "id": "3325afc2",
   "metadata": {},
   "outputs": [],
   "source": [
    "# !sudo conda install pytorch -c pytorch -y"
   ]
  },
  {
   "cell_type": "code",
   "execution_count": 1,
   "id": "3c0e3120",
   "metadata": {},
   "outputs": [
    {
     "data": {
      "text/plain": [
       "'2.2.1'"
      ]
     },
     "execution_count": 1,
     "metadata": {},
     "output_type": "execute_result"
    }
   ],
   "source": [
    "import torch\n",
    "torch.__version__"
   ]
  },
  {
   "cell_type": "code",
   "execution_count": 11,
   "id": "2c29bebc",
   "metadata": {},
   "outputs": [],
   "source": [
    "# !sudo yum update -y"
   ]
  },
  {
   "cell_type": "code",
   "execution_count": 12,
   "id": "47eb3363",
   "metadata": {},
   "outputs": [
    {
     "name": "stdout",
     "output_type": "stream",
     "text": [
      "find: ‘/proc/1/task/1/fdinfo’: Permission denied\n",
      "find: ‘/proc/1/map_files’: Permission denied\n",
      "find: ‘/proc/1/fdinfo’: Permission denied\n",
      "find: ‘/proc/7/task/7/fdinfo’: Permission denied\n",
      "find: ‘/proc/7/task/25/fdinfo’: Permission denied\n",
      "find: ‘/proc/7/task/26/fdinfo’: Permission denied\n",
      "find: ‘/proc/7/map_files’: Permission denied\n",
      "find: ‘/proc/7/fdinfo’: Permission denied\n",
      "find: ‘/proc/220/task/220/fdinfo’: Permission denied\n",
      "find: ‘/proc/220/task/222/fdinfo’: Permission denied\n",
      "find: ‘/proc/220/task/223/fdinfo’: Permission denied\n",
      "find: ‘/proc/220/task/224/fdinfo’: Permission denied\n",
      "find: ‘/proc/220/task/225/fdinfo’: Permission denied\n",
      "find: ‘/proc/220/task/226/fdinfo’: Permission denied\n",
      "find: ‘/proc/220/task/227/fdinfo’: Permission denied\n",
      "find: ‘/proc/220/task/228/fdinfo’: Permission denied\n",
      "find: ‘/proc/220/task/229/fdinfo’: Permission denied\n",
      "find: ‘/proc/220/map_files’: Permission denied\n",
      "find: ‘/proc/220/fdinfo’: Permission denied\n",
      "find: ‘/proc/245/task/245/fdinfo’: Permission denied\n",
      "find: ‘/proc/245/map_files’: Permission denied\n",
      "find: ‘/proc/245/fdinfo’: Permission denied\n",
      "/usr/lib64/libsndfile.so.1\n",
      "/usr/lib64/libsndfile.so.1.0.31\n",
      "^C\n"
     ]
    }
   ],
   "source": [
    "!sudo find / -name libsndfile.so*"
   ]
  },
  {
   "cell_type": "code",
   "execution_count": 23,
   "id": "250c2328",
   "metadata": {},
   "outputs": [],
   "source": [
    "import os\n",
    "os.environ[\"LD_LIBRARY_PATH\"]='/usr/lib64/libsndfile.so.1.0.31'"
   ]
  },
  {
   "cell_type": "code",
   "execution_count": 21,
   "id": "b07d3f57",
   "metadata": {},
   "outputs": [],
   "source": [
    "!export LD_LIBRARY_PATH=$LD_LIBRARY_PATH:'/usr/lib64/libsndfile.so.1.0.31'"
   ]
  },
  {
   "cell_type": "code",
   "execution_count": 24,
   "id": "7d054061",
   "metadata": {},
   "outputs": [
    {
     "name": "stdout",
     "output_type": "stream",
     "text": [
      "/usr/lib64/libsndfile.so.1.0.31\r\n"
     ]
    }
   ],
   "source": [
    "!echo  $LD_LIBRARY_PATH"
   ]
  },
  {
   "cell_type": "code",
   "execution_count": 26,
   "id": "27a0d7b4",
   "metadata": {},
   "outputs": [
    {
     "name": "stdout",
     "output_type": "stream",
     "text": [
      "which: no libsndfile-file in (/home/mosaic-ai/.local/bin:/home/mosaic-ai/.local/lib/python3.10/site-packages:/opt/conda/bin:/usr/local/sbin:/usr/local/bin:/usr/sbin:/usr/bin:/sbin:/bin)\r\n"
     ]
    }
   ],
   "source": [
    "!which libsndfile-file"
   ]
  },
  {
   "cell_type": "code",
   "execution_count": 11,
   "id": "5c9dd41d",
   "metadata": {},
   "outputs": [
    {
     "name": "stdout",
     "output_type": "stream",
     "text": [
      "Last metadata expiration check: 0:09:23 ago on Wed Mar 27 06:30:19 2024.\n",
      "No match for argument: \u001b[1mffmpeg\u001b[m\n",
      "Error: Unable to find a match: ffmpeg\n"
     ]
    }
   ],
   "source": [
    "# !sudo yum install -y ffmpeg"
   ]
  },
  {
   "cell_type": "code",
   "execution_count": 10,
   "id": "e112e7b4",
   "metadata": {},
   "outputs": [
    {
     "name": "stdout",
     "output_type": "stream",
     "text": [
      "/usr/bin/sh: line 1: libsndfile: command not found\r\n"
     ]
    }
   ],
   "source": [
    "!libsndfile"
   ]
  },
  {
   "cell_type": "code",
   "execution_count": null,
   "id": "5ad9c731",
   "metadata": {},
   "outputs": [],
   "source": []
  },
  {
   "cell_type": "code",
   "execution_count": null,
   "id": "de44b0b4",
   "metadata": {},
   "outputs": [],
   "source": [
    "pip install Cython\n"
   ]
  },
  {
   "cell_type": "code",
   "execution_count": 7,
   "id": "d89d6f6e",
   "metadata": {},
   "outputs": [],
   "source": [
    "# !cat /etc/redhat-release"
   ]
  },
  {
   "cell_type": "code",
   "execution_count": null,
   "id": "47f066cf",
   "metadata": {},
   "outputs": [],
   "source": [
    "pip install nemo_toolkit['all']"
   ]
  },
  {
   "cell_type": "code",
   "execution_count": null,
   "id": "c70a110d",
   "metadata": {},
   "outputs": [],
   "source": []
  },
  {
   "cell_type": "code",
   "execution_count": null,
   "id": "2106fcc6",
   "metadata": {},
   "outputs": [],
   "source": []
  }
 ],
 "metadata": {
  "kernelspec": {
   "display_name": "Python 3",
   "language": "python",
   "name": "python3"
  },
  "language_info": {
   "codemirror_mode": {
    "name": "ipython",
    "version": 3
   },
   "file_extension": ".py",
   "mimetype": "text/x-python",
   "name": "python",
   "nbconvert_exporter": "python",
   "pygments_lexer": "ipython3",
   "version": "3.10.13"
  }
 },
 "nbformat": 4,
 "nbformat_minor": 5
}
