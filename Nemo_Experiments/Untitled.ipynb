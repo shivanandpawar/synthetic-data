{
 "cells": [
  {
   "cell_type": "code",
   "execution_count": 4,
   "id": "9b7631d2",
   "metadata": {},
   "outputs": [],
   "source": [
    "# !pip install torch"
   ]
  },
  {
   "cell_type": "code",
   "execution_count": 5,
   "id": "783b7cde",
   "metadata": {},
   "outputs": [],
   "source": [
    "# !pip install torch torchvision torchaudio"
   ]
  },
  {
   "cell_type": "code",
   "execution_count": 8,
   "id": "77f4ffc0",
   "metadata": {},
   "outputs": [],
   "source": [
    "# !sudo conda install pytorch -c pytorch -y"
   ]
  },
  {
   "cell_type": "code",
   "execution_count": 1,
   "id": "1af7e164",
   "metadata": {},
   "outputs": [
    {
     "data": {
      "text/plain": [
       "'2.2.1'"
      ]
     },
     "execution_count": 1,
     "metadata": {},
     "output_type": "execute_result"
    }
   ],
   "source": [
    "import torch\n",
    "torch.__version__"
   ]
  },
  {
   "cell_type": "code",
   "execution_count": 11,
   "id": "2c29bebc",
   "metadata": {},
   "outputs": [],
   "source": [
    "# !sudo yum update -y"
   ]
  },
  {
   "cell_type": "code",
   "execution_count": 30,
   "id": "1d012295",
   "metadata": {},
   "outputs": [
    {
     "name": "stdout",
     "output_type": "stream",
     "text": [
      "Last metadata expiration check: 0:17:33 ago on Wed Mar 27 06:30:19 2024.\n",
      "[MIRROR] okay-release-1-1.noarch.rpm: Status code: 404 for http://repo.okay.com.mx/centos/8/x86_64/release/okay-release-1-1.noarch.rpm (IP: 208.90.97.3)\n",
      "[MIRROR] okay-release-1-1.noarch.rpm: Status code: 404 for http://repo.okay.com.mx/centos/8/x86_64/release/okay-release-1-1.noarch.rpm (IP: 208.90.97.3)\n",
      "[MIRROR] okay-release-1-1.noarch.rpm: Status code: 404 for http://repo.okay.com.mx/centos/8/x86_64/release/okay-release-1-1.noarch.rpm (IP: 208.90.97.3)\n",
      "[MIRROR] okay-release-1-1.noarch.rpm: Status code: 404 for http://repo.okay.com.mx/centos/8/x86_64/release/okay-release-1-1.noarch.rpm (IP: 208.90.97.3)\n",
      "[FAILED] okay-release-1-1.noarch.rpm: Status code: 404 for http://repo.okay.com.mx/centos/8/x86_64/release/okay-release-1-1.noarch.rpm (IP: 208.90.97.3)\n",
      "Status code: 404 for http://repo.okay.com.mx/centos/8/x86_64/release/okay-release-1-1.noarch.rpm (IP: 208.90.97.3)\n"
     ]
    }
   ],
   "source": [
    "!sudo dnf install http://repo.okay.com.mx/centos/8/x86_64/release/okay-release-1-1.noarch.rpm"
   ]
  },
  {
   "cell_type": "code",
   "execution_count": 23,
   "id": "ba574bba",
   "metadata": {},
   "outputs": [],
   "source": [
    "import os\n",
    "os.environ[\"LD_LIBRARY_PATH\"]='/usr/lib64/libsndfile.so.1.0.31'"
   ]
  },
  {
   "cell_type": "code",
   "execution_count": 21,
   "id": "10c797b2",
   "metadata": {},
   "outputs": [],
   "source": [
    "!export LD_LIBRARY_PATH=$LD_LIBRARY_PATH:'/usr/lib64/libsndfile.so.1.0.31'"
   ]
  },
  {
   "cell_type": "code",
   "execution_count": 24,
   "id": "ca096675",
   "metadata": {},
   "outputs": [
    {
     "name": "stdout",
     "output_type": "stream",
     "text": [
      "/usr/lib64/libsndfile.so.1.0.31\r\n"
     ]
    }
   ],
   "source": [
    "!echo  $LD_LIBRARY_PATH"
   ]
  },
  {
   "cell_type": "code",
   "execution_count": 26,
   "id": "9d3847db",
   "metadata": {},
   "outputs": [
    {
     "name": "stdout",
     "output_type": "stream",
     "text": [
      "which: no libsndfile-file in (/home/mosaic-ai/.local/bin:/home/mosaic-ai/.local/lib/python3.10/site-packages:/opt/conda/bin:/usr/local/sbin:/usr/local/bin:/usr/sbin:/usr/bin:/sbin:/bin)\r\n"
     ]
    }
   ],
   "source": [
    "!which libsndfile-file"
   ]
  },
  {
   "cell_type": "code",
   "execution_count": 11,
   "id": "8456b88d",
   "metadata": {},
   "outputs": [
    {
     "name": "stdout",
     "output_type": "stream",
     "text": [
      "Last metadata expiration check: 0:09:23 ago on Wed Mar 27 06:30:19 2024.\n",
      "No match for argument: \u001b[1mffmpeg\u001b[m\n",
      "Error: Unable to find a match: ffmpeg\n"
     ]
    }
   ],
   "source": [
    "# !sudo yum install -y ffmpeg"
   ]
  },
  {
   "cell_type": "code",
   "execution_count": 10,
   "id": "fe75a56e",
   "metadata": {},
   "outputs": [
    {
     "name": "stdout",
     "output_type": "stream",
     "text": [
      "/usr/bin/sh: line 1: libsndfile: command not found\r\n"
     ]
    }
   ],
   "source": [
    "!libsndfile"
   ]
  },
  {
   "cell_type": "code",
   "execution_count": null,
   "id": "5eb7254b",
   "metadata": {},
   "outputs": [],
   "source": []
  },
  {
   "cell_type": "code",
   "execution_count": null,
   "id": "49169f74",
   "metadata": {},
   "outputs": [],
   "source": [
    "pip install Cython\n"
   ]
  },
  {
   "cell_type": "code",
   "execution_count": 7,
   "id": "969bcc0a",
   "metadata": {},
   "outputs": [],
   "source": [
    "# !cat /etc/redhat-release"
   ]
  },
  {
   "cell_type": "code",
   "execution_count": null,
   "id": "eebf1841",
   "metadata": {},
   "outputs": [],
   "source": [
    "pip install nemo_toolkit['all']"
   ]
  },
  {
   "cell_type": "code",
   "execution_count": null,
   "id": "c70a110d",
   "metadata": {},
   "outputs": [],
   "source": []
  },
  {
   "cell_type": "code",
   "execution_count": null,
   "id": "2106fcc6",
   "metadata": {},
   "outputs": [],
   "source": []
  }
 ],
 "metadata": {
  "kernelspec": {
   "display_name": "Python 3",
   "language": "python",
   "name": "python3"
  },
  "language_info": {
   "codemirror_mode": {
    "name": "ipython",
    "version": 3
   },
   "file_extension": ".py",
   "mimetype": "text/x-python",
   "name": "python",
   "nbconvert_exporter": "python",
   "pygments_lexer": "ipython3",
   "version": "3.10.13"
  }
 },
 "nbformat": 4,
 "nbformat_minor": 5
}
