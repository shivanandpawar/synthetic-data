{
 "cells": [
  {
   "cell_type": "code",
   "execution_count": 4,
   "id": "9b7631d2",
   "metadata": {},
   "outputs": [],
   "source": [
    "# !pip install torch"
   ]
  },
  {
   "cell_type": "code",
   "execution_count": 5,
   "id": "783b7cde",
   "metadata": {},
   "outputs": [],
   "source": [
    "# !pip install torch torchvision torchaudio"
   ]
  },
  {
   "cell_type": "code",
   "execution_count": 8,
   "id": "4fa2d86b",
   "metadata": {},
   "outputs": [],
   "source": [
    "# !sudo conda install pytorch -c pytorch -y"
   ]
  },
  {
   "cell_type": "code",
   "execution_count": 1,
   "id": "c5f04c46",
   "metadata": {},
   "outputs": [
    {
     "data": {
      "text/plain": [
       "'2.2.1'"
      ]
     },
     "execution_count": 1,
     "metadata": {},
     "output_type": "execute_result"
    }
   ],
   "source": [
    "import torch\n",
    "torch.__version__"
   ]
  },
  {
   "cell_type": "code",
   "execution_count": 2,
   "id": "2c29bebc",
   "metadata": {},
   "outputs": [
    {
     "name": "stdout",
     "output_type": "stream",
     "text": [
      "/usr/bin/sh: line 1: apt-get: command not found\r\n"
     ]
    }
   ],
   "source": [
    "!sudo yum update && sudo yum install -y libsndfile1 ffmpeg"
   ]
  },
  {
   "cell_type": "code",
   "execution_count": null,
   "id": "0059ee4d",
   "metadata": {},
   "outputs": [],
   "source": [
    "pip install Cython\n"
   ]
  },
  {
   "cell_type": "code",
   "execution_count": null,
   "id": "b34f709f",
   "metadata": {},
   "outputs": [],
   "source": [
    "pip install nemo_toolkit['all']"
   ]
  },
  {
   "cell_type": "code",
   "execution_count": null,
   "id": "c70a110d",
   "metadata": {},
   "outputs": [],
   "source": []
  },
  {
   "cell_type": "code",
   "execution_count": null,
   "id": "2106fcc6",
   "metadata": {},
   "outputs": [],
   "source": []
  }
 ],
 "metadata": {
  "kernelspec": {
   "display_name": "Python 3",
   "language": "python",
   "name": "python3"
  },
  "language_info": {
   "codemirror_mode": {
    "name": "ipython",
    "version": 3
   },
   "file_extension": ".py",
   "mimetype": "text/x-python",
   "name": "python",
   "nbconvert_exporter": "python",
   "pygments_lexer": "ipython3",
   "version": "3.10.13"
  }
 },
 "nbformat": 4,
 "nbformat_minor": 5
}
