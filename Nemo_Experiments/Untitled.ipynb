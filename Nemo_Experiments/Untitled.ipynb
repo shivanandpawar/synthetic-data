{
 "cells": [
  {
   "cell_type": "code",
   "execution_count": 4,
   "id": "9b7631d2",
   "metadata": {},
   "outputs": [],
   "source": [
    "# !pip install torch"
   ]
  },
  {
   "cell_type": "code",
   "execution_count": 5,
   "id": "783b7cde",
   "metadata": {},
   "outputs": [],
   "source": [
    "# !pip install torch torchvision torchaudio"
   ]
  },
  {
   "cell_type": "code",
   "execution_count": 8,
   "id": "ad912984",
   "metadata": {},
   "outputs": [],
   "source": [
    "# !sudo conda install pytorch -c pytorch -y"
   ]
  },
  {
   "cell_type": "code",
   "execution_count": 1,
   "id": "6feb6000",
   "metadata": {},
   "outputs": [
    {
     "data": {
      "text/plain": [
       "'2.2.1'"
      ]
     },
     "execution_count": 1,
     "metadata": {},
     "output_type": "execute_result"
    }
   ],
   "source": [
    "import torch\n",
    "torch.__version__"
   ]
  },
  {
   "cell_type": "code",
   "execution_count": 11,
   "id": "2c29bebc",
   "metadata": {},
   "outputs": [],
   "source": [
    "# !sudo yum update -y"
   ]
  },
  {
   "cell_type": "code",
   "execution_count": 11,
   "id": "315b8baf",
   "metadata": {},
   "outputs": [
    {
     "name": "stdout",
     "output_type": "stream",
     "text": [
      "Last metadata expiration check: 0:09:23 ago on Wed Mar 27 06:30:19 2024.\n",
      "No match for argument: \u001b[1mffmpeg\u001b[m\n",
      "Error: Unable to find a match: ffmpeg\n"
     ]
    }
   ],
   "source": [
    "!sudo yum install -y ffmpeg"
   ]
  },
  {
   "cell_type": "code",
   "execution_count": 10,
   "id": "9c2f83df",
   "metadata": {},
   "outputs": [
    {
     "name": "stdout",
     "output_type": "stream",
     "text": [
      "/usr/bin/sh: line 1: libsndfile: command not found\r\n"
     ]
    }
   ],
   "source": [
    "!libsndfile"
   ]
  },
  {
   "cell_type": "code",
   "execution_count": null,
   "id": "a9e4f191",
   "metadata": {},
   "outputs": [],
   "source": []
  },
  {
   "cell_type": "code",
   "execution_count": null,
   "id": "14064bb6",
   "metadata": {},
   "outputs": [],
   "source": [
    "pip install Cython\n"
   ]
  },
  {
   "cell_type": "code",
   "execution_count": 7,
   "id": "749a8b5e",
   "metadata": {},
   "outputs": [],
   "source": [
    "# !cat /etc/redhat-release"
   ]
  },
  {
   "cell_type": "code",
   "execution_count": null,
   "id": "a888592d",
   "metadata": {},
   "outputs": [],
   "source": [
    "pip install nemo_toolkit['all']"
   ]
  },
  {
   "cell_type": "code",
   "execution_count": null,
   "id": "c70a110d",
   "metadata": {},
   "outputs": [],
   "source": []
  },
  {
   "cell_type": "code",
   "execution_count": null,
   "id": "2106fcc6",
   "metadata": {},
   "outputs": [],
   "source": []
  }
 ],
 "metadata": {
  "kernelspec": {
   "display_name": "Python 3",
   "language": "python",
   "name": "python3"
  },
  "language_info": {
   "codemirror_mode": {
    "name": "ipython",
    "version": 3
   },
   "file_extension": ".py",
   "mimetype": "text/x-python",
   "name": "python",
   "nbconvert_exporter": "python",
   "pygments_lexer": "ipython3",
   "version": "3.10.13"
  }
 },
 "nbformat": 4,
 "nbformat_minor": 5
}
